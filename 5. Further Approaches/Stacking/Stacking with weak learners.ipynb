{
 "cells": [
  {
   "cell_type": "code",
   "execution_count": 26,
   "metadata": {},
   "outputs": [],
   "source": [
    "import pandas as pd\n",
    "import numpy as np\n",
    "import matplotlib.pyplot as plt\n",
    "import warnings\n",
    "warnings.simplefilter(action='ignore', category=FutureWarning)\n",
    "warnings.simplefilter(\"ignore\", category=DeprecationWarning) \n",
    "warnings.simplefilter(\"ignore\", UserWarning)\n",
    "\n",
    "pd.set_option('display.max_rows', 500)\n",
    "pd.set_option('display.max_columns', 500)\n",
    "pd.set_option('display.width', 1000)\n",
    "\n",
    "njobs = -1"
   ]
  },
  {
   "cell_type": "code",
   "execution_count": 3,
   "metadata": {},
   "outputs": [],
   "source": [
    "train=pd.read_csv('../../1. Task and Data/train.csv',sep='|')\n",
    "test=pd.read_csv('../../1. Task and Data/test.csv',sep='|')"
   ]
  },
  {
   "cell_type": "code",
   "execution_count": 4,
   "metadata": {},
   "outputs": [
    {
     "name": "stdout",
     "output_type": "stream",
     "text": [
      "0    1775\n",
      "1     104\n",
      "Name: fraud, dtype: int64\n",
      "0    0.944651\n",
      "1    0.055349\n",
      "Name: fraud, dtype: float64\n"
     ]
    }
   ],
   "source": [
    "print(train.fraud.value_counts())\n",
    "print(train.fraud.value_counts() / len(train))"
   ]
  },
  {
   "cell_type": "markdown",
   "metadata": {},
   "source": [
    "# Feature Engineering"
   ]
  },
  {
   "cell_type": "code",
   "execution_count": 5,
   "metadata": {},
   "outputs": [],
   "source": [
    "# for training set\n",
    "\n",
    "train['scannedLineItems'] = train['scannedLineItemsPerSecond'] * train['totalScanTimeInSeconds']\n",
    "train['pricePerScannedLineItem'] = train['grandTotal'] / train['scannedLineItems']\n",
    "train['scansWithoutRegistrationPerScannedLineItem'] = train['scansWithoutRegistration'] / train['scannedLineItems']\n",
    "train['quantityModificationsPerScannedLineItem'] = train['quantityModifications'] / train['scannedLineItems']\n",
    "train['lineItemVoidsPerSecond'] = train['lineItemVoids'] / train['totalScanTimeInSeconds']\n",
    "train['scansWithoutRegistrationPerSecond'] = train['scansWithoutRegistration'] / train['totalScanTimeInSeconds']\n",
    "train['quantityModificationsPerSecond'] = train['quantityModifications'] / train['totalScanTimeInSeconds']\n",
    "train['secondsPerEuro'] = train['totalScanTimeInSeconds'] / train['grandTotal']\n",
    "train['lineItemVoidsPerEuro'] = train['lineItemVoids'] / train['grandTotal']\n",
    "train['scansWithoutRegistrationPerEuro'] = train['scansWithoutRegistration'] / train['grandTotal']\n",
    "train['quantityModificationsPerEuro'] = train['quantityModifications'] / train['grandTotal']\n",
    "\n",
    "test['scannedLineItems'] = test['scannedLineItemsPerSecond'] * test['totalScanTimeInSeconds']\n",
    "test['pricePerScannedLineItem'] = test['grandTotal'] / test['scannedLineItems']\n",
    "test['scansWithoutRegistrationPerScannedLineItem'] = test['scansWithoutRegistration'] / test['scannedLineItems']\n",
    "test['quantityModificationsPerScannedLineItem'] = test['quantityModifications'] / test['scannedLineItems']\n",
    "test['lineItemVoidsPerSecond'] = test['lineItemVoids'] / test['totalScanTimeInSeconds']\n",
    "test['scansWithoutRegistrationPerSecond'] = test['scansWithoutRegistration'] / test['totalScanTimeInSeconds']\n",
    "test['quantityModificationsPerSecond'] = test['quantityModifications'] / test['totalScanTimeInSeconds']\n",
    "test['secondsPerEuro'] = test['totalScanTimeInSeconds'] / test['grandTotal']\n",
    "test['lineItemVoidsPerEuro'] = test['lineItemVoids'] / test['grandTotal']\n",
    "test['scansWithoutRegistrationPerEuro'] = test['scansWithoutRegistration'] / test['grandTotal']\n",
    "test['quantityModificationsPerEuro'] = test['quantityModifications'] / test['grandTotal']"
   ]
  },
  {
   "cell_type": "code",
   "execution_count": 6,
   "metadata": {},
   "outputs": [],
   "source": [
    "test.loc[test['grandTotal'] == 0.00, 'secondsPerEuro'] = test['totalScanTimeInSeconds'] / 0.01\n",
    "test.loc[test['grandTotal'] == 0.00, 'lineItemVoidsPerEuro'] = test['lineItemVoids'] / 0.01\n",
    "test.loc[test['grandTotal'] == 0.00, 'scansWithoutRegistrationPerEuro'] = test['scansWithoutRegistration'] / 0.01\n",
    "test.loc[test['grandTotal'] == 0.00, 'quantityModificationsPerEuro'] = test['quantityModifications'] / 0.01"
   ]
  },
  {
   "cell_type": "markdown",
   "metadata": {},
   "source": [
    "Add tSNE/PCA Features"
   ]
  },
  {
   "cell_type": "code",
   "execution_count": 7,
   "metadata": {},
   "outputs": [],
   "source": [
    "train_test_combined = pd.concat([train, test], ignore_index=True)"
   ]
  },
  {
   "cell_type": "code",
   "execution_count": 8,
   "metadata": {},
   "outputs": [
    {
     "name": "stdout",
     "output_type": "stream",
     "text": [
      "(500000, 20) (500000,)\n"
     ]
    }
   ],
   "source": [
    "X_train_test_combined = train_test_combined.drop('fraud',axis=1)\n",
    "Y_train_test_combined = train_test_combined['fraud']\n",
    "print(X_train_test_combined.shape, Y_train_test_combined.shape)"
   ]
  },
  {
   "cell_type": "code",
   "execution_count": 9,
   "metadata": {},
   "outputs": [],
   "source": [
    "from sklearn.preprocessing import MinMaxScaler\n",
    "from sklearn.preprocessing import StandardScaler\n",
    "from sklearn.preprocessing import FunctionTransformer \n",
    "\n",
    "feature_scaler = MinMaxScaler()\n",
    "X_train_test_combined = pd.DataFrame(feature_scaler.fit_transform(X_train_test_combined.values), columns=X_train_test_combined.columns, index=X_train_test_combined.index)\n"
   ]
  },
  {
   "cell_type": "code",
   "execution_count": 10,
   "metadata": {},
   "outputs": [
    {
     "name": "stdout",
     "output_type": "stream",
     "text": [
      "Explained variation per principal component: [0.16124041 0.1559011  0.14737624 0.13509126 0.13197732 0.11312753\n",
      " 0.11161208]\n",
      "Cumulative explained variation for 7 principal components: 0.9563259397521087\n"
     ]
    }
   ],
   "source": [
    "from sklearn.decomposition import PCA\n",
    "\n",
    "X_train_test_combined_PCA = X_train_test_combined.copy()\n",
    "\n",
    "pca = PCA(n_components=7)\n",
    "pca_result = pca.fit_transform(X_train_test_combined_PCA)\n",
    "\n",
    "X_train_test_combined_PCA['pca-one'] = pca_result[:,0]\n",
    "X_train_test_combined_PCA['pca-two'] = pca_result[:,1] \n",
    "X_train_test_combined_PCA['pca-three'] = pca_result[:,2]\n",
    "\n",
    "X_train_test_combined_PCA['pca-one'] = pca_result[:,0]\n",
    "X_train_test_combined_PCA['pca-two'] = pca_result[:,1] \n",
    "X_train_test_combined_PCA['pca-three'] = pca_result[:,2]\n",
    "\n",
    "print('Explained variation per principal component: {}'.format(pca.explained_variance_ratio_))\n",
    "print('Cumulative explained variation for 7 principal components: {}'.format(np.sum(pca.explained_variance_ratio_)))"
   ]
  },
  {
   "cell_type": "code",
   "execution_count": 11,
   "metadata": {},
   "outputs": [],
   "source": [
    "train['pca_axis_1'] = X_train_test_combined_PCA['pca-one'].head(len(train))\n",
    "train['pca_axis_2'] = X_train_test_combined_PCA['pca-two'].head(len(train))"
   ]
  },
  {
   "cell_type": "code",
   "execution_count": 12,
   "metadata": {},
   "outputs": [],
   "source": [
    "X_train_test_combined_tSNE = X_train_test_combined.copy()\n",
    "tsne_results = pd.read_pickle(\"tsneResult.pkl\").values"
   ]
  },
  {
   "cell_type": "code",
   "execution_count": 13,
   "metadata": {},
   "outputs": [],
   "source": [
    "X_train_test_combined_tSNE['tsne-one'] = tsne_results[:,0]\n",
    "X_train_test_combined_tSNE['tsne-two'] = tsne_results[:,1]"
   ]
  },
  {
   "cell_type": "code",
   "execution_count": 14,
   "metadata": {},
   "outputs": [
    {
     "data": {
      "text/html": [
       "<div>\n",
       "<style scoped>\n",
       "    .dataframe tbody tr th:only-of-type {\n",
       "        vertical-align: middle;\n",
       "    }\n",
       "\n",
       "    .dataframe tbody tr th {\n",
       "        vertical-align: top;\n",
       "    }\n",
       "\n",
       "    .dataframe thead th {\n",
       "        text-align: right;\n",
       "    }\n",
       "</style>\n",
       "<table border=\"1\" class=\"dataframe\">\n",
       "  <thead>\n",
       "    <tr style=\"text-align: right;\">\n",
       "      <th></th>\n",
       "      <th>grandTotal</th>\n",
       "      <th>lineItemVoids</th>\n",
       "      <th>lineItemVoidsPerEuro</th>\n",
       "      <th>lineItemVoidsPerPosition</th>\n",
       "      <th>lineItemVoidsPerSecond</th>\n",
       "      <th>pricePerScannedLineItem</th>\n",
       "      <th>quantityModifications</th>\n",
       "      <th>quantityModificationsPerEuro</th>\n",
       "      <th>quantityModificationsPerScannedLineItem</th>\n",
       "      <th>quantityModificationsPerSecond</th>\n",
       "      <th>scannedLineItems</th>\n",
       "      <th>scannedLineItemsPerSecond</th>\n",
       "      <th>scansWithoutRegistration</th>\n",
       "      <th>scansWithoutRegistrationPerEuro</th>\n",
       "      <th>scansWithoutRegistrationPerScannedLineItem</th>\n",
       "      <th>scansWithoutRegistrationPerSecond</th>\n",
       "      <th>secondsPerEuro</th>\n",
       "      <th>totalScanTimeInSeconds</th>\n",
       "      <th>trustLevel</th>\n",
       "      <th>valuePerSecond</th>\n",
       "      <th>tsne-one</th>\n",
       "      <th>tsne-two</th>\n",
       "    </tr>\n",
       "  </thead>\n",
       "  <tbody>\n",
       "    <tr>\n",
       "      <th>0</th>\n",
       "      <td>0.547055</td>\n",
       "      <td>0.636364</td>\n",
       "      <td>0.000116</td>\n",
       "      <td>0.021944</td>\n",
       "      <td>0.000604</td>\n",
       "      <td>0.018864</td>\n",
       "      <td>0.6</td>\n",
       "      <td>0.000110</td>\n",
       "      <td>0.020690</td>\n",
       "      <td>0.000569</td>\n",
       "      <td>0.965517</td>\n",
       "      <td>0.000899</td>\n",
       "      <td>0.0</td>\n",
       "      <td>0.000000</td>\n",
       "      <td>0.000000</td>\n",
       "      <td>0.000000</td>\n",
       "      <td>0.000105</td>\n",
       "      <td>0.575410</td>\n",
       "      <td>0.8</td>\n",
       "      <td>0.000520</td>\n",
       "      <td>0.371124</td>\n",
       "      <td>2.065992</td>\n",
       "    </tr>\n",
       "    <tr>\n",
       "      <th>1</th>\n",
       "      <td>0.273627</td>\n",
       "      <td>0.454545</td>\n",
       "      <td>0.000166</td>\n",
       "      <td>0.032468</td>\n",
       "      <td>0.004209</td>\n",
       "      <td>0.019545</td>\n",
       "      <td>0.8</td>\n",
       "      <td>0.000292</td>\n",
       "      <td>0.057143</td>\n",
       "      <td>0.007407</td>\n",
       "      <td>0.448276</td>\n",
       "      <td>0.004303</td>\n",
       "      <td>0.2</td>\n",
       "      <td>0.000073</td>\n",
       "      <td>0.014286</td>\n",
       "      <td>0.001852</td>\n",
       "      <td>0.000022</td>\n",
       "      <td>0.058470</td>\n",
       "      <td>0.4</td>\n",
       "      <td>0.002541</td>\n",
       "      <td>1.413292</td>\n",
       "      <td>-0.542113</td>\n",
       "    </tr>\n",
       "    <tr>\n",
       "      <th>2</th>\n",
       "      <td>0.621662</td>\n",
       "      <td>0.272727</td>\n",
       "      <td>0.000044</td>\n",
       "      <td>0.020979</td>\n",
       "      <td>0.000180</td>\n",
       "      <td>0.047820</td>\n",
       "      <td>1.0</td>\n",
       "      <td>0.000161</td>\n",
       "      <td>0.076923</td>\n",
       "      <td>0.000660</td>\n",
       "      <td>0.413793</td>\n",
       "      <td>0.000268</td>\n",
       "      <td>1.0</td>\n",
       "      <td>0.000161</td>\n",
       "      <td>0.076923</td>\n",
       "      <td>0.000660</td>\n",
       "      <td>0.000133</td>\n",
       "      <td>0.827869</td>\n",
       "      <td>0.4</td>\n",
       "      <td>0.000411</td>\n",
       "      <td>2.043197</td>\n",
       "      <td>-0.529174</td>\n",
       "    </tr>\n",
       "    <tr>\n",
       "      <th>3</th>\n",
       "      <td>0.923192</td>\n",
       "      <td>0.727273</td>\n",
       "      <td>0.000079</td>\n",
       "      <td>0.025078</td>\n",
       "      <td>0.000406</td>\n",
       "      <td>0.031834</td>\n",
       "      <td>0.8</td>\n",
       "      <td>0.000087</td>\n",
       "      <td>0.027586</td>\n",
       "      <td>0.000447</td>\n",
       "      <td>0.965517</td>\n",
       "      <td>0.000522</td>\n",
       "      <td>0.4</td>\n",
       "      <td>0.000043</td>\n",
       "      <td>0.013793</td>\n",
       "      <td>0.000223</td>\n",
       "      <td>0.000106</td>\n",
       "      <td>0.978142</td>\n",
       "      <td>1.0</td>\n",
       "      <td>0.000517</td>\n",
       "      <td>1.375445</td>\n",
       "      <td>2.444786</td>\n",
       "    </tr>\n",
       "    <tr>\n",
       "      <th>4</th>\n",
       "      <td>0.815382</td>\n",
       "      <td>0.272727</td>\n",
       "      <td>0.000033</td>\n",
       "      <td>0.010101</td>\n",
       "      <td>0.000634</td>\n",
       "      <td>0.030199</td>\n",
       "      <td>0.4</td>\n",
       "      <td>0.000049</td>\n",
       "      <td>0.014815</td>\n",
       "      <td>0.000930</td>\n",
       "      <td>0.896552</td>\n",
       "      <td>0.002075</td>\n",
       "      <td>0.7</td>\n",
       "      <td>0.000086</td>\n",
       "      <td>0.025926</td>\n",
       "      <td>0.001628</td>\n",
       "      <td>0.000029</td>\n",
       "      <td>0.234426</td>\n",
       "      <td>0.8</td>\n",
       "      <td>0.001902</td>\n",
       "      <td>-0.579406</td>\n",
       "      <td>1.961413</td>\n",
       "    </tr>\n",
       "  </tbody>\n",
       "</table>\n",
       "</div>"
      ],
      "text/plain": [
       "   grandTotal  lineItemVoids  lineItemVoidsPerEuro  lineItemVoidsPerPosition  lineItemVoidsPerSecond  pricePerScannedLineItem  quantityModifications  quantityModificationsPerEuro  quantityModificationsPerScannedLineItem  quantityModificationsPerSecond  scannedLineItems  scannedLineItemsPerSecond  scansWithoutRegistration  scansWithoutRegistrationPerEuro  scansWithoutRegistrationPerScannedLineItem  scansWithoutRegistrationPerSecond  secondsPerEuro  totalScanTimeInSeconds  trustLevel  valuePerSecond  tsne-one  tsne-two\n",
       "0    0.547055       0.636364              0.000116                  0.021944                0.000604                 0.018864                    0.6                      0.000110                                 0.020690                        0.000569          0.965517                   0.000899                       0.0                         0.000000                                    0.000000                           0.000000        0.000105                0.575410         0.8        0.000520  0.371124  2.065992\n",
       "1    0.273627       0.454545              0.000166                  0.032468                0.004209                 0.019545                    0.8                      0.000292                                 0.057143                        0.007407          0.448276                   0.004303                       0.2                         0.000073                                    0.014286                           0.001852        0.000022                0.058470         0.4        0.002541  1.413292 -0.542113\n",
       "2    0.621662       0.272727              0.000044                  0.020979                0.000180                 0.047820                    1.0                      0.000161                                 0.076923                        0.000660          0.413793                   0.000268                       1.0                         0.000161                                    0.076923                           0.000660        0.000133                0.827869         0.4        0.000411  2.043197 -0.529174\n",
       "3    0.923192       0.727273              0.000079                  0.025078                0.000406                 0.031834                    0.8                      0.000087                                 0.027586                        0.000447          0.965517                   0.000522                       0.4                         0.000043                                    0.013793                           0.000223        0.000106                0.978142         1.0        0.000517  1.375445  2.444786\n",
       "4    0.815382       0.272727              0.000033                  0.010101                0.000634                 0.030199                    0.4                      0.000049                                 0.014815                        0.000930          0.896552                   0.002075                       0.7                         0.000086                                    0.025926                           0.001628        0.000029                0.234426         0.8        0.001902 -0.579406  1.961413"
      ]
     },
     "execution_count": 14,
     "metadata": {},
     "output_type": "execute_result"
    }
   ],
   "source": [
    "X_train_test_combined_tSNE.head()"
   ]
  },
  {
   "cell_type": "code",
   "execution_count": 15,
   "metadata": {},
   "outputs": [],
   "source": [
    "train['tsne_axis_1'] = X_train_test_combined_tSNE['tsne-one'].head(len(train))\n",
    "train['tsne_axis_2'] = X_train_test_combined_tSNE['tsne-two'].head(len(train))"
   ]
  },
  {
   "cell_type": "code",
   "execution_count": 16,
   "metadata": {},
   "outputs": [],
   "source": [
    "from sklearn.model_selection import cross_val_score\n",
    "from sklearn.metrics import confusion_matrix\n",
    "from sklearn.metrics import make_scorer\n",
    "\n",
    "def my_custom_loss_func(y_true, y_pred):\n",
    "    cm = confusion_matrix(y_true,y_pred)\n",
    "    tn, fp, fn, tp = cm.ravel()\n",
    "    score = ((-25)*fp + (-5)*fn + 5*tp) / len(y_true)\n",
    "    return (score)\n",
    "\n",
    "my_custom_score = make_scorer(my_custom_loss_func, greater_is_better=True)\n",
    "\n",
    "from sklearn.model_selection import StratifiedKFold\n",
    "from sklearn.model_selection import LeaveOneOut\n",
    "\n",
    "skf = StratifiedKFold(n_splits=10)\n",
    "loo = LeaveOneOut()"
   ]
  },
  {
   "cell_type": "code",
   "execution_count": 17,
   "metadata": {},
   "outputs": [],
   "source": [
    "def get_monetary_value(cm):\n",
    "        tn, fp, fn, tp = cm.ravel()\n",
    "        print(\"True negative: \", tn)\n",
    "        print(\"False positive: \", fp)\n",
    "        print(\"False negative: \", fn)\n",
    "        print(\"True positive: \", tp)\n",
    "        score = (-25)*fp + (-5)*fn + 5*tp\n",
    "        print(str(score) + \" for \" + str(sum(sum(cm))) + \" instances in the test set\")\n",
    "        print(str(score/sum(sum(cm))) + \" per instance in the test set\")\n",
    "        return score"
   ]
  },
  {
   "cell_type": "markdown",
   "metadata": {},
   "source": [
    "# Ensemble Methods"
   ]
  },
  {
   "cell_type": "markdown",
   "metadata": {},
   "source": [
    "#### Base Estimators"
   ]
  },
  {
   "cell_type": "code",
   "execution_count": 82,
   "metadata": {},
   "outputs": [],
   "source": [
    "from xgboost import XGBClassifier\n",
    "from sklearn.ensemble import ExtraTreesClassifier\n",
    "from sklearn.ensemble import AdaBoostClassifier\n",
    "from sklearn.ensemble import RandomForestClassifier\n",
    "from sklearn.linear_model import LogisticRegression\n",
    "from sklearn.naive_bayes import GaussianNB\n",
    "from sklearn.neighbors.classification import KNeighborsClassifier\n",
    "from sklearn.svm import SVC\n",
    "from sklearn.linear_model.ridge import RidgeClassifier\n",
    "from sklearn.discriminant_analysis import LinearDiscriminantAnalysis\n",
    "\n",
    "log_reg = LogisticRegression(C = 1.2000000000000002,\n",
    "                           fit_intercept = True,\n",
    "                           solver = 'newton-cg')\n",
    "extra_trees = ExtraTreesClassifier(criterion = 'gini',\n",
    "                                  n_estimators = 69)\n",
    "random_forest = RandomForestClassifier(criterion = 'entropy', \n",
    "                                  n_estimators=40)\n",
    "lda = LinearDiscriminantAnalysis(n_components = 1, solver = 'lsqr')\n",
    "svc = SVC(C=4.0, class_weight='balanced', coef0=0.0,\n",
    "        kernel='linear',\n",
    "        random_state=42)\n",
    "k_neighbors = KNeighborsClassifier(n_neighbors = 10, weights = 'distance', p = 2)\n",
    "gaussian_nb = GaussianNB(priors = None, var_smoothing = 1e-09)\n",
    "\n",
    "\n",
    "\n",
    "\n",
    "#Boosting:\n",
    "xg_boost = XGBClassifier(objective=\"binary:logistic\",\n",
    "                    random_state=42,\n",
    "                    max_depth=5,\n",
    "                    min_child_weight= 1,\n",
    "                    gamma = 0,\n",
    "                    subsample = 0.8,\n",
    "                    colsample_bytree = 0.8,\n",
    "                    scale_pos_weight = 1,\n",
    "                    n_jobs = -1\n",
    "                   )\n",
    "ada_boost = AdaBoostClassifier(n_estimators=100,\n",
    "                         learning_rate=1)\n",
    "\n",
    "\n",
    "\n",
    "\n",
    "clfs_labeled=[('lr', log_reg), ('et', extra_trees), ('lda', lda), ('svc', svc), ('kn', k_neighbors),('nb', gaussian_nb)]\n",
    "clfs_unlabeled=[log_reg, extra_trees, lda, svc, k_neighbors, gaussian_nb]\n",
    "clf_labels=labels = ['lr', 'et', 'lda', 'svc', 'kn', 'nb']"
   ]
  },
  {
   "cell_type": "markdown",
   "metadata": {},
   "source": [
    "### vecstack\n",
    "https://github.com/vecxoz/vecstack"
   ]
  },
  {
   "cell_type": "markdown",
   "metadata": {},
   "source": [
    "With SKLearn Wrapper:"
   ]
  },
  {
   "cell_type": "code",
   "execution_count": 20,
   "metadata": {},
   "outputs": [
    {
     "name": "stdout",
     "output_type": "stream",
     "text": [
      "task:         [classification]\n",
      "n_classes:    [2]\n",
      "metric:       [accuracy_score]\n",
      "variant:      [A]\n",
      "n_estimators: [6]\n",
      "\n",
      "estimator  0: [lr: LogisticRegression]\n",
      "    fold  0:  [0.98085106]\n",
      "    fold  1:  [0.98936170]\n",
      "    fold  2:  [0.99787234]\n",
      "    fold  3:  [0.98081023]\n",
      "    ----\n",
      "    MEAN:     [0.98722384] + [0.00706590]\n",
      "\n",
      "estimator  1: [et: ExtraTreesClassifier]\n",
      "    fold  0:  [0.98297872]\n",
      "    fold  1:  [0.99361702]\n",
      "    fold  2:  [0.97872340]\n",
      "    fold  3:  [0.96588486]\n",
      "    ----\n",
      "    MEAN:     [0.98030100] + [0.00993479]\n",
      "\n",
      "estimator  2: [lda: LinearDiscriminantAnalysis]\n",
      "    fold  0:  [0.96595745]\n",
      "    fold  1:  [0.98085106]\n",
      "    fold  2:  [0.98510638]\n",
      "    fold  3:  [0.95309168]\n",
      "    ----\n",
      "    MEAN:     [0.97125164] + [0.01266802]\n",
      "\n",
      "estimator  3: [svc: SVC]\n",
      "    fold  0:  [0.98085106]\n",
      "    fold  1:  [0.99148936]\n",
      "    fold  2:  [0.98936170]\n",
      "    fold  3:  [0.98933902]\n",
      "    ----\n",
      "    MEAN:     [0.98776029] + [0.00408351]\n",
      "\n",
      "estimator  4: [kn: KNeighborsClassifier]\n",
      "    fold  0:  [0.94468085]\n",
      "    fold  1:  [0.95744681]\n",
      "    fold  2:  [0.94255319]\n",
      "    fold  3:  [0.93390192]\n",
      "    ----\n",
      "    MEAN:     [0.94464569] + [0.00842136]\n",
      "\n",
      "estimator  5: [nb: GaussianNB]\n",
      "    fold  0:  [0.83404255]\n",
      "    fold  1:  [0.85319149]\n",
      "    fold  2:  [0.84893617]\n",
      "    fold  3:  [0.85927505]\n",
      "    ----\n",
      "    MEAN:     [0.84886132] + [0.00931125]\n",
      "\n",
      "Train set was detected.\n",
      "Transforming...\n",
      "\n",
      "estimator  0: [lr: LogisticRegression]\n",
      "    model from fold  0: done\n",
      "    model from fold  1: done\n",
      "    model from fold  2: done\n",
      "    model from fold  3: done\n",
      "    ----\n",
      "    DONE\n",
      "\n",
      "estimator  1: [et: ExtraTreesClassifier]\n",
      "    model from fold  0: done\n",
      "    model from fold  1: done\n",
      "    model from fold  2: done\n",
      "    model from fold  3: done\n",
      "    ----\n",
      "    DONE\n",
      "\n",
      "estimator  2: [lda: LinearDiscriminantAnalysis]\n",
      "    model from fold  0: done\n",
      "    model from fold  1: done\n",
      "    model from fold  2: done\n",
      "    model from fold  3: done\n",
      "    ----\n",
      "    DONE\n",
      "\n",
      "estimator  3: [svc: SVC]\n",
      "    model from fold  0: done\n",
      "    model from fold  1: done\n",
      "    model from fold  2: done\n",
      "    model from fold  3: done\n",
      "    ----\n",
      "    DONE\n",
      "\n",
      "estimator  4: [kn: KNeighborsClassifier]\n",
      "    model from fold  0: done\n",
      "    model from fold  1: done\n",
      "    model from fold  2: done\n",
      "    model from fold  3: done\n",
      "    ----\n",
      "    DONE\n",
      "\n",
      "estimator  5: [nb: GaussianNB]\n",
      "    model from fold  0: done\n",
      "    model from fold  1: done\n",
      "    model from fold  2: done\n",
      "    model from fold  3: done\n",
      "    ----\n",
      "    DONE\n",
      "\n"
     ]
    }
   ],
   "source": [
    "from vecstack import StackingTransformer\n",
    "\n",
    "stack = StackingTransformer(clfs_labeled, regression=False, verbose=2)\n",
    "\n",
    "stack = stack.fit(X,y)\n",
    "S_train2 = stack.transform(X)\n",
    "\n",
    "#stack = stack.fit(X_train, y_train)\n",
    "\n",
    "#S_train2 = stack.transform(X_train)\n",
    "#S_test2 = stack.transform(X_test)"
   ]
  },
  {
   "cell_type": "code",
   "execution_count": 21,
   "metadata": {},
   "outputs": [],
   "source": [
    "df_S_train2 = pd.DataFrame(S_train2)\n",
    "df_S_train2.columns = clf_labels"
   ]
  },
  {
   "cell_type": "code",
   "execution_count": 22,
   "metadata": {},
   "outputs": [
    {
     "data": {
      "image/png": "[encoded data removed]",
      "text/plain": [
       "<Figure size 432x288 with 2 Axes>"
      ]
     },
     "metadata": {
      "needs_background": "light"
     },
     "output_type": "display_data"
    }
   ],
   "source": [
    "import matplotlib.pyplot as plt\n",
    "\n",
    "corr = df_S_train2.corr()\n",
    "fig = plt.figure()\n",
    "ax = fig.add_subplot(111)\n",
    "cax = ax.matshow(corr,cmap='coolwarm', vmin=-1, vmax=1)\n",
    "fig.colorbar(cax)\n",
    "ticks = np.arange(0,len(df_S_train2.columns),1)\n",
    "ax.set_xticks(ticks)\n",
    "plt.xticks(rotation=90)\n",
    "ax.set_yticks(ticks)\n",
    "ax.set_xticklabels(df_S_train2.columns)\n",
    "ax.set_yticklabels(df_S_train2.columns)\n",
    "plt.show()"
   ]
  },
  {
   "cell_type": "code",
   "execution_count": 24,
   "metadata": {},
   "outputs": [
    {
     "name": "stdout",
     "output_type": "stream",
     "text": [
      "STrain2  (1879, 6)\n",
      "XTrain  (1879, 24)\n",
      "STrainCombined  (1879, 30)\n"
     ]
    }
   ],
   "source": [
    "print(\"STrain2 \", df_S_train2.shape)\n",
    "print(\"XTrain \", X.shape)\n",
    "\n",
    "S_train_combined = pd.concat([X, df_S_train2], axis =1)\n",
    "print(\"STrainCombined \", S_train_combined.shape)\n",
    "#S_train_combined\n",
    "\n",
    "#model = xg_boost.fit(S_train_combined, y_train)\n",
    "#y_pred = model.predict(S_test2)\n",
    "\n",
    "#cm = confusion_matrix(y_test, y_pred)\n",
    "#get_monetary_value(cm)"
   ]
  },
  {
   "cell_type": "code",
   "execution_count": 88,
   "metadata": {},
   "outputs": [
    {
     "data": {
      "text/html": [
       "<div>\n",
       "<style scoped>\n",
       "    .dataframe tbody tr th:only-of-type {\n",
       "        vertical-align: middle;\n",
       "    }\n",
       "\n",
       "    .dataframe tbody tr th {\n",
       "        vertical-align: top;\n",
       "    }\n",
       "\n",
       "    .dataframe thead th {\n",
       "        text-align: right;\n",
       "    }\n",
       "</style>\n",
       "<table border=\"1\" class=\"dataframe\">\n",
       "  <thead>\n",
       "    <tr style=\"text-align: right;\">\n",
       "      <th></th>\n",
       "      <th>Importance</th>\n",
       "    </tr>\n",
       "  </thead>\n",
       "  <tbody>\n",
       "    <tr>\n",
       "      <th>svc</th>\n",
       "      <td>0.332815</td>\n",
       "    </tr>\n",
       "    <tr>\n",
       "      <th>lr</th>\n",
       "      <td>0.200191</td>\n",
       "    </tr>\n",
       "    <tr>\n",
       "      <th>lda</th>\n",
       "      <td>0.134184</td>\n",
       "    </tr>\n",
       "    <tr>\n",
       "      <th>tsne_axis_2</th>\n",
       "      <td>0.046865</td>\n",
       "    </tr>\n",
       "    <tr>\n",
       "      <th>nb</th>\n",
       "      <td>0.046223</td>\n",
       "    </tr>\n",
       "    <tr>\n",
       "      <th>trustLevel</th>\n",
       "      <td>0.043419</td>\n",
       "    </tr>\n",
       "    <tr>\n",
       "      <th>et</th>\n",
       "      <td>0.036556</td>\n",
       "    </tr>\n",
       "    <tr>\n",
       "      <th>pca_axis_2</th>\n",
       "      <td>0.022545</td>\n",
       "    </tr>\n",
       "    <tr>\n",
       "      <th>scannedLineItems</th>\n",
       "      <td>0.019359</td>\n",
       "    </tr>\n",
       "    <tr>\n",
       "      <th>valuePerSecond</th>\n",
       "      <td>0.010042</td>\n",
       "    </tr>\n",
       "    <tr>\n",
       "      <th>pricePerScannedLineItem</th>\n",
       "      <td>0.009790</td>\n",
       "    </tr>\n",
       "    <tr>\n",
       "      <th>scansWithoutRegistrationPerEuro</th>\n",
       "      <td>0.008684</td>\n",
       "    </tr>\n",
       "    <tr>\n",
       "      <th>pca_axis_1</th>\n",
       "      <td>0.007165</td>\n",
       "    </tr>\n",
       "    <tr>\n",
       "      <th>grandTotal</th>\n",
       "      <td>0.007119</td>\n",
       "    </tr>\n",
       "    <tr>\n",
       "      <th>scannedLineItemsPerSecond</th>\n",
       "      <td>0.007015</td>\n",
       "    </tr>\n",
       "    <tr>\n",
       "      <th>quantityModificationsPerEuro</th>\n",
       "      <td>0.006622</td>\n",
       "    </tr>\n",
       "    <tr>\n",
       "      <th>scansWithoutRegistrationPerScannedLineItem</th>\n",
       "      <td>0.006486</td>\n",
       "    </tr>\n",
       "    <tr>\n",
       "      <th>lineItemVoidsPerEuro</th>\n",
       "      <td>0.006152</td>\n",
       "    </tr>\n",
       "    <tr>\n",
       "      <th>tsne_axis_1</th>\n",
       "      <td>0.005745</td>\n",
       "    </tr>\n",
       "    <tr>\n",
       "      <th>secondsPerEuro</th>\n",
       "      <td>0.005508</td>\n",
       "    </tr>\n",
       "    <tr>\n",
       "      <th>totalScanTimeInSeconds</th>\n",
       "      <td>0.005204</td>\n",
       "    </tr>\n",
       "    <tr>\n",
       "      <th>lineItemVoidsPerSecond</th>\n",
       "      <td>0.004971</td>\n",
       "    </tr>\n",
       "    <tr>\n",
       "      <th>quantityModifications</th>\n",
       "      <td>0.004586</td>\n",
       "    </tr>\n",
       "    <tr>\n",
       "      <th>lineItemVoids</th>\n",
       "      <td>0.004561</td>\n",
       "    </tr>\n",
       "    <tr>\n",
       "      <th>scansWithoutRegistration</th>\n",
       "      <td>0.004485</td>\n",
       "    </tr>\n",
       "    <tr>\n",
       "      <th>quantityModificationsPerScannedLineItem</th>\n",
       "      <td>0.003580</td>\n",
       "    </tr>\n",
       "    <tr>\n",
       "      <th>lineItemVoidsPerPosition</th>\n",
       "      <td>0.003550</td>\n",
       "    </tr>\n",
       "    <tr>\n",
       "      <th>scansWithoutRegistrationPerSecond</th>\n",
       "      <td>0.003354</td>\n",
       "    </tr>\n",
       "    <tr>\n",
       "      <th>quantityModificationsPerSecond</th>\n",
       "      <td>0.003225</td>\n",
       "    </tr>\n",
       "    <tr>\n",
       "      <th>kn</th>\n",
       "      <td>0.000000</td>\n",
       "    </tr>\n",
       "  </tbody>\n",
       "</table>\n",
       "</div>"
      ],
      "text/plain": [
       "                                            Importance\n",
       "svc                                           0.332815\n",
       "lr                                            0.200191\n",
       "lda                                           0.134184\n",
       "tsne_axis_2                                   0.046865\n",
       "nb                                            0.046223\n",
       "trustLevel                                    0.043419\n",
       "et                                            0.036556\n",
       "pca_axis_2                                    0.022545\n",
       "scannedLineItems                              0.019359\n",
       "valuePerSecond                                0.010042\n",
       "pricePerScannedLineItem                       0.009790\n",
       "scansWithoutRegistrationPerEuro               0.008684\n",
       "pca_axis_1                                    0.007165\n",
       "grandTotal                                    0.007119\n",
       "scannedLineItemsPerSecond                     0.007015\n",
       "quantityModificationsPerEuro                  0.006622\n",
       "scansWithoutRegistrationPerScannedLineItem    0.006486\n",
       "lineItemVoidsPerEuro                          0.006152\n",
       "tsne_axis_1                                   0.005745\n",
       "secondsPerEuro                                0.005508\n",
       "totalScanTimeInSeconds                        0.005204\n",
       "lineItemVoidsPerSecond                        0.004971\n",
       "quantityModifications                         0.004586\n",
       "lineItemVoids                                 0.004561\n",
       "scansWithoutRegistration                      0.004485\n",
       "quantityModificationsPerScannedLineItem       0.003580\n",
       "lineItemVoidsPerPosition                      0.003550\n",
       "scansWithoutRegistrationPerSecond             0.003354\n",
       "quantityModificationsPerSecond                0.003225\n",
       "kn                                            0.000000"
      ]
     },
     "execution_count": 88,
     "metadata": {},
     "output_type": "execute_result"
    }
   ],
   "source": [
    "from sklearn.ensemble import ExtraTreesClassifier\n",
    "# load data\n",
    "\n",
    "y = train['fraud']\n",
    "x = S_train_combined\n",
    "\n",
    "# feature extraction\n",
    "model = ExtraTreesClassifier(criterion = 'entropy')\n",
    "model.fit(x, y)\n",
    "\n",
    "pd.DataFrame(model.feature_importances_, list(x), columns =['Importance']).sort_values(by='Importance', ascending = False)"
   ]
  },
  {
   "cell_type": "markdown",
   "metadata": {},
   "source": [
    "# Model tuning"
   ]
  },
  {
   "cell_type": "code",
   "execution_count": 90,
   "metadata": {},
   "outputs": [],
   "source": [
    "from sklearn.ensemble import VotingClassifier\n",
    "\n",
    "estimators = [('ada', ada_boost),('xgb', xg_boost)]\n",
    "\n",
    "voting_est = VotingClassifier(estimators = estimators,\n",
    "                                       voting = 'soft', \n",
    "                                       weights = [5,3],\n",
    "                                       n_jobs = 50)\n",
    "\n",
    "def combinations_on_off(num_classifiers):\n",
    "    return [[int(x) for x in list(\"{0:0b}\".format(i).zfill(num_classifiers))]\n",
    "            for i in range(1, 2 ** num_classifiers)]\n",
    "\n",
    "\n",
    "param_grid = dict(\n",
    "    weights=[[5,3], [1,1], [3,5]],#combinations_on_off(len(estimators)),\n",
    "    voting=['soft'])"
   ]
  },
  {
   "cell_type": "markdown",
   "metadata": {},
   "source": [
    "#### Grid Search"
   ]
  },
  {
   "cell_type": "code",
   "execution_count": 91,
   "metadata": {},
   "outputs": [],
   "source": [
    "from sklearn.model_selection import GridSearchCV\n",
    "\n",
    "\n",
    "\n",
    "model_tuning_factory = [\n",
    "    GridSearchCV(voting_est, \n",
    "                    param_grid=param_grid,\n",
    "                    cv=skf,\n",
    "                    n_jobs=-1, \n",
    "                    verbose=10, \n",
    "                    scoring=my_custom_score)\n",
    "                ]"
   ]
  },
  {
   "cell_type": "markdown",
   "metadata": {},
   "source": [
    "#### Random Search"
   ]
  },
  {
   "cell_type": "code",
   "execution_count": 92,
   "metadata": {},
   "outputs": [],
   "source": [
    "from sklearn.model_selection import RandomizedSearchCV\n",
    "\n",
    "iterations = 1\n",
    "\n",
    "model_tuning_factory_randomized = [\n",
    "    RandomizedSearchCV(voting_est, \n",
    "                    param_grid,\n",
    "                    cv=skf,\n",
    "                    n_jobs=-1, \n",
    "                    verbose=10,\n",
    "                    n_iter=iterations,\n",
    "                    scoring=my_custom_score)\n",
    "                ]"
   ]
  },
  {
   "cell_type": "code",
   "execution_count": 93,
   "metadata": {},
   "outputs": [],
   "source": [
    "Y = train['fraud']\n",
    "X = S_train_combined"
   ]
  },
  {
   "cell_type": "code",
   "execution_count": 94,
   "metadata": {},
   "outputs": [
    {
     "name": "stderr",
     "output_type": "stream",
     "text": [
      "C:\\Users\\Lukas\\Anaconda3\\lib\\site-packages\\sklearn\\feature_selection\\univariate_selection.py:115: RuntimeWarning: invalid value encountered in true_divide\n",
      "  f = msb / msw\n",
      "[Parallel(n_jobs=-1)]: Using backend LokyBackend with 8 concurrent workers.\n"
     ]
    },
    {
     "name": "stdout",
     "output_type": "stream",
     "text": [
      "Fitting 10 folds for each of 3 candidates, totalling 30 fits\n"
     ]
    },
    {
     "name": "stderr",
     "output_type": "stream",
     "text": [
      "[Parallel(n_jobs=-1)]: Done   2 tasks      | elapsed:    7.2s\n",
      "[Parallel(n_jobs=-1)]: Done   9 tasks      | elapsed:    8.6s\n",
      "[Parallel(n_jobs=-1)]: Done  19 out of  30 | elapsed:   10.1s remaining:    5.8s\n",
      "[Parallel(n_jobs=-1)]: Done  23 out of  30 | elapsed:   10.5s remaining:    3.1s\n",
      "[Parallel(n_jobs=-1)]: Done  27 out of  30 | elapsed:   10.9s remaining:    1.1s\n",
      "[Parallel(n_jobs=-1)]: Done  30 out of  30 | elapsed:   11.0s finished\n"
     ]
    },
    {
     "name": "stdout",
     "output_type": "stream",
     "text": [
      "Finished VotingClassifier with No Scaling and 1 features after 18.82 seconds\n"
     ]
    },
    {
     "name": "stderr",
     "output_type": "stream",
     "text": [
      "C:\\Users\\Lukas\\Anaconda3\\lib\\site-packages\\sklearn\\feature_selection\\univariate_selection.py:115: RuntimeWarning: invalid value encountered in true_divide\n",
      "  f = msb / msw\n"
     ]
    },
    {
     "name": "stdout",
     "output_type": "stream",
     "text": [
      "Fitting 10 folds for each of 3 candidates, totalling 30 fits\n"
     ]
    },
    {
     "name": "stderr",
     "output_type": "stream",
     "text": [
      "[Parallel(n_jobs=-1)]: Using backend LokyBackend with 8 concurrent workers.\n",
      "[Parallel(n_jobs=-1)]: Done   2 tasks      | elapsed:    0.9s\n",
      "[Parallel(n_jobs=-1)]: Done   9 tasks      | elapsed:    4.7s\n",
      "[Parallel(n_jobs=-1)]: Done  19 out of  30 | elapsed:    6.4s remaining:    3.7s\n",
      "[Parallel(n_jobs=-1)]: Done  23 out of  30 | elapsed:    7.1s remaining:    2.1s\n",
      "[Parallel(n_jobs=-1)]: Done  27 out of  30 | elapsed:    7.3s remaining:    0.7s\n",
      "[Parallel(n_jobs=-1)]: Done  30 out of  30 | elapsed:    7.5s finished\n"
     ]
    },
    {
     "name": "stdout",
     "output_type": "stream",
     "text": [
      "Finished VotingClassifier with No Scaling and 2 features after 16.17 seconds\n"
     ]
    },
    {
     "name": "stderr",
     "output_type": "stream",
     "text": [
      "C:\\Users\\Lukas\\Anaconda3\\lib\\site-packages\\sklearn\\feature_selection\\univariate_selection.py:115: RuntimeWarning: invalid value encountered in true_divide\n",
      "  f = msb / msw\n"
     ]
    },
    {
     "name": "stdout",
     "output_type": "stream",
     "text": [
      "Fitting 10 folds for each of 3 candidates, totalling 30 fits\n"
     ]
    },
    {
     "name": "stderr",
     "output_type": "stream",
     "text": [
      "[Parallel(n_jobs=-1)]: Using backend LokyBackend with 8 concurrent workers.\n",
      "[Parallel(n_jobs=-1)]: Done   2 tasks      | elapsed:    5.3s\n",
      "[Parallel(n_jobs=-1)]: Done   9 tasks      | elapsed:    6.1s\n",
      "[Parallel(n_jobs=-1)]: Done  19 out of  30 | elapsed:    7.8s remaining:    4.5s\n",
      "[Parallel(n_jobs=-1)]: Done  23 out of  30 | elapsed:    8.3s remaining:    2.5s\n",
      "[Parallel(n_jobs=-1)]: Done  27 out of  30 | elapsed:    8.5s remaining:    0.9s\n",
      "[Parallel(n_jobs=-1)]: Done  30 out of  30 | elapsed:    8.8s finished\n"
     ]
    },
    {
     "name": "stdout",
     "output_type": "stream",
     "text": [
      "Finished VotingClassifier with No Scaling and 3 features after 19.23 seconds\n"
     ]
    },
    {
     "name": "stderr",
     "output_type": "stream",
     "text": [
      "C:\\Users\\Lukas\\Anaconda3\\lib\\site-packages\\sklearn\\feature_selection\\univariate_selection.py:115: RuntimeWarning: invalid value encountered in true_divide\n",
      "  f = msb / msw\n"
     ]
    },
    {
     "name": "stdout",
     "output_type": "stream",
     "text": [
      "Fitting 10 folds for each of 3 candidates, totalling 30 fits\n"
     ]
    },
    {
     "name": "stderr",
     "output_type": "stream",
     "text": [
      "[Parallel(n_jobs=-1)]: Using backend LokyBackend with 8 concurrent workers.\n",
      "[Parallel(n_jobs=-1)]: Done   2 tasks      | elapsed:    1.2s\n",
      "[Parallel(n_jobs=-1)]: Done   9 tasks      | elapsed:    4.6s\n",
      "[Parallel(n_jobs=-1)]: Done  19 out of  30 | elapsed:    6.1s remaining:    3.5s\n",
      "[Parallel(n_jobs=-1)]: Done  23 out of  30 | elapsed:    6.6s remaining:    1.9s\n",
      "[Parallel(n_jobs=-1)]: Done  27 out of  30 | elapsed:    7.0s remaining:    0.7s\n",
      "[Parallel(n_jobs=-1)]: Done  30 out of  30 | elapsed:    7.1s finished\n"
     ]
    },
    {
     "name": "stdout",
     "output_type": "stream",
     "text": [
      "Finished VotingClassifier with No Scaling and 4 features after 17.19 seconds\n"
     ]
    },
    {
     "name": "stderr",
     "output_type": "stream",
     "text": [
      "C:\\Users\\Lukas\\Anaconda3\\lib\\site-packages\\sklearn\\feature_selection\\univariate_selection.py:115: RuntimeWarning: invalid value encountered in true_divide\n",
      "  f = msb / msw\n"
     ]
    },
    {
     "name": "stdout",
     "output_type": "stream",
     "text": [
      "Fitting 10 folds for each of 3 candidates, totalling 30 fits\n"
     ]
    },
    {
     "name": "stderr",
     "output_type": "stream",
     "text": [
      "[Parallel(n_jobs=-1)]: Using backend LokyBackend with 8 concurrent workers.\n",
      "[Parallel(n_jobs=-1)]: Done   2 tasks      | elapsed:    1.2s\n",
      "[Parallel(n_jobs=-1)]: Done   9 tasks      | elapsed:    5.7s\n",
      "[Parallel(n_jobs=-1)]: Done  19 out of  30 | elapsed:    6.6s remaining:    3.8s\n",
      "[Parallel(n_jobs=-1)]: Done  23 out of  30 | elapsed:    7.0s remaining:    2.1s\n",
      "[Parallel(n_jobs=-1)]: Done  27 out of  30 | elapsed:    7.4s remaining:    0.7s\n",
      "[Parallel(n_jobs=-1)]: Done  30 out of  30 | elapsed:    7.6s finished\n"
     ]
    },
    {
     "name": "stdout",
     "output_type": "stream",
     "text": [
      "Finished VotingClassifier with No Scaling and 5 features after 17.48 seconds\n"
     ]
    },
    {
     "name": "stderr",
     "output_type": "stream",
     "text": [
      "C:\\Users\\Lukas\\Anaconda3\\lib\\site-packages\\sklearn\\feature_selection\\univariate_selection.py:115: RuntimeWarning: invalid value encountered in true_divide\n",
      "  f = msb / msw\n"
     ]
    },
    {
     "name": "stdout",
     "output_type": "stream",
     "text": [
      "Fitting 10 folds for each of 3 candidates, totalling 30 fits\n"
     ]
    },
    {
     "name": "stderr",
     "output_type": "stream",
     "text": [
      "[Parallel(n_jobs=-1)]: Using backend LokyBackend with 8 concurrent workers.\n",
      "[Parallel(n_jobs=-1)]: Done   2 tasks      | elapsed:    1.3s\n",
      "[Parallel(n_jobs=-1)]: Done   9 tasks      | elapsed:    5.7s\n",
      "[Parallel(n_jobs=-1)]: Done  19 out of  30 | elapsed:    7.2s remaining:    4.1s\n",
      "[Parallel(n_jobs=-1)]: Done  23 out of  30 | elapsed:    7.3s remaining:    2.2s\n",
      "[Parallel(n_jobs=-1)]: Done  27 out of  30 | elapsed:    8.0s remaining:    0.8s\n",
      "[Parallel(n_jobs=-1)]: Done  30 out of  30 | elapsed:    8.1s finished\n"
     ]
    },
    {
     "name": "stdout",
     "output_type": "stream",
     "text": [
      "Finished VotingClassifier with No Scaling and 6 features after 18.19 seconds\n"
     ]
    },
    {
     "name": "stderr",
     "output_type": "stream",
     "text": [
      "C:\\Users\\Lukas\\Anaconda3\\lib\\site-packages\\sklearn\\feature_selection\\univariate_selection.py:115: RuntimeWarning: invalid value encountered in true_divide\n",
      "  f = msb / msw\n"
     ]
    },
    {
     "name": "stdout",
     "output_type": "stream",
     "text": [
      "Fitting 10 folds for each of 3 candidates, totalling 30 fits\n"
     ]
    },
    {
     "name": "stderr",
     "output_type": "stream",
     "text": [
      "[Parallel(n_jobs=-1)]: Using backend LokyBackend with 8 concurrent workers.\n",
      "[Parallel(n_jobs=-1)]: Done   2 tasks      | elapsed:    1.0s\n",
      "[Parallel(n_jobs=-1)]: Done   9 tasks      | elapsed:    5.3s\n",
      "[Parallel(n_jobs=-1)]: Done  19 out of  30 | elapsed:    6.5s remaining:    3.7s\n",
      "[Parallel(n_jobs=-1)]: Done  23 out of  30 | elapsed:    7.0s remaining:    2.1s\n",
      "[Parallel(n_jobs=-1)]: Done  27 out of  30 | elapsed:    7.6s remaining:    0.8s\n",
      "[Parallel(n_jobs=-1)]: Done  30 out of  30 | elapsed:    7.7s finished\n"
     ]
    },
    {
     "name": "stdout",
     "output_type": "stream",
     "text": [
      "Finished VotingClassifier with No Scaling and 7 features after 17.75 seconds\n"
     ]
    },
    {
     "name": "stderr",
     "output_type": "stream",
     "text": [
      "C:\\Users\\Lukas\\Anaconda3\\lib\\site-packages\\sklearn\\feature_selection\\univariate_selection.py:115: RuntimeWarning: invalid value encountered in true_divide\n",
      "  f = msb / msw\n"
     ]
    },
    {
     "name": "stdout",
     "output_type": "stream",
     "text": [
      "Fitting 10 folds for each of 3 candidates, totalling 30 fits\n"
     ]
    },
    {
     "name": "stderr",
     "output_type": "stream",
     "text": [
      "[Parallel(n_jobs=-1)]: Using backend LokyBackend with 8 concurrent workers.\n",
      "[Parallel(n_jobs=-1)]: Done   2 tasks      | elapsed:    0.6s\n",
      "[Parallel(n_jobs=-1)]: Done   9 tasks      | elapsed:    3.6s\n",
      "[Parallel(n_jobs=-1)]: Done  19 out of  30 | elapsed:    5.9s remaining:    3.3s\n",
      "[Parallel(n_jobs=-1)]: Done  23 out of  30 | elapsed:    6.4s remaining:    1.9s\n",
      "[Parallel(n_jobs=-1)]: Done  27 out of  30 | elapsed:    7.0s remaining:    0.7s\n",
      "[Parallel(n_jobs=-1)]: Done  30 out of  30 | elapsed:    7.1s finished\n"
     ]
    },
    {
     "name": "stdout",
     "output_type": "stream",
     "text": [
      "Finished VotingClassifier with No Scaling and 8 features after 16.89 seconds\n"
     ]
    },
    {
     "name": "stderr",
     "output_type": "stream",
     "text": [
      "C:\\Users\\Lukas\\Anaconda3\\lib\\site-packages\\sklearn\\feature_selection\\univariate_selection.py:115: RuntimeWarning: invalid value encountered in true_divide\n",
      "  f = msb / msw\n"
     ]
    },
    {
     "name": "stdout",
     "output_type": "stream",
     "text": [
      "Fitting 10 folds for each of 3 candidates, totalling 30 fits\n"
     ]
    },
    {
     "name": "stderr",
     "output_type": "stream",
     "text": [
      "[Parallel(n_jobs=-1)]: Using backend LokyBackend with 8 concurrent workers.\n",
      "[Parallel(n_jobs=-1)]: Done   2 tasks      | elapsed:    0.7s\n",
      "[Parallel(n_jobs=-1)]: Done   9 tasks      | elapsed:    4.0s\n",
      "[Parallel(n_jobs=-1)]: Done  19 out of  30 | elapsed:    6.0s remaining:    3.4s\n",
      "[Parallel(n_jobs=-1)]: Done  23 out of  30 | elapsed:    6.5s remaining:    1.9s\n",
      "[Parallel(n_jobs=-1)]: Done  27 out of  30 | elapsed:    7.1s remaining:    0.7s\n",
      "[Parallel(n_jobs=-1)]: Done  30 out of  30 | elapsed:    7.2s finished\n"
     ]
    },
    {
     "name": "stdout",
     "output_type": "stream",
     "text": [
      "Finished VotingClassifier with No Scaling and 9 features after 16.93 seconds\n"
     ]
    },
    {
     "name": "stderr",
     "output_type": "stream",
     "text": [
      "C:\\Users\\Lukas\\Anaconda3\\lib\\site-packages\\sklearn\\feature_selection\\univariate_selection.py:115: RuntimeWarning: invalid value encountered in true_divide\n",
      "  f = msb / msw\n"
     ]
    },
    {
     "name": "stdout",
     "output_type": "stream",
     "text": [
      "Fitting 10 folds for each of 3 candidates, totalling 30 fits\n"
     ]
    },
    {
     "name": "stderr",
     "output_type": "stream",
     "text": [
      "[Parallel(n_jobs=-1)]: Using backend LokyBackend with 8 concurrent workers.\n",
      "[Parallel(n_jobs=-1)]: Done   2 tasks      | elapsed:    5.4s\n",
      "[Parallel(n_jobs=-1)]: Done   9 tasks      | elapsed:    6.1s\n",
      "[Parallel(n_jobs=-1)]: Done  19 out of  30 | elapsed:    7.8s remaining:    4.5s\n",
      "[Parallel(n_jobs=-1)]: Done  23 out of  30 | elapsed:    8.4s remaining:    2.5s\n",
      "[Parallel(n_jobs=-1)]: Done  27 out of  30 | elapsed:    9.2s remaining:    0.9s\n",
      "[Parallel(n_jobs=-1)]: Done  30 out of  30 | elapsed:    9.3s finished\n"
     ]
    },
    {
     "name": "stdout",
     "output_type": "stream",
     "text": [
      "Finished VotingClassifier with No Scaling and 10 features after 20.78 seconds\n"
     ]
    },
    {
     "name": "stderr",
     "output_type": "stream",
     "text": [
      "C:\\Users\\Lukas\\Anaconda3\\lib\\site-packages\\sklearn\\feature_selection\\univariate_selection.py:115: RuntimeWarning: invalid value encountered in true_divide\n",
      "  f = msb / msw\n"
     ]
    },
    {
     "name": "stdout",
     "output_type": "stream",
     "text": [
      "Fitting 10 folds for each of 3 candidates, totalling 30 fits\n"
     ]
    },
    {
     "name": "stderr",
     "output_type": "stream",
     "text": [
      "[Parallel(n_jobs=-1)]: Using backend LokyBackend with 8 concurrent workers.\n",
      "[Parallel(n_jobs=-1)]: Done   2 tasks      | elapsed:    5.9s\n",
      "[Parallel(n_jobs=-1)]: Done   9 tasks      | elapsed:    7.1s\n",
      "[Parallel(n_jobs=-1)]: Done  19 out of  30 | elapsed:    8.7s remaining:    5.0s\n",
      "[Parallel(n_jobs=-1)]: Done  23 out of  30 | elapsed:    9.4s remaining:    2.8s\n",
      "[Parallel(n_jobs=-1)]: Done  27 out of  30 | elapsed:    9.9s remaining:    1.0s\n",
      "[Parallel(n_jobs=-1)]: Done  30 out of  30 | elapsed:   10.3s finished\n"
     ]
    },
    {
     "name": "stdout",
     "output_type": "stream",
     "text": [
      "Finished VotingClassifier with No Scaling and 11 features after 20.88 seconds\n"
     ]
    },
    {
     "name": "stderr",
     "output_type": "stream",
     "text": [
      "C:\\Users\\Lukas\\Anaconda3\\lib\\site-packages\\sklearn\\feature_selection\\univariate_selection.py:115: RuntimeWarning: invalid value encountered in true_divide\n",
      "  f = msb / msw\n"
     ]
    },
    {
     "name": "stdout",
     "output_type": "stream",
     "text": [
      "Fitting 10 folds for each of 3 candidates, totalling 30 fits\n"
     ]
    },
    {
     "name": "stderr",
     "output_type": "stream",
     "text": [
      "[Parallel(n_jobs=-1)]: Using backend LokyBackend with 8 concurrent workers.\n",
      "[Parallel(n_jobs=-1)]: Done   2 tasks      | elapsed:    1.1s\n",
      "[Parallel(n_jobs=-1)]: Done   9 tasks      | elapsed:    6.1s\n",
      "[Parallel(n_jobs=-1)]: Done  19 out of  30 | elapsed:    7.7s remaining:    4.4s\n",
      "[Parallel(n_jobs=-1)]: Done  23 out of  30 | elapsed:    8.1s remaining:    2.4s\n",
      "[Parallel(n_jobs=-1)]: Done  27 out of  30 | elapsed:    8.8s remaining:    0.9s\n",
      "[Parallel(n_jobs=-1)]: Done  30 out of  30 | elapsed:    9.2s finished\n"
     ]
    },
    {
     "name": "stdout",
     "output_type": "stream",
     "text": [
      "Finished VotingClassifier with No Scaling and 12 features after 19.35 seconds\n"
     ]
    },
    {
     "name": "stderr",
     "output_type": "stream",
     "text": [
      "C:\\Users\\Lukas\\Anaconda3\\lib\\site-packages\\sklearn\\feature_selection\\univariate_selection.py:115: RuntimeWarning: invalid value encountered in true_divide\n",
      "  f = msb / msw\n"
     ]
    },
    {
     "name": "stdout",
     "output_type": "stream",
     "text": [
      "Fitting 10 folds for each of 3 candidates, totalling 30 fits\n"
     ]
    },
    {
     "name": "stderr",
     "output_type": "stream",
     "text": [
      "[Parallel(n_jobs=-1)]: Using backend LokyBackend with 8 concurrent workers.\n",
      "[Parallel(n_jobs=-1)]: Done   2 tasks      | elapsed:    1.9s\n",
      "[Parallel(n_jobs=-1)]: Done   9 tasks      | elapsed:    7.8s\n",
      "[Parallel(n_jobs=-1)]: Done  19 out of  30 | elapsed:    9.6s remaining:    5.5s\n",
      "[Parallel(n_jobs=-1)]: Done  23 out of  30 | elapsed:   10.9s remaining:    3.3s\n",
      "[Parallel(n_jobs=-1)]: Done  27 out of  30 | elapsed:   11.7s remaining:    1.2s\n",
      "[Parallel(n_jobs=-1)]: Done  30 out of  30 | elapsed:   11.9s finished\n"
     ]
    },
    {
     "name": "stdout",
     "output_type": "stream",
     "text": [
      "Finished VotingClassifier with No Scaling and 13 features after 24.81 seconds\n"
     ]
    },
    {
     "name": "stderr",
     "output_type": "stream",
     "text": [
      "C:\\Users\\Lukas\\Anaconda3\\lib\\site-packages\\sklearn\\feature_selection\\univariate_selection.py:115: RuntimeWarning: invalid value encountered in true_divide\n",
      "  f = msb / msw\n"
     ]
    },
    {
     "name": "stdout",
     "output_type": "stream",
     "text": [
      "Fitting 10 folds for each of 3 candidates, totalling 30 fits\n"
     ]
    },
    {
     "name": "stderr",
     "output_type": "stream",
     "text": [
      "[Parallel(n_jobs=-1)]: Using backend LokyBackend with 8 concurrent workers.\n",
      "[Parallel(n_jobs=-1)]: Done   2 tasks      | elapsed:    6.9s\n",
      "[Parallel(n_jobs=-1)]: Done   9 tasks      | elapsed:    8.0s\n",
      "[Parallel(n_jobs=-1)]: Done  19 out of  30 | elapsed:   10.2s remaining:    5.9s\n",
      "[Parallel(n_jobs=-1)]: Done  23 out of  30 | elapsed:   10.9s remaining:    3.3s\n",
      "[Parallel(n_jobs=-1)]: Done  27 out of  30 | elapsed:   11.5s remaining:    1.2s\n",
      "[Parallel(n_jobs=-1)]: Done  30 out of  30 | elapsed:   11.8s finished\n"
     ]
    },
    {
     "name": "stdout",
     "output_type": "stream",
     "text": [
      "Finished VotingClassifier with No Scaling and 14 features after 24.5 seconds\n"
     ]
    },
    {
     "name": "stderr",
     "output_type": "stream",
     "text": [
      "C:\\Users\\Lukas\\Anaconda3\\lib\\site-packages\\sklearn\\feature_selection\\univariate_selection.py:115: RuntimeWarning: invalid value encountered in true_divide\n",
      "  f = msb / msw\n"
     ]
    },
    {
     "name": "stdout",
     "output_type": "stream",
     "text": [
      "Fitting 10 folds for each of 3 candidates, totalling 30 fits\n"
     ]
    },
    {
     "name": "stderr",
     "output_type": "stream",
     "text": [
      "[Parallel(n_jobs=-1)]: Using backend LokyBackend with 8 concurrent workers.\n",
      "[Parallel(n_jobs=-1)]: Done   2 tasks      | elapsed:    2.6s\n",
      "[Parallel(n_jobs=-1)]: Done   9 tasks      | elapsed:    8.4s\n",
      "[Parallel(n_jobs=-1)]: Done  19 out of  30 | elapsed:   11.3s remaining:    6.5s\n",
      "[Parallel(n_jobs=-1)]: Done  23 out of  30 | elapsed:   12.4s remaining:    3.7s\n",
      "[Parallel(n_jobs=-1)]: Done  27 out of  30 | elapsed:   13.5s remaining:    1.4s\n",
      "[Parallel(n_jobs=-1)]: Done  30 out of  30 | elapsed:   14.0s finished\n"
     ]
    },
    {
     "name": "stdout",
     "output_type": "stream",
     "text": [
      "Finished VotingClassifier with No Scaling and 15 features after 30.77 seconds\n"
     ]
    },
    {
     "name": "stderr",
     "output_type": "stream",
     "text": [
      "C:\\Users\\Lukas\\Anaconda3\\lib\\site-packages\\sklearn\\feature_selection\\univariate_selection.py:115: RuntimeWarning: invalid value encountered in true_divide\n",
      "  f = msb / msw\n"
     ]
    },
    {
     "name": "stdout",
     "output_type": "stream",
     "text": [
      "Fitting 10 folds for each of 3 candidates, totalling 30 fits\n"
     ]
    },
    {
     "name": "stderr",
     "output_type": "stream",
     "text": [
      "[Parallel(n_jobs=-1)]: Using backend LokyBackend with 8 concurrent workers.\n",
      "[Parallel(n_jobs=-1)]: Done   2 tasks      | elapsed:    1.3s\n",
      "[Parallel(n_jobs=-1)]: Done   9 tasks      | elapsed:    6.7s\n",
      "[Parallel(n_jobs=-1)]: Done  19 out of  30 | elapsed:   12.3s remaining:    7.1s\n",
      "[Parallel(n_jobs=-1)]: Done  23 out of  30 | elapsed:   15.0s remaining:    4.5s\n",
      "[Parallel(n_jobs=-1)]: Done  27 out of  30 | elapsed:   17.1s remaining:    1.8s\n",
      "[Parallel(n_jobs=-1)]: Done  30 out of  30 | elapsed:   17.5s finished\n"
     ]
    },
    {
     "name": "stdout",
     "output_type": "stream",
     "text": [
      "Finished VotingClassifier with No Scaling and 16 features after 40.14 seconds\n"
     ]
    },
    {
     "name": "stderr",
     "output_type": "stream",
     "text": [
      "C:\\Users\\Lukas\\Anaconda3\\lib\\site-packages\\sklearn\\feature_selection\\univariate_selection.py:115: RuntimeWarning: invalid value encountered in true_divide\n",
      "  f = msb / msw\n"
     ]
    },
    {
     "name": "stdout",
     "output_type": "stream",
     "text": [
      "Fitting 10 folds for each of 3 candidates, totalling 30 fits\n"
     ]
    },
    {
     "name": "stderr",
     "output_type": "stream",
     "text": [
      "[Parallel(n_jobs=-1)]: Using backend LokyBackend with 8 concurrent workers.\n",
      "[Parallel(n_jobs=-1)]: Done   2 tasks      | elapsed:    1.7s\n",
      "[Parallel(n_jobs=-1)]: Done   9 tasks      | elapsed:   10.0s\n",
      "[Parallel(n_jobs=-1)]: Done  19 out of  30 | elapsed:   14.9s remaining:    8.6s\n",
      "[Parallel(n_jobs=-1)]: Done  23 out of  30 | elapsed:   17.3s remaining:    5.2s\n",
      "[Parallel(n_jobs=-1)]: Done  27 out of  30 | elapsed:   18.4s remaining:    2.0s\n",
      "[Parallel(n_jobs=-1)]: Done  30 out of  30 | elapsed:   18.6s finished\n"
     ]
    },
    {
     "name": "stdout",
     "output_type": "stream",
     "text": [
      "Finished VotingClassifier with No Scaling and 17 features after 42.61 seconds\n"
     ]
    },
    {
     "name": "stderr",
     "output_type": "stream",
     "text": [
      "C:\\Users\\Lukas\\Anaconda3\\lib\\site-packages\\sklearn\\feature_selection\\univariate_selection.py:115: RuntimeWarning: invalid value encountered in true_divide\n",
      "  f = msb / msw\n"
     ]
    },
    {
     "name": "stdout",
     "output_type": "stream",
     "text": [
      "Fitting 10 folds for each of 3 candidates, totalling 30 fits\n"
     ]
    },
    {
     "name": "stderr",
     "output_type": "stream",
     "text": [
      "[Parallel(n_jobs=-1)]: Using backend LokyBackend with 8 concurrent workers.\n",
      "[Parallel(n_jobs=-1)]: Done   2 tasks      | elapsed:    2.1s\n",
      "[Parallel(n_jobs=-1)]: Done   9 tasks      | elapsed:   11.3s\n",
      "[Parallel(n_jobs=-1)]: Done  19 out of  30 | elapsed:   14.4s remaining:    8.3s\n",
      "[Parallel(n_jobs=-1)]: Done  23 out of  30 | elapsed:   15.2s remaining:    4.6s\n",
      "[Parallel(n_jobs=-1)]: Done  27 out of  30 | elapsed:   16.6s remaining:    1.8s\n",
      "[Parallel(n_jobs=-1)]: Done  30 out of  30 | elapsed:   16.9s finished\n"
     ]
    },
    {
     "name": "stdout",
     "output_type": "stream",
     "text": [
      "Finished VotingClassifier with No Scaling and 18 features after 38.74 seconds\n"
     ]
    },
    {
     "name": "stderr",
     "output_type": "stream",
     "text": [
      "C:\\Users\\Lukas\\Anaconda3\\lib\\site-packages\\sklearn\\feature_selection\\univariate_selection.py:115: RuntimeWarning: invalid value encountered in true_divide\n",
      "  f = msb / msw\n"
     ]
    },
    {
     "name": "stdout",
     "output_type": "stream",
     "text": [
      "Fitting 10 folds for each of 3 candidates, totalling 30 fits\n"
     ]
    },
    {
     "name": "stderr",
     "output_type": "stream",
     "text": [
      "[Parallel(n_jobs=-1)]: Using backend LokyBackend with 8 concurrent workers.\n",
      "[Parallel(n_jobs=-1)]: Done   2 tasks      | elapsed:    1.8s\n",
      "[Parallel(n_jobs=-1)]: Done   9 tasks      | elapsed:    9.6s\n",
      "[Parallel(n_jobs=-1)]: Done  19 out of  30 | elapsed:   11.7s remaining:    6.7s\n",
      "[Parallel(n_jobs=-1)]: Done  23 out of  30 | elapsed:   13.1s remaining:    3.9s\n",
      "[Parallel(n_jobs=-1)]: Done  27 out of  30 | elapsed:   14.3s remaining:    1.5s\n",
      "[Parallel(n_jobs=-1)]: Done  30 out of  30 | elapsed:   14.7s finished\n"
     ]
    },
    {
     "name": "stdout",
     "output_type": "stream",
     "text": [
      "Finished VotingClassifier with No Scaling and 19 features after 30.77 seconds\n"
     ]
    },
    {
     "name": "stderr",
     "output_type": "stream",
     "text": [
      "C:\\Users\\Lukas\\Anaconda3\\lib\\site-packages\\sklearn\\feature_selection\\univariate_selection.py:115: RuntimeWarning: invalid value encountered in true_divide\n",
      "  f = msb / msw\n"
     ]
    },
    {
     "name": "stdout",
     "output_type": "stream",
     "text": [
      "Fitting 10 folds for each of 3 candidates, totalling 30 fits\n"
     ]
    },
    {
     "name": "stderr",
     "output_type": "stream",
     "text": [
      "[Parallel(n_jobs=-1)]: Using backend LokyBackend with 8 concurrent workers.\n",
      "[Parallel(n_jobs=-1)]: Done   2 tasks      | elapsed:   12.0s\n",
      "[Parallel(n_jobs=-1)]: Done   9 tasks      | elapsed:   22.6s\n",
      "[Parallel(n_jobs=-1)]: Done  19 out of  30 | elapsed:   28.9s remaining:   16.7s\n",
      "[Parallel(n_jobs=-1)]: Done  23 out of  30 | elapsed:   30.8s remaining:    9.3s\n",
      "[Parallel(n_jobs=-1)]: Done  27 out of  30 | elapsed:   32.1s remaining:    3.5s\n",
      "[Parallel(n_jobs=-1)]: Done  30 out of  30 | elapsed:   32.7s finished\n"
     ]
    },
    {
     "name": "stdout",
     "output_type": "stream",
     "text": [
      "Finished VotingClassifier with No Scaling and 20 features after 55.85 seconds\n"
     ]
    },
    {
     "name": "stderr",
     "output_type": "stream",
     "text": [
      "C:\\Users\\Lukas\\Anaconda3\\lib\\site-packages\\sklearn\\feature_selection\\univariate_selection.py:115: RuntimeWarning: invalid value encountered in true_divide\n",
      "  f = msb / msw\n"
     ]
    },
    {
     "name": "stdout",
     "output_type": "stream",
     "text": [
      "Fitting 10 folds for each of 3 candidates, totalling 30 fits\n"
     ]
    },
    {
     "name": "stderr",
     "output_type": "stream",
     "text": [
      "[Parallel(n_jobs=-1)]: Using backend LokyBackend with 8 concurrent workers.\n",
      "[Parallel(n_jobs=-1)]: Done   2 tasks      | elapsed:    1.8s\n",
      "[Parallel(n_jobs=-1)]: Done   9 tasks      | elapsed:    8.7s\n",
      "[Parallel(n_jobs=-1)]: Done  19 out of  30 | elapsed:   13.1s remaining:    7.6s\n",
      "[Parallel(n_jobs=-1)]: Done  23 out of  30 | elapsed:   14.6s remaining:    4.4s\n",
      "[Parallel(n_jobs=-1)]: Done  27 out of  30 | elapsed:   15.7s remaining:    1.7s\n",
      "[Parallel(n_jobs=-1)]: Done  30 out of  30 | elapsed:   16.5s finished\n"
     ]
    },
    {
     "name": "stdout",
     "output_type": "stream",
     "text": [
      "Finished VotingClassifier with No Scaling and 21 features after 34.77 seconds\n"
     ]
    },
    {
     "name": "stderr",
     "output_type": "stream",
     "text": [
      "C:\\Users\\Lukas\\Anaconda3\\lib\\site-packages\\sklearn\\feature_selection\\univariate_selection.py:115: RuntimeWarning: invalid value encountered in true_divide\n",
      "  f = msb / msw\n"
     ]
    },
    {
     "name": "stdout",
     "output_type": "stream",
     "text": [
      "Fitting 10 folds for each of 3 candidates, totalling 30 fits\n"
     ]
    },
    {
     "name": "stderr",
     "output_type": "stream",
     "text": [
      "[Parallel(n_jobs=-1)]: Using backend LokyBackend with 8 concurrent workers.\n",
      "[Parallel(n_jobs=-1)]: Done   2 tasks      | elapsed:    1.6s\n",
      "[Parallel(n_jobs=-1)]: Done   9 tasks      | elapsed:    9.9s\n",
      "[Parallel(n_jobs=-1)]: Done  19 out of  30 | elapsed:   13.2s remaining:    7.6s\n",
      "[Parallel(n_jobs=-1)]: Done  23 out of  30 | elapsed:   14.7s remaining:    4.4s\n",
      "[Parallel(n_jobs=-1)]: Done  27 out of  30 | elapsed:   16.0s remaining:    1.7s\n",
      "[Parallel(n_jobs=-1)]: Done  30 out of  30 | elapsed:   16.3s finished\n"
     ]
    },
    {
     "name": "stdout",
     "output_type": "stream",
     "text": [
      "Finished VotingClassifier with No Scaling and 22 features after 31.99 seconds\n"
     ]
    },
    {
     "name": "stderr",
     "output_type": "stream",
     "text": [
      "C:\\Users\\Lukas\\Anaconda3\\lib\\site-packages\\sklearn\\feature_selection\\univariate_selection.py:115: RuntimeWarning: invalid value encountered in true_divide\n",
      "  f = msb / msw\n"
     ]
    },
    {
     "name": "stdout",
     "output_type": "stream",
     "text": [
      "Fitting 10 folds for each of 3 candidates, totalling 30 fits\n"
     ]
    },
    {
     "name": "stderr",
     "output_type": "stream",
     "text": [
      "[Parallel(n_jobs=-1)]: Using backend LokyBackend with 8 concurrent workers.\n",
      "[Parallel(n_jobs=-1)]: Done   2 tasks      | elapsed:    2.1s\n",
      "[Parallel(n_jobs=-1)]: Done   9 tasks      | elapsed:   11.2s\n",
      "[Parallel(n_jobs=-1)]: Done  19 out of  30 | elapsed:   15.2s remaining:    8.8s\n",
      "[Parallel(n_jobs=-1)]: Done  23 out of  30 | elapsed:   16.8s remaining:    5.0s\n",
      "[Parallel(n_jobs=-1)]: Done  27 out of  30 | elapsed:   18.1s remaining:    1.9s\n",
      "[Parallel(n_jobs=-1)]: Done  30 out of  30 | elapsed:   18.7s finished\n"
     ]
    },
    {
     "name": "stdout",
     "output_type": "stream",
     "text": [
      "Finished VotingClassifier with No Scaling and 23 features after 37.12 seconds\n"
     ]
    },
    {
     "name": "stderr",
     "output_type": "stream",
     "text": [
      "C:\\Users\\Lukas\\Anaconda3\\lib\\site-packages\\sklearn\\feature_selection\\univariate_selection.py:115: RuntimeWarning: invalid value encountered in true_divide\n",
      "  f = msb / msw\n"
     ]
    },
    {
     "name": "stdout",
     "output_type": "stream",
     "text": [
      "Fitting 10 folds for each of 3 candidates, totalling 30 fits\n"
     ]
    },
    {
     "name": "stderr",
     "output_type": "stream",
     "text": [
      "[Parallel(n_jobs=-1)]: Using backend LokyBackend with 8 concurrent workers.\n",
      "[Parallel(n_jobs=-1)]: Done   2 tasks      | elapsed:    2.4s\n",
      "[Parallel(n_jobs=-1)]: Done   9 tasks      | elapsed:   10.2s\n",
      "[Parallel(n_jobs=-1)]: Done  19 out of  30 | elapsed:   13.3s remaining:    7.7s\n",
      "[Parallel(n_jobs=-1)]: Done  23 out of  30 | elapsed:   15.7s remaining:    4.7s\n",
      "[Parallel(n_jobs=-1)]: Done  27 out of  30 | elapsed:   16.6s remaining:    1.8s\n",
      "[Parallel(n_jobs=-1)]: Done  30 out of  30 | elapsed:   17.3s finished\n"
     ]
    },
    {
     "name": "stdout",
     "output_type": "stream",
     "text": [
      "Finished VotingClassifier with No Scaling and 24 features after 33.57 seconds\n"
     ]
    },
    {
     "name": "stderr",
     "output_type": "stream",
     "text": [
      "C:\\Users\\Lukas\\Anaconda3\\lib\\site-packages\\sklearn\\feature_selection\\univariate_selection.py:115: RuntimeWarning: invalid value encountered in true_divide\n",
      "  f = msb / msw\n"
     ]
    },
    {
     "name": "stdout",
     "output_type": "stream",
     "text": [
      "Fitting 10 folds for each of 3 candidates, totalling 30 fits\n"
     ]
    },
    {
     "name": "stderr",
     "output_type": "stream",
     "text": [
      "[Parallel(n_jobs=-1)]: Using backend LokyBackend with 8 concurrent workers.\n",
      "[Parallel(n_jobs=-1)]: Done   2 tasks      | elapsed:    2.6s\n",
      "[Parallel(n_jobs=-1)]: Done   9 tasks      | elapsed:   10.2s\n",
      "[Parallel(n_jobs=-1)]: Done  19 out of  30 | elapsed:   14.2s remaining:    8.2s\n",
      "[Parallel(n_jobs=-1)]: Done  23 out of  30 | elapsed:   16.0s remaining:    4.8s\n",
      "[Parallel(n_jobs=-1)]: Done  27 out of  30 | elapsed:   17.3s remaining:    1.8s\n",
      "[Parallel(n_jobs=-1)]: Done  30 out of  30 | elapsed:   18.2s finished\n"
     ]
    },
    {
     "name": "stdout",
     "output_type": "stream",
     "text": [
      "Finished VotingClassifier with No Scaling and 25 features after 34.66 seconds\n"
     ]
    },
    {
     "name": "stderr",
     "output_type": "stream",
     "text": [
      "C:\\Users\\Lukas\\Anaconda3\\lib\\site-packages\\sklearn\\feature_selection\\univariate_selection.py:115: RuntimeWarning: invalid value encountered in true_divide\n",
      "  f = msb / msw\n"
     ]
    },
    {
     "name": "stdout",
     "output_type": "stream",
     "text": [
      "Fitting 10 folds for each of 3 candidates, totalling 30 fits\n"
     ]
    },
    {
     "name": "stderr",
     "output_type": "stream",
     "text": [
      "[Parallel(n_jobs=-1)]: Using backend LokyBackend with 8 concurrent workers.\n",
      "[Parallel(n_jobs=-1)]: Done   2 tasks      | elapsed:    2.4s\n",
      "[Parallel(n_jobs=-1)]: Done   9 tasks      | elapsed:   10.3s\n",
      "[Parallel(n_jobs=-1)]: Done  19 out of  30 | elapsed:   14.0s remaining:    8.0s\n",
      "[Parallel(n_jobs=-1)]: Done  23 out of  30 | elapsed:   15.2s remaining:    4.6s\n",
      "[Parallel(n_jobs=-1)]: Done  27 out of  30 | elapsed:   16.7s remaining:    1.8s\n",
      "[Parallel(n_jobs=-1)]: Done  30 out of  30 | elapsed:   16.8s finished\n"
     ]
    },
    {
     "name": "stdout",
     "output_type": "stream",
     "text": [
      "Finished VotingClassifier with No Scaling and 26 features after 38.18 seconds\n"
     ]
    },
    {
     "name": "stderr",
     "output_type": "stream",
     "text": [
      "C:\\Users\\Lukas\\Anaconda3\\lib\\site-packages\\sklearn\\feature_selection\\univariate_selection.py:115: RuntimeWarning: invalid value encountered in true_divide\n",
      "  f = msb / msw\n"
     ]
    },
    {
     "name": "stdout",
     "output_type": "stream",
     "text": [
      "Fitting 10 folds for each of 3 candidates, totalling 30 fits\n"
     ]
    },
    {
     "name": "stderr",
     "output_type": "stream",
     "text": [
      "[Parallel(n_jobs=-1)]: Using backend LokyBackend with 8 concurrent workers.\n",
      "[Parallel(n_jobs=-1)]: Done   2 tasks      | elapsed:    4.4s\n",
      "[Parallel(n_jobs=-1)]: Done   9 tasks      | elapsed:   13.5s\n",
      "[Parallel(n_jobs=-1)]: Done  19 out of  30 | elapsed:   18.5s remaining:   10.7s\n",
      "[Parallel(n_jobs=-1)]: Done  23 out of  30 | elapsed:   20.6s remaining:    6.2s\n",
      "[Parallel(n_jobs=-1)]: Done  27 out of  30 | elapsed:   22.5s remaining:    2.4s\n",
      "[Parallel(n_jobs=-1)]: Done  30 out of  30 | elapsed:   23.4s finished\n"
     ]
    },
    {
     "name": "stdout",
     "output_type": "stream",
     "text": [
      "Finished VotingClassifier with No Scaling and 27 features after 48.24 seconds\n"
     ]
    },
    {
     "name": "stderr",
     "output_type": "stream",
     "text": [
      "C:\\Users\\Lukas\\Anaconda3\\lib\\site-packages\\sklearn\\feature_selection\\univariate_selection.py:115: RuntimeWarning: invalid value encountered in true_divide\n",
      "  f = msb / msw\n"
     ]
    },
    {
     "name": "stdout",
     "output_type": "stream",
     "text": [
      "Fitting 10 folds for each of 3 candidates, totalling 30 fits\n"
     ]
    },
    {
     "name": "stderr",
     "output_type": "stream",
     "text": [
      "[Parallel(n_jobs=-1)]: Using backend LokyBackend with 8 concurrent workers.\n",
      "[Parallel(n_jobs=-1)]: Done   2 tasks      | elapsed:    4.5s\n",
      "[Parallel(n_jobs=-1)]: Done   9 tasks      | elapsed:   15.4s\n",
      "[Parallel(n_jobs=-1)]: Done  19 out of  30 | elapsed:   20.2s remaining:   11.6s\n",
      "[Parallel(n_jobs=-1)]: Done  23 out of  30 | elapsed:   21.6s remaining:    6.5s\n",
      "[Parallel(n_jobs=-1)]: Done  27 out of  30 | elapsed:   23.2s remaining:    2.5s\n",
      "[Parallel(n_jobs=-1)]: Done  30 out of  30 | elapsed:   23.8s finished\n"
     ]
    },
    {
     "name": "stdout",
     "output_type": "stream",
     "text": [
      "Finished VotingClassifier with No Scaling and 28 features after 45.24 seconds\n"
     ]
    },
    {
     "name": "stderr",
     "output_type": "stream",
     "text": [
      "C:\\Users\\Lukas\\Anaconda3\\lib\\site-packages\\sklearn\\feature_selection\\univariate_selection.py:115: RuntimeWarning: invalid value encountered in true_divide\n",
      "  f = msb / msw\n"
     ]
    },
    {
     "name": "stdout",
     "output_type": "stream",
     "text": [
      "Fitting 10 folds for each of 3 candidates, totalling 30 fits\n"
     ]
    },
    {
     "name": "stderr",
     "output_type": "stream",
     "text": [
      "[Parallel(n_jobs=-1)]: Using backend LokyBackend with 8 concurrent workers.\n",
      "[Parallel(n_jobs=-1)]: Done   2 tasks      | elapsed:    2.6s\n",
      "[Parallel(n_jobs=-1)]: Done   9 tasks      | elapsed:   10.6s\n",
      "[Parallel(n_jobs=-1)]: Done  19 out of  30 | elapsed:   13.9s remaining:    8.0s\n",
      "[Parallel(n_jobs=-1)]: Done  23 out of  30 | elapsed:   16.0s remaining:    4.8s\n",
      "[Parallel(n_jobs=-1)]: Done  27 out of  30 | elapsed:   17.7s remaining:    1.9s\n",
      "[Parallel(n_jobs=-1)]: Done  30 out of  30 | elapsed:   18.4s finished\n"
     ]
    },
    {
     "name": "stdout",
     "output_type": "stream",
     "text": [
      "Finished VotingClassifier with No Scaling and 29 features after 34.99 seconds\n"
     ]
    },
    {
     "name": "stderr",
     "output_type": "stream",
     "text": [
      "C:\\Users\\Lukas\\Anaconda3\\lib\\site-packages\\sklearn\\feature_selection\\univariate_selection.py:115: RuntimeWarning: invalid value encountered in true_divide\n",
      "  f = msb / msw\n"
     ]
    },
    {
     "name": "stdout",
     "output_type": "stream",
     "text": [
      "Fitting 10 folds for each of 3 candidates, totalling 30 fits\n"
     ]
    },
    {
     "name": "stderr",
     "output_type": "stream",
     "text": [
      "[Parallel(n_jobs=-1)]: Using backend LokyBackend with 8 concurrent workers.\n",
      "[Parallel(n_jobs=-1)]: Done   2 tasks      | elapsed:    2.4s\n",
      "[Parallel(n_jobs=-1)]: Done   9 tasks      | elapsed:   11.0s\n",
      "[Parallel(n_jobs=-1)]: Done  19 out of  30 | elapsed:   15.9s remaining:    9.2s\n",
      "[Parallel(n_jobs=-1)]: Done  23 out of  30 | elapsed:   17.7s remaining:    5.3s\n",
      "[Parallel(n_jobs=-1)]: Done  27 out of  30 | elapsed:   19.3s remaining:    2.1s\n",
      "[Parallel(n_jobs=-1)]: Done  30 out of  30 | elapsed:   19.4s finished\n"
     ]
    },
    {
     "name": "stdout",
     "output_type": "stream",
     "text": [
      "Finished VotingClassifier with No Scaling and 30 features after 38.81 seconds\n"
     ]
    },
    {
     "data": {
      "text/html": [
       "<div>\n",
       "<style scoped>\n",
       "    .dataframe tbody tr th:only-of-type {\n",
       "        vertical-align: middle;\n",
       "    }\n",
       "\n",
       "    .dataframe tbody tr th {\n",
       "        vertical-align: top;\n",
       "    }\n",
       "\n",
       "    .dataframe thead th {\n",
       "        text-align: right;\n",
       "    }\n",
       "</style>\n",
       "<table border=\"1\" class=\"dataframe\">\n",
       "  <thead>\n",
       "    <tr style=\"text-align: right;\">\n",
       "      <th></th>\n",
       "      <th>Model</th>\n",
       "      <th>Data Preparation</th>\n",
       "      <th>Feature Count</th>\n",
       "      <th>Feature Selection Technique</th>\n",
       "      <th>Features</th>\n",
       "      <th>Optimal Parameters</th>\n",
       "      <th>Monetary Value Per Instance - Mean</th>\n",
       "      <th>Monetary Value Per Instance - Standard Deviation</th>\n",
       "      <th>Raw Model</th>\n",
       "    </tr>\n",
       "  </thead>\n",
       "  <tbody>\n",
       "    <tr>\n",
       "      <th>6</th>\n",
       "      <td>VotingClassifier</td>\n",
       "      <td>No Scaling</td>\n",
       "      <td>7</td>\n",
       "      <td>SelectKBest</td>\n",
       "      <td>[pca_axis_2, tsne_axis_2, lr, et, lda, svc, nb]</td>\n",
       "      <td>{'voting': 'soft', 'weights': [5, 3]}</td>\n",
       "      <td>0.111762</td>\n",
       "      <td>0.117782</td>\n",
       "      <td>VotingClassifier(estimators=[('ada', AdaBoostC...</td>\n",
       "    </tr>\n",
       "    <tr>\n",
       "      <th>7</th>\n",
       "      <td>VotingClassifier</td>\n",
       "      <td>No Scaling</td>\n",
       "      <td>8</td>\n",
       "      <td>SelectKBest</td>\n",
       "      <td>[trustLevel, pca_axis_2, tsne_axis_2, lr, et, ...</td>\n",
       "      <td>{'voting': 'soft', 'weights': [5, 3]}</td>\n",
       "      <td>0.111762</td>\n",
       "      <td>0.117782</td>\n",
       "      <td>VotingClassifier(estimators=[('ada', AdaBoostC...</td>\n",
       "    </tr>\n",
       "    <tr>\n",
       "      <th>11</th>\n",
       "      <td>VotingClassifier</td>\n",
       "      <td>No Scaling</td>\n",
       "      <td>12</td>\n",
       "      <td>SelectKBest</td>\n",
       "      <td>[trustLevel, totalScanTimeInSeconds, scannedLi...</td>\n",
       "      <td>{'voting': 'soft', 'weights': [5, 3]}</td>\n",
       "      <td>0.109101</td>\n",
       "      <td>0.122243</td>\n",
       "      <td>VotingClassifier(estimators=[('ada', AdaBoostC...</td>\n",
       "    </tr>\n",
       "    <tr>\n",
       "      <th>13</th>\n",
       "      <td>VotingClassifier</td>\n",
       "      <td>No Scaling</td>\n",
       "      <td>14</td>\n",
       "      <td>SelectKBest</td>\n",
       "      <td>[trustLevel, totalScanTimeInSeconds, lineItemV...</td>\n",
       "      <td>{'voting': 'soft', 'weights': [5, 3]}</td>\n",
       "      <td>0.103779</td>\n",
       "      <td>0.108956</td>\n",
       "      <td>VotingClassifier(estimators=[('ada', AdaBoostC...</td>\n",
       "    </tr>\n",
       "    <tr>\n",
       "      <th>21</th>\n",
       "      <td>VotingClassifier</td>\n",
       "      <td>No Scaling</td>\n",
       "      <td>22</td>\n",
       "      <td>SelectKBest</td>\n",
       "      <td>[trustLevel, totalScanTimeInSeconds, lineItemV...</td>\n",
       "      <td>{'voting': 'soft', 'weights': [1, 1]}</td>\n",
       "      <td>0.098457</td>\n",
       "      <td>0.088394</td>\n",
       "      <td>VotingClassifier(estimators=[('ada', AdaBoostC...</td>\n",
       "    </tr>\n",
       "    <tr>\n",
       "      <th>12</th>\n",
       "      <td>VotingClassifier</td>\n",
       "      <td>No Scaling</td>\n",
       "      <td>13</td>\n",
       "      <td>SelectKBest</td>\n",
       "      <td>[trustLevel, totalScanTimeInSeconds, scannedLi...</td>\n",
       "      <td>{'voting': 'soft', 'weights': [1, 1]}</td>\n",
       "      <td>0.098457</td>\n",
       "      <td>0.124955</td>\n",
       "      <td>VotingClassifier(estimators=[('ada', AdaBoostC...</td>\n",
       "    </tr>\n",
       "    <tr>\n",
       "      <th>10</th>\n",
       "      <td>VotingClassifier</td>\n",
       "      <td>No Scaling</td>\n",
       "      <td>11</td>\n",
       "      <td>SelectKBest</td>\n",
       "      <td>[trustLevel, totalScanTimeInSeconds, scannedLi...</td>\n",
       "      <td>{'voting': 'soft', 'weights': [5, 3]}</td>\n",
       "      <td>0.098457</td>\n",
       "      <td>0.126607</td>\n",
       "      <td>VotingClassifier(estimators=[('ada', AdaBoostC...</td>\n",
       "    </tr>\n",
       "    <tr>\n",
       "      <th>20</th>\n",
       "      <td>VotingClassifier</td>\n",
       "      <td>No Scaling</td>\n",
       "      <td>21</td>\n",
       "      <td>SelectKBest</td>\n",
       "      <td>[trustLevel, totalScanTimeInSeconds, lineItemV...</td>\n",
       "      <td>{'voting': 'soft', 'weights': [5, 3]}</td>\n",
       "      <td>0.098457</td>\n",
       "      <td>0.124955</td>\n",
       "      <td>VotingClassifier(estimators=[('ada', AdaBoostC...</td>\n",
       "    </tr>\n",
       "    <tr>\n",
       "      <th>16</th>\n",
       "      <td>VotingClassifier</td>\n",
       "      <td>No Scaling</td>\n",
       "      <td>17</td>\n",
       "      <td>SelectKBest</td>\n",
       "      <td>[trustLevel, totalScanTimeInSeconds, lineItemV...</td>\n",
       "      <td>{'voting': 'soft', 'weights': [1, 1]}</td>\n",
       "      <td>0.098457</td>\n",
       "      <td>0.109972</td>\n",
       "      <td>VotingClassifier(estimators=[('ada', AdaBoostC...</td>\n",
       "    </tr>\n",
       "    <tr>\n",
       "      <th>23</th>\n",
       "      <td>VotingClassifier</td>\n",
       "      <td>No Scaling</td>\n",
       "      <td>24</td>\n",
       "      <td>SelectKBest</td>\n",
       "      <td>[trustLevel, totalScanTimeInSeconds, lineItemV...</td>\n",
       "      <td>{'voting': 'soft', 'weights': [5, 3]}</td>\n",
       "      <td>0.098457</td>\n",
       "      <td>0.123811</td>\n",
       "      <td>VotingClassifier(estimators=[('ada', AdaBoostC...</td>\n",
       "    </tr>\n",
       "    <tr>\n",
       "      <th>5</th>\n",
       "      <td>VotingClassifier</td>\n",
       "      <td>No Scaling</td>\n",
       "      <td>6</td>\n",
       "      <td>SelectKBest</td>\n",
       "      <td>[tsne_axis_2, lr, et, lda, svc, nb]</td>\n",
       "      <td>{'voting': 'soft', 'weights': [5, 3]}</td>\n",
       "      <td>0.095796</td>\n",
       "      <td>0.120981</td>\n",
       "      <td>VotingClassifier(estimators=[('ada', AdaBoostC...</td>\n",
       "    </tr>\n",
       "    <tr>\n",
       "      <th>2</th>\n",
       "      <td>VotingClassifier</td>\n",
       "      <td>No Scaling</td>\n",
       "      <td>3</td>\n",
       "      <td>SelectKBest</td>\n",
       "      <td>[lr, et, svc]</td>\n",
       "      <td>{'voting': 'soft', 'weights': [5, 3]}</td>\n",
       "      <td>0.095796</td>\n",
       "      <td>0.130674</td>\n",
       "      <td>VotingClassifier(estimators=[('ada', AdaBoostC...</td>\n",
       "    </tr>\n",
       "    <tr>\n",
       "      <th>1</th>\n",
       "      <td>VotingClassifier</td>\n",
       "      <td>No Scaling</td>\n",
       "      <td>2</td>\n",
       "      <td>SelectKBest</td>\n",
       "      <td>[lr, svc]</td>\n",
       "      <td>{'voting': 'soft', 'weights': [5, 3]}</td>\n",
       "      <td>0.095796</td>\n",
       "      <td>0.120513</td>\n",
       "      <td>VotingClassifier(estimators=[('ada', AdaBoostC...</td>\n",
       "    </tr>\n",
       "    <tr>\n",
       "      <th>14</th>\n",
       "      <td>VotingClassifier</td>\n",
       "      <td>No Scaling</td>\n",
       "      <td>15</td>\n",
       "      <td>SelectKBest</td>\n",
       "      <td>[trustLevel, totalScanTimeInSeconds, lineItemV...</td>\n",
       "      <td>{'voting': 'soft', 'weights': [3, 5]}</td>\n",
       "      <td>0.093135</td>\n",
       "      <td>0.113265</td>\n",
       "      <td>VotingClassifier(estimators=[('ada', AdaBoostC...</td>\n",
       "    </tr>\n",
       "    <tr>\n",
       "      <th>8</th>\n",
       "      <td>VotingClassifier</td>\n",
       "      <td>No Scaling</td>\n",
       "      <td>9</td>\n",
       "      <td>SelectKBest</td>\n",
       "      <td>[trustLevel, scannedLineItems, pca_axis_2, tsn...</td>\n",
       "      <td>{'voting': 'soft', 'weights': [5, 3]}</td>\n",
       "      <td>0.093135</td>\n",
       "      <td>0.120364</td>\n",
       "      <td>VotingClassifier(estimators=[('ada', AdaBoostC...</td>\n",
       "    </tr>\n",
       "    <tr>\n",
       "      <th>24</th>\n",
       "      <td>VotingClassifier</td>\n",
       "      <td>No Scaling</td>\n",
       "      <td>25</td>\n",
       "      <td>SelectKBest</td>\n",
       "      <td>[trustLevel, totalScanTimeInSeconds, lineItemV...</td>\n",
       "      <td>{'voting': 'soft', 'weights': [3, 5]}</td>\n",
       "      <td>0.085152</td>\n",
       "      <td>0.109533</td>\n",
       "      <td>VotingClassifier(estimators=[('ada', AdaBoostC...</td>\n",
       "    </tr>\n",
       "    <tr>\n",
       "      <th>22</th>\n",
       "      <td>VotingClassifier</td>\n",
       "      <td>No Scaling</td>\n",
       "      <td>23</td>\n",
       "      <td>SelectKBest</td>\n",
       "      <td>[trustLevel, totalScanTimeInSeconds, lineItemV...</td>\n",
       "      <td>{'voting': 'soft', 'weights': [5, 3]}</td>\n",
       "      <td>0.085152</td>\n",
       "      <td>0.112784</td>\n",
       "      <td>VotingClassifier(estimators=[('ada', AdaBoostC...</td>\n",
       "    </tr>\n",
       "    <tr>\n",
       "      <th>9</th>\n",
       "      <td>VotingClassifier</td>\n",
       "      <td>No Scaling</td>\n",
       "      <td>10</td>\n",
       "      <td>SelectKBest</td>\n",
       "      <td>[trustLevel, totalScanTimeInSeconds, scannedLi...</td>\n",
       "      <td>{'voting': 'soft', 'weights': [3, 5]}</td>\n",
       "      <td>0.079830</td>\n",
       "      <td>0.153282</td>\n",
       "      <td>VotingClassifier(estimators=[('ada', AdaBoostC...</td>\n",
       "    </tr>\n",
       "    <tr>\n",
       "      <th>18</th>\n",
       "      <td>VotingClassifier</td>\n",
       "      <td>No Scaling</td>\n",
       "      <td>19</td>\n",
       "      <td>SelectKBest</td>\n",
       "      <td>[trustLevel, totalScanTimeInSeconds, lineItemV...</td>\n",
       "      <td>{'voting': 'soft', 'weights': [5, 3]}</td>\n",
       "      <td>0.079830</td>\n",
       "      <td>0.118635</td>\n",
       "      <td>VotingClassifier(estimators=[('ada', AdaBoostC...</td>\n",
       "    </tr>\n",
       "    <tr>\n",
       "      <th>29</th>\n",
       "      <td>VotingClassifier</td>\n",
       "      <td>No Scaling</td>\n",
       "      <td>30</td>\n",
       "      <td>SelectKBest</td>\n",
       "      <td>[trustLevel, totalScanTimeInSeconds, grandTota...</td>\n",
       "      <td>{'voting': 'soft', 'weights': [1, 1]}</td>\n",
       "      <td>0.071847</td>\n",
       "      <td>0.077400</td>\n",
       "      <td>VotingClassifier(estimators=[('ada', AdaBoostC...</td>\n",
       "    </tr>\n",
       "    <tr>\n",
       "      <th>28</th>\n",
       "      <td>VotingClassifier</td>\n",
       "      <td>No Scaling</td>\n",
       "      <td>29</td>\n",
       "      <td>SelectKBest</td>\n",
       "      <td>[trustLevel, totalScanTimeInSeconds, grandTota...</td>\n",
       "      <td>{'voting': 'soft', 'weights': [5, 3]}</td>\n",
       "      <td>0.071847</td>\n",
       "      <td>0.114151</td>\n",
       "      <td>VotingClassifier(estimators=[('ada', AdaBoostC...</td>\n",
       "    </tr>\n",
       "    <tr>\n",
       "      <th>17</th>\n",
       "      <td>VotingClassifier</td>\n",
       "      <td>No Scaling</td>\n",
       "      <td>18</td>\n",
       "      <td>SelectKBest</td>\n",
       "      <td>[trustLevel, totalScanTimeInSeconds, lineItemV...</td>\n",
       "      <td>{'voting': 'soft', 'weights': [5, 3]}</td>\n",
       "      <td>0.071847</td>\n",
       "      <td>0.077400</td>\n",
       "      <td>VotingClassifier(estimators=[('ada', AdaBoostC...</td>\n",
       "    </tr>\n",
       "    <tr>\n",
       "      <th>26</th>\n",
       "      <td>VotingClassifier</td>\n",
       "      <td>No Scaling</td>\n",
       "      <td>27</td>\n",
       "      <td>SelectKBest</td>\n",
       "      <td>[trustLevel, totalScanTimeInSeconds, lineItemV...</td>\n",
       "      <td>{'voting': 'soft', 'weights': [5, 3]}</td>\n",
       "      <td>0.071847</td>\n",
       "      <td>0.101160</td>\n",
       "      <td>VotingClassifier(estimators=[('ada', AdaBoostC...</td>\n",
       "    </tr>\n",
       "    <tr>\n",
       "      <th>27</th>\n",
       "      <td>VotingClassifier</td>\n",
       "      <td>No Scaling</td>\n",
       "      <td>28</td>\n",
       "      <td>SelectKBest</td>\n",
       "      <td>[trustLevel, totalScanTimeInSeconds, grandTota...</td>\n",
       "      <td>{'voting': 'soft', 'weights': [1, 1]}</td>\n",
       "      <td>0.071847</td>\n",
       "      <td>0.101160</td>\n",
       "      <td>VotingClassifier(estimators=[('ada', AdaBoostC...</td>\n",
       "    </tr>\n",
       "    <tr>\n",
       "      <th>3</th>\n",
       "      <td>VotingClassifier</td>\n",
       "      <td>No Scaling</td>\n",
       "      <td>4</td>\n",
       "      <td>SelectKBest</td>\n",
       "      <td>[lr, et, lda, svc]</td>\n",
       "      <td>{'voting': 'soft', 'weights': [5, 3]}</td>\n",
       "      <td>0.069186</td>\n",
       "      <td>0.103892</td>\n",
       "      <td>VotingClassifier(estimators=[('ada', AdaBoostC...</td>\n",
       "    </tr>\n",
       "    <tr>\n",
       "      <th>4</th>\n",
       "      <td>VotingClassifier</td>\n",
       "      <td>No Scaling</td>\n",
       "      <td>5</td>\n",
       "      <td>SelectKBest</td>\n",
       "      <td>[lr, et, lda, svc, nb]</td>\n",
       "      <td>{'voting': 'soft', 'weights': [5, 3]}</td>\n",
       "      <td>0.063864</td>\n",
       "      <td>0.113620</td>\n",
       "      <td>VotingClassifier(estimators=[('ada', AdaBoostC...</td>\n",
       "    </tr>\n",
       "    <tr>\n",
       "      <th>15</th>\n",
       "      <td>VotingClassifier</td>\n",
       "      <td>No Scaling</td>\n",
       "      <td>16</td>\n",
       "      <td>SelectKBest</td>\n",
       "      <td>[trustLevel, totalScanTimeInSeconds, scansWith...</td>\n",
       "      <td>{'voting': 'soft', 'weights': [5, 3]}</td>\n",
       "      <td>0.058542</td>\n",
       "      <td>0.146661</td>\n",
       "      <td>VotingClassifier(estimators=[('ada', AdaBoostC...</td>\n",
       "    </tr>\n",
       "    <tr>\n",
       "      <th>25</th>\n",
       "      <td>VotingClassifier</td>\n",
       "      <td>No Scaling</td>\n",
       "      <td>26</td>\n",
       "      <td>SelectKBest</td>\n",
       "      <td>[trustLevel, totalScanTimeInSeconds, lineItemV...</td>\n",
       "      <td>{'voting': 'soft', 'weights': [5, 3]}</td>\n",
       "      <td>0.058542</td>\n",
       "      <td>0.100943</td>\n",
       "      <td>VotingClassifier(estimators=[('ada', AdaBoostC...</td>\n",
       "    </tr>\n",
       "    <tr>\n",
       "      <th>19</th>\n",
       "      <td>VotingClassifier</td>\n",
       "      <td>No Scaling</td>\n",
       "      <td>20</td>\n",
       "      <td>SelectKBest</td>\n",
       "      <td>[trustLevel, totalScanTimeInSeconds, lineItemV...</td>\n",
       "      <td>{'voting': 'soft', 'weights': [5, 3]}</td>\n",
       "      <td>0.045237</td>\n",
       "      <td>0.087505</td>\n",
       "      <td>VotingClassifier(estimators=[('ada', AdaBoostC...</td>\n",
       "    </tr>\n",
       "    <tr>\n",
       "      <th>0</th>\n",
       "      <td>VotingClassifier</td>\n",
       "      <td>No Scaling</td>\n",
       "      <td>1</td>\n",
       "      <td>SelectKBest</td>\n",
       "      <td>[svc]</td>\n",
       "      <td>{'voting': 'soft', 'weights': [5, 3]}</td>\n",
       "      <td>-0.005322</td>\n",
       "      <td>0.136846</td>\n",
       "      <td>VotingClassifier(estimators=[('ada', AdaBoostC...</td>\n",
       "    </tr>\n",
       "  </tbody>\n",
       "</table>\n",
       "</div>"
      ],
      "text/plain": [
       "               Model Data Preparation Feature Count Feature Selection Technique                                           Features                     Optimal Parameters  Monetary Value Per Instance - Mean  Monetary Value Per Instance - Standard Deviation                                          Raw Model\n",
       "6   VotingClassifier       No Scaling             7                 SelectKBest    [pca_axis_2, tsne_axis_2, lr, et, lda, svc, nb]  {'voting': 'soft', 'weights': [5, 3]}                            0.111762                                          0.117782  VotingClassifier(estimators=[('ada', AdaBoostC...\n",
       "7   VotingClassifier       No Scaling             8                 SelectKBest  [trustLevel, pca_axis_2, tsne_axis_2, lr, et, ...  {'voting': 'soft', 'weights': [5, 3]}                            0.111762                                          0.117782  VotingClassifier(estimators=[('ada', AdaBoostC...\n",
       "11  VotingClassifier       No Scaling            12                 SelectKBest  [trustLevel, totalScanTimeInSeconds, scannedLi...  {'voting': 'soft', 'weights': [5, 3]}                            0.109101                                          0.122243  VotingClassifier(estimators=[('ada', AdaBoostC...\n",
       "13  VotingClassifier       No Scaling            14                 SelectKBest  [trustLevel, totalScanTimeInSeconds, lineItemV...  {'voting': 'soft', 'weights': [5, 3]}                            0.103779                                          0.108956  VotingClassifier(estimators=[('ada', AdaBoostC...\n",
       "21  VotingClassifier       No Scaling            22                 SelectKBest  [trustLevel, totalScanTimeInSeconds, lineItemV...  {'voting': 'soft', 'weights': [1, 1]}                            0.098457                                          0.088394  VotingClassifier(estimators=[('ada', AdaBoostC...\n",
       "12  VotingClassifier       No Scaling            13                 SelectKBest  [trustLevel, totalScanTimeInSeconds, scannedLi...  {'voting': 'soft', 'weights': [1, 1]}                            0.098457                                          0.124955  VotingClassifier(estimators=[('ada', AdaBoostC...\n",
       "10  VotingClassifier       No Scaling            11                 SelectKBest  [trustLevel, totalScanTimeInSeconds, scannedLi...  {'voting': 'soft', 'weights': [5, 3]}                            0.098457                                          0.126607  VotingClassifier(estimators=[('ada', AdaBoostC...\n",
       "20  VotingClassifier       No Scaling            21                 SelectKBest  [trustLevel, totalScanTimeInSeconds, lineItemV...  {'voting': 'soft', 'weights': [5, 3]}                            0.098457                                          0.124955  VotingClassifier(estimators=[('ada', AdaBoostC...\n",
       "16  VotingClassifier       No Scaling            17                 SelectKBest  [trustLevel, totalScanTimeInSeconds, lineItemV...  {'voting': 'soft', 'weights': [1, 1]}                            0.098457                                          0.109972  VotingClassifier(estimators=[('ada', AdaBoostC...\n",
       "23  VotingClassifier       No Scaling            24                 SelectKBest  [trustLevel, totalScanTimeInSeconds, lineItemV...  {'voting': 'soft', 'weights': [5, 3]}                            0.098457                                          0.123811  VotingClassifier(estimators=[('ada', AdaBoostC...\n",
       "5   VotingClassifier       No Scaling             6                 SelectKBest                [tsne_axis_2, lr, et, lda, svc, nb]  {'voting': 'soft', 'weights': [5, 3]}                            0.095796                                          0.120981  VotingClassifier(estimators=[('ada', AdaBoostC...\n",
       "2   VotingClassifier       No Scaling             3                 SelectKBest                                      [lr, et, svc]  {'voting': 'soft', 'weights': [5, 3]}                            0.095796                                          0.130674  VotingClassifier(estimators=[('ada', AdaBoostC...\n",
       "1   VotingClassifier       No Scaling             2                 SelectKBest                                          [lr, svc]  {'voting': 'soft', 'weights': [5, 3]}                            0.095796                                          0.120513  VotingClassifier(estimators=[('ada', AdaBoostC...\n",
       "14  VotingClassifier       No Scaling            15                 SelectKBest  [trustLevel, totalScanTimeInSeconds, lineItemV...  {'voting': 'soft', 'weights': [3, 5]}                            0.093135                                          0.113265  VotingClassifier(estimators=[('ada', AdaBoostC...\n",
       "8   VotingClassifier       No Scaling             9                 SelectKBest  [trustLevel, scannedLineItems, pca_axis_2, tsn...  {'voting': 'soft', 'weights': [5, 3]}                            0.093135                                          0.120364  VotingClassifier(estimators=[('ada', AdaBoostC...\n",
       "24  VotingClassifier       No Scaling            25                 SelectKBest  [trustLevel, totalScanTimeInSeconds, lineItemV...  {'voting': 'soft', 'weights': [3, 5]}                            0.085152                                          0.109533  VotingClassifier(estimators=[('ada', AdaBoostC...\n",
       "22  VotingClassifier       No Scaling            23                 SelectKBest  [trustLevel, totalScanTimeInSeconds, lineItemV...  {'voting': 'soft', 'weights': [5, 3]}                            0.085152                                          0.112784  VotingClassifier(estimators=[('ada', AdaBoostC...\n",
       "9   VotingClassifier       No Scaling            10                 SelectKBest  [trustLevel, totalScanTimeInSeconds, scannedLi...  {'voting': 'soft', 'weights': [3, 5]}                            0.079830                                          0.153282  VotingClassifier(estimators=[('ada', AdaBoostC...\n",
       "18  VotingClassifier       No Scaling            19                 SelectKBest  [trustLevel, totalScanTimeInSeconds, lineItemV...  {'voting': 'soft', 'weights': [5, 3]}                            0.079830                                          0.118635  VotingClassifier(estimators=[('ada', AdaBoostC...\n",
       "29  VotingClassifier       No Scaling            30                 SelectKBest  [trustLevel, totalScanTimeInSeconds, grandTota...  {'voting': 'soft', 'weights': [1, 1]}                            0.071847                                          0.077400  VotingClassifier(estimators=[('ada', AdaBoostC...\n",
       "28  VotingClassifier       No Scaling            29                 SelectKBest  [trustLevel, totalScanTimeInSeconds, grandTota...  {'voting': 'soft', 'weights': [5, 3]}                            0.071847                                          0.114151  VotingClassifier(estimators=[('ada', AdaBoostC...\n",
       "17  VotingClassifier       No Scaling            18                 SelectKBest  [trustLevel, totalScanTimeInSeconds, lineItemV...  {'voting': 'soft', 'weights': [5, 3]}                            0.071847                                          0.077400  VotingClassifier(estimators=[('ada', AdaBoostC...\n",
       "26  VotingClassifier       No Scaling            27                 SelectKBest  [trustLevel, totalScanTimeInSeconds, lineItemV...  {'voting': 'soft', 'weights': [5, 3]}                            0.071847                                          0.101160  VotingClassifier(estimators=[('ada', AdaBoostC...\n",
       "27  VotingClassifier       No Scaling            28                 SelectKBest  [trustLevel, totalScanTimeInSeconds, grandTota...  {'voting': 'soft', 'weights': [1, 1]}                            0.071847                                          0.101160  VotingClassifier(estimators=[('ada', AdaBoostC...\n",
       "3   VotingClassifier       No Scaling             4                 SelectKBest                                 [lr, et, lda, svc]  {'voting': 'soft', 'weights': [5, 3]}                            0.069186                                          0.103892  VotingClassifier(estimators=[('ada', AdaBoostC...\n",
       "4   VotingClassifier       No Scaling             5                 SelectKBest                             [lr, et, lda, svc, nb]  {'voting': 'soft', 'weights': [5, 3]}                            0.063864                                          0.113620  VotingClassifier(estimators=[('ada', AdaBoostC...\n",
       "15  VotingClassifier       No Scaling            16                 SelectKBest  [trustLevel, totalScanTimeInSeconds, scansWith...  {'voting': 'soft', 'weights': [5, 3]}                            0.058542                                          0.146661  VotingClassifier(estimators=[('ada', AdaBoostC...\n",
       "25  VotingClassifier       No Scaling            26                 SelectKBest  [trustLevel, totalScanTimeInSeconds, lineItemV...  {'voting': 'soft', 'weights': [5, 3]}                            0.058542                                          0.100943  VotingClassifier(estimators=[('ada', AdaBoostC...\n",
       "19  VotingClassifier       No Scaling            20                 SelectKBest  [trustLevel, totalScanTimeInSeconds, lineItemV...  {'voting': 'soft', 'weights': [5, 3]}                            0.045237                                          0.087505  VotingClassifier(estimators=[('ada', AdaBoostC...\n",
       "0   VotingClassifier       No Scaling             1                 SelectKBest                                              [svc]  {'voting': 'soft', 'weights': [5, 3]}                           -0.005322                                          0.136846  VotingClassifier(estimators=[('ada', AdaBoostC..."
      ]
     },
     "execution_count": 94,
     "metadata": {},
     "output_type": "execute_result"
    }
   ],
   "source": [
    "import time\n",
    "from sklearn.feature_selection import SelectKBest\n",
    "from sklearn.feature_selection import chi2\n",
    "from sklearn.feature_selection import f_classif\n",
    "\n",
    "from sklearn.feature_selection import RFECV\n",
    "from sklearn.feature_selection import RFE\n",
    "\n",
    "\n",
    "import time\n",
    "from sklearn.feature_selection import SelectKBest\n",
    "from sklearn.feature_selection import chi2\n",
    "from sklearn.feature_selection import f_classif\n",
    "\n",
    "from sklearn.feature_selection import RFECV\n",
    "from sklearn.feature_selection import RFE\n",
    "\n",
    "from sklearn.preprocessing import MinMaxScaler \n",
    "from sklearn.preprocessing import StandardScaler\n",
    "from sklearn.preprocessing import FunctionTransformer\n",
    "\n",
    "result_table = pd.DataFrame(columns=[\"Model\", \"Data Preparation\", \"Feature Count\", \"Feature Selection Technique\", \"Features\", \"Optimal Parameters\", \"Monetary Value Per Instance - Mean\", \"Monetary Value Per Instance - Standard Deviation\", \"Raw Model\"])\n",
    "X_scaled = X   \n",
    "data_preparation = \"No Scaling\"\n",
    "\n",
    "\n",
    "######### TODO: Feature Importance xgboost: get_fscore()\n",
    "for model in model_tuning_factory:   # replace with model_tuning_factory_randomized for faster results\n",
    "\n",
    "\n",
    "    for feature_count in range(1,len(list(X))+1):\n",
    "        \n",
    "        model.seed = 42\n",
    "        start_time = time.time()              \n",
    "\n",
    "\n",
    "        # Solution with SelectKBest\n",
    "        best_features = SelectKBest(f_classif, k=feature_count).fit(X_scaled,Y)\n",
    "        best_feature_list = X.columns[best_features.get_support()]\n",
    "        X_selected_features = X[best_feature_list]\n",
    "\n",
    "        model.fit(X_selected_features,Y)  \n",
    "        model_name = model.best_estimator_.__class__.__name__\n",
    "        score_mean = model.cv_results_['mean_test_score'][model.best_index_]\n",
    "        score_std = model.cv_results_['std_test_score'][model.best_index_]\n",
    "\n",
    "        result_table = result_table.append({\n",
    "         \"Model\": model_name, \n",
    "         \"Data Preparation\": data_preparation,   \n",
    "         \"Feature Count\": feature_count,\n",
    "         \"Feature Selection Technique\": \"SelectKBest\",   \n",
    "         \"Features\": best_feature_list.values, \n",
    "         \"Optimal Parameters\": model.best_params_,\n",
    "         \"Monetary Value Per Instance - Mean\":  score_mean,\n",
    "         \"Monetary Value Per Instance - Standard Deviation\": score_std,   \n",
    "         \"Raw Model\": model.best_estimator_\n",
    "          }, ignore_index=True)\n",
    "\n",
    "\n",
    "        # Solution with Recursive Feature Elimination -> only works for some models\n",
    "\n",
    "        if (model.estimator.__class__.__name__ == 'LogisticRegression'\n",
    "         or model.estimator.__class__.__name__ == 'DecisionTreeClassifier'\n",
    "         or model.estimator.__class__.__name__ == 'ExtraTreeClassifier'\n",
    "         or model.estimator.__class__.__name__ == 'ExtraTreesClassifier'\n",
    "         or model.estimator.__class__.__name__ == 'RandomForestClassifier'\n",
    "         or model.estimator.__class__.__name__ == 'BernoulliNB'\n",
    "         or model.estimator.__class__.__name__ == 'AdaBoostClassifier'\n",
    "         or model.estimator.__class__.__name__ == 'GradientBoostingClassifier'\n",
    "         or model.estimator.__class__.__name__ == 'Perceptron'\n",
    "         or model.estimator.__class__.__name__ == 'LinearDiscriminantAnalysis'\n",
    "         or model.estimator.__class__.__name__ == 'XGBClassifier'):\n",
    "\n",
    "           # Traditional RFE\n",
    "            rfe = RFE(model.estimator, n_features_to_select = feature_count)\n",
    "            rfe = rfe.fit(X,Y)\n",
    "            best_feature_list = np.array(list(X))[np.array(rfe.support_)]\n",
    "            X_selected_features = X[best_feature_list]\n",
    "\n",
    "            model.fit(X_selected_features,Y)  \n",
    "            model_name = model.best_estimator_.__class__.__name__\n",
    "            score_mean = model.cv_results_['mean_test_score'][model.best_index_]\n",
    "            score_std = model.cv_results_['std_test_score'][model.best_index_]\n",
    "\n",
    "\n",
    "            result_table = result_table.append({\n",
    "             \"Model\": model_name, \n",
    "             \"Data Preparation\": data_preparation,\n",
    "             \"Feature Count\": feature_count,\n",
    "             \"Feature Selection Technique\": \"RFE\",\n",
    "             \"Features\": best_feature_list,\n",
    "             \"Optimal Parameters\": model.best_params_,\n",
    "             \"Monetary Value Per Instance - Mean\":  score_mean,\n",
    "             \"Monetary Value Per Instance - Standard Deviation\": score_std,  \n",
    "             \"Raw Model\": model.best_estimator_\n",
    "              }, ignore_index=True)\n",
    "\n",
    "        end_time = time.time()\n",
    "\n",
    "        print(\"Finished \" + model.best_estimator_.__class__.__name__ + \" with \" + data_preparation + \" and \" + str(feature_count) + \" features after \" + str(round(end_time - start_time, 2)) + \" seconds\")\n",
    "\n",
    "\n",
    "\n",
    "    if (model.estimator.__class__.__name__ == 'LogisticRegression'\n",
    "     or model.estimator.__class__.__name__ == 'DecisionTreeClassifier'\n",
    "     or model.estimator.__class__.__name__ == 'ExtraTreeClassifier'\n",
    "     or model.estimator.__class__.__name__ == 'ExtraTreesClassifier'\n",
    "     or model.estimator.__class__.__name__ == 'RandomForestClassifier'\n",
    "     or model.estimator.__class__.__name__ == 'BernoulliNB'\n",
    "     or model.estimator.__class__.__name__ == 'AdaBoostClassifier'\n",
    "     or model.estimator.__class__.__name__ == 'GradientBoostingClassifier'\n",
    "     or model.estimator.__class__.__name__ == 'Perceptron'\n",
    "     or model.estimator.__class__.__name__ == 'LinearDiscriminantAnalysis'\n",
    "     or model.estimator.__class__.__name__ == 'XGBClassifier'):\n",
    "\n",
    "        # RFE with Cross Validation -> determines the optimum feature count automatically\n",
    "        rfecv = RFECV(model.estimator, cv = skf, scoring = my_custom_score)\n",
    "        rfecv = rfe.fit(X,Y)\n",
    "        best_feature_list = np.array(list(X))[np.array(rfecv.support_)]\n",
    "        X_selected_features = X[best_feature_list]\n",
    "\n",
    "        model.fit(X_selected_features,Y)  \n",
    "        model_name = model.best_estimator_.__class__.__name__\n",
    "        score_mean = model.cv_results_['mean_test_score'][model.best_index_]\n",
    "        score_std = model.cv_results_['std_test_score'][model.best_index_]\n",
    "\n",
    "\n",
    "        result_table = result_table.append({\n",
    "         \"Model\": model_name,  \n",
    "         \"Data Preparation\": data_preparation,\n",
    "         \"Feature Count\": len(best_feature_list),\n",
    "         \"Feature Selection Technique\": \"RFECV\",\n",
    "         \"Features\": best_feature_list,\n",
    "         \"Optimal Parameters\": model.best_params_,\n",
    "         \"Monetary Value Per Instance - Mean\":  score_mean,\n",
    "         \"Monetary Value Per Instance - Standard Deviation\": score_std,    \n",
    "         \"Raw Model\": model.best_estimator_\n",
    "          }, ignore_index=True)\n",
    "\n",
    "\n",
    "result_table.sort_values(by = \"Monetary Value Per Instance - Mean\", ascending = False)"
   ]
  },
  {
   "cell_type": "code",
   "execution_count": 95,
   "metadata": {},
   "outputs": [
    {
     "data": {
      "text/html": [
       "<div>\n",
       "<style scoped>\n",
       "    .dataframe tbody tr th:only-of-type {\n",
       "        vertical-align: middle;\n",
       "    }\n",
       "\n",
       "    .dataframe tbody tr th {\n",
       "        vertical-align: top;\n",
       "    }\n",
       "\n",
       "    .dataframe thead th {\n",
       "        text-align: right;\n",
       "    }\n",
       "</style>\n",
       "<table border=\"1\" class=\"dataframe\">\n",
       "  <thead>\n",
       "    <tr style=\"text-align: right;\">\n",
       "      <th></th>\n",
       "      <th>Model</th>\n",
       "      <th>Data Preparation</th>\n",
       "      <th>Feature Count</th>\n",
       "      <th>Feature Selection Technique</th>\n",
       "      <th>Features</th>\n",
       "      <th>Optimal Parameters</th>\n",
       "      <th>Monetary Value Per Instance - Mean</th>\n",
       "      <th>Monetary Value Per Instance - Standard Deviation</th>\n",
       "      <th>Raw Model</th>\n",
       "    </tr>\n",
       "  </thead>\n",
       "  <tbody>\n",
       "    <tr>\n",
       "      <th>0</th>\n",
       "      <td>VotingClassifier</td>\n",
       "      <td>No Scaling</td>\n",
       "      <td>1</td>\n",
       "      <td>SelectKBest</td>\n",
       "      <td>[svc]</td>\n",
       "      <td>{'voting': 'soft', 'weights': [5, 3]}</td>\n",
       "      <td>-0.005322</td>\n",
       "      <td>0.136846</td>\n",
       "      <td>VotingClassifier(estimators=[('ada', AdaBoostC...</td>\n",
       "    </tr>\n",
       "    <tr>\n",
       "      <th>1</th>\n",
       "      <td>VotingClassifier</td>\n",
       "      <td>No Scaling</td>\n",
       "      <td>2</td>\n",
       "      <td>SelectKBest</td>\n",
       "      <td>[lr, svc]</td>\n",
       "      <td>{'voting': 'soft', 'weights': [5, 3]}</td>\n",
       "      <td>0.095796</td>\n",
       "      <td>0.120513</td>\n",
       "      <td>VotingClassifier(estimators=[('ada', AdaBoostC...</td>\n",
       "    </tr>\n",
       "    <tr>\n",
       "      <th>2</th>\n",
       "      <td>VotingClassifier</td>\n",
       "      <td>No Scaling</td>\n",
       "      <td>3</td>\n",
       "      <td>SelectKBest</td>\n",
       "      <td>[lr, et, svc]</td>\n",
       "      <td>{'voting': 'soft', 'weights': [5, 3]}</td>\n",
       "      <td>0.095796</td>\n",
       "      <td>0.130674</td>\n",
       "      <td>VotingClassifier(estimators=[('ada', AdaBoostC...</td>\n",
       "    </tr>\n",
       "    <tr>\n",
       "      <th>3</th>\n",
       "      <td>VotingClassifier</td>\n",
       "      <td>No Scaling</td>\n",
       "      <td>4</td>\n",
       "      <td>SelectKBest</td>\n",
       "      <td>[lr, et, lda, svc]</td>\n",
       "      <td>{'voting': 'soft', 'weights': [5, 3]}</td>\n",
       "      <td>0.069186</td>\n",
       "      <td>0.103892</td>\n",
       "      <td>VotingClassifier(estimators=[('ada', AdaBoostC...</td>\n",
       "    </tr>\n",
       "    <tr>\n",
       "      <th>4</th>\n",
       "      <td>VotingClassifier</td>\n",
       "      <td>No Scaling</td>\n",
       "      <td>5</td>\n",
       "      <td>SelectKBest</td>\n",
       "      <td>[lr, et, lda, svc, nb]</td>\n",
       "      <td>{'voting': 'soft', 'weights': [5, 3]}</td>\n",
       "      <td>0.063864</td>\n",
       "      <td>0.113620</td>\n",
       "      <td>VotingClassifier(estimators=[('ada', AdaBoostC...</td>\n",
       "    </tr>\n",
       "  </tbody>\n",
       "</table>\n",
       "</div>"
      ],
      "text/plain": [
       "              Model Data Preparation Feature Count Feature Selection Technique                Features                     Optimal Parameters  Monetary Value Per Instance - Mean  Monetary Value Per Instance - Standard Deviation                                          Raw Model\n",
       "0  VotingClassifier       No Scaling             1                 SelectKBest                   [svc]  {'voting': 'soft', 'weights': [5, 3]}                           -0.005322                                          0.136846  VotingClassifier(estimators=[('ada', AdaBoostC...\n",
       "1  VotingClassifier       No Scaling             2                 SelectKBest               [lr, svc]  {'voting': 'soft', 'weights': [5, 3]}                            0.095796                                          0.120513  VotingClassifier(estimators=[('ada', AdaBoostC...\n",
       "2  VotingClassifier       No Scaling             3                 SelectKBest           [lr, et, svc]  {'voting': 'soft', 'weights': [5, 3]}                            0.095796                                          0.130674  VotingClassifier(estimators=[('ada', AdaBoostC...\n",
       "3  VotingClassifier       No Scaling             4                 SelectKBest      [lr, et, lda, svc]  {'voting': 'soft', 'weights': [5, 3]}                            0.069186                                          0.103892  VotingClassifier(estimators=[('ada', AdaBoostC...\n",
       "4  VotingClassifier       No Scaling             5                 SelectKBest  [lr, et, lda, svc, nb]  {'voting': 'soft', 'weights': [5, 3]}                            0.063864                                          0.113620  VotingClassifier(estimators=[('ada', AdaBoostC..."
      ]
     },
     "execution_count": 95,
     "metadata": {},
     "output_type": "execute_result"
    }
   ],
   "source": [
    "result_table.head()"
   ]
  },
  {
   "cell_type": "code",
   "execution_count": 96,
   "metadata": {},
   "outputs": [
    {
     "data": {
      "text/html": [
       "<div>\n",
       "<style scoped>\n",
       "    .dataframe tbody tr th:only-of-type {\n",
       "        vertical-align: middle;\n",
       "    }\n",
       "\n",
       "    .dataframe tbody tr th {\n",
       "        vertical-align: top;\n",
       "    }\n",
       "\n",
       "    .dataframe thead th {\n",
       "        text-align: right;\n",
       "    }\n",
       "</style>\n",
       "<table border=\"1\" class=\"dataframe\">\n",
       "  <thead>\n",
       "    <tr style=\"text-align: right;\">\n",
       "      <th></th>\n",
       "      <th>Model</th>\n",
       "      <th>Data Preparation</th>\n",
       "      <th>Feature Count</th>\n",
       "      <th>Feature Selection Technique</th>\n",
       "      <th>Features</th>\n",
       "      <th>Optimal Parameters</th>\n",
       "      <th>Monetary Value Per Instance - Mean</th>\n",
       "      <th>Monetary Value Per Instance - Standard Deviation</th>\n",
       "      <th>Raw Model</th>\n",
       "    </tr>\n",
       "  </thead>\n",
       "  <tbody>\n",
       "    <tr>\n",
       "      <th>6</th>\n",
       "      <td>VotingClassifier</td>\n",
       "      <td>No Scaling</td>\n",
       "      <td>7</td>\n",
       "      <td>SelectKBest</td>\n",
       "      <td>[pca_axis_2, tsne_axis_2, lr, et, lda, svc, nb]</td>\n",
       "      <td>{'voting': 'soft', 'weights': [5, 3]}</td>\n",
       "      <td>0.111762</td>\n",
       "      <td>0.117782</td>\n",
       "      <td>VotingClassifier(estimators=[('ada', AdaBoostC...</td>\n",
       "    </tr>\n",
       "    <tr>\n",
       "      <th>7</th>\n",
       "      <td>VotingClassifier</td>\n",
       "      <td>No Scaling</td>\n",
       "      <td>8</td>\n",
       "      <td>SelectKBest</td>\n",
       "      <td>[trustLevel, pca_axis_2, tsne_axis_2, lr, et, ...</td>\n",
       "      <td>{'voting': 'soft', 'weights': [5, 3]}</td>\n",
       "      <td>0.111762</td>\n",
       "      <td>0.117782</td>\n",
       "      <td>VotingClassifier(estimators=[('ada', AdaBoostC...</td>\n",
       "    </tr>\n",
       "    <tr>\n",
       "      <th>11</th>\n",
       "      <td>VotingClassifier</td>\n",
       "      <td>No Scaling</td>\n",
       "      <td>12</td>\n",
       "      <td>SelectKBest</td>\n",
       "      <td>[trustLevel, totalScanTimeInSeconds, scannedLi...</td>\n",
       "      <td>{'voting': 'soft', 'weights': [5, 3]}</td>\n",
       "      <td>0.109101</td>\n",
       "      <td>0.122243</td>\n",
       "      <td>VotingClassifier(estimators=[('ada', AdaBoostC...</td>\n",
       "    </tr>\n",
       "    <tr>\n",
       "      <th>13</th>\n",
       "      <td>VotingClassifier</td>\n",
       "      <td>No Scaling</td>\n",
       "      <td>14</td>\n",
       "      <td>SelectKBest</td>\n",
       "      <td>[trustLevel, totalScanTimeInSeconds, lineItemV...</td>\n",
       "      <td>{'voting': 'soft', 'weights': [5, 3]}</td>\n",
       "      <td>0.103779</td>\n",
       "      <td>0.108956</td>\n",
       "      <td>VotingClassifier(estimators=[('ada', AdaBoostC...</td>\n",
       "    </tr>\n",
       "    <tr>\n",
       "      <th>21</th>\n",
       "      <td>VotingClassifier</td>\n",
       "      <td>No Scaling</td>\n",
       "      <td>22</td>\n",
       "      <td>SelectKBest</td>\n",
       "      <td>[trustLevel, totalScanTimeInSeconds, lineItemV...</td>\n",
       "      <td>{'voting': 'soft', 'weights': [1, 1]}</td>\n",
       "      <td>0.098457</td>\n",
       "      <td>0.088394</td>\n",
       "      <td>VotingClassifier(estimators=[('ada', AdaBoostC...</td>\n",
       "    </tr>\n",
       "    <tr>\n",
       "      <th>12</th>\n",
       "      <td>VotingClassifier</td>\n",
       "      <td>No Scaling</td>\n",
       "      <td>13</td>\n",
       "      <td>SelectKBest</td>\n",
       "      <td>[trustLevel, totalScanTimeInSeconds, scannedLi...</td>\n",
       "      <td>{'voting': 'soft', 'weights': [1, 1]}</td>\n",
       "      <td>0.098457</td>\n",
       "      <td>0.124955</td>\n",
       "      <td>VotingClassifier(estimators=[('ada', AdaBoostC...</td>\n",
       "    </tr>\n",
       "    <tr>\n",
       "      <th>10</th>\n",
       "      <td>VotingClassifier</td>\n",
       "      <td>No Scaling</td>\n",
       "      <td>11</td>\n",
       "      <td>SelectKBest</td>\n",
       "      <td>[trustLevel, totalScanTimeInSeconds, scannedLi...</td>\n",
       "      <td>{'voting': 'soft', 'weights': [5, 3]}</td>\n",
       "      <td>0.098457</td>\n",
       "      <td>0.126607</td>\n",
       "      <td>VotingClassifier(estimators=[('ada', AdaBoostC...</td>\n",
       "    </tr>\n",
       "    <tr>\n",
       "      <th>20</th>\n",
       "      <td>VotingClassifier</td>\n",
       "      <td>No Scaling</td>\n",
       "      <td>21</td>\n",
       "      <td>SelectKBest</td>\n",
       "      <td>[trustLevel, totalScanTimeInSeconds, lineItemV...</td>\n",
       "      <td>{'voting': 'soft', 'weights': [5, 3]}</td>\n",
       "      <td>0.098457</td>\n",
       "      <td>0.124955</td>\n",
       "      <td>VotingClassifier(estimators=[('ada', AdaBoostC...</td>\n",
       "    </tr>\n",
       "    <tr>\n",
       "      <th>16</th>\n",
       "      <td>VotingClassifier</td>\n",
       "      <td>No Scaling</td>\n",
       "      <td>17</td>\n",
       "      <td>SelectKBest</td>\n",
       "      <td>[trustLevel, totalScanTimeInSeconds, lineItemV...</td>\n",
       "      <td>{'voting': 'soft', 'weights': [1, 1]}</td>\n",
       "      <td>0.098457</td>\n",
       "      <td>0.109972</td>\n",
       "      <td>VotingClassifier(estimators=[('ada', AdaBoostC...</td>\n",
       "    </tr>\n",
       "    <tr>\n",
       "      <th>23</th>\n",
       "      <td>VotingClassifier</td>\n",
       "      <td>No Scaling</td>\n",
       "      <td>24</td>\n",
       "      <td>SelectKBest</td>\n",
       "      <td>[trustLevel, totalScanTimeInSeconds, lineItemV...</td>\n",
       "      <td>{'voting': 'soft', 'weights': [5, 3]}</td>\n",
       "      <td>0.098457</td>\n",
       "      <td>0.123811</td>\n",
       "      <td>VotingClassifier(estimators=[('ada', AdaBoostC...</td>\n",
       "    </tr>\n",
       "    <tr>\n",
       "      <th>5</th>\n",
       "      <td>VotingClassifier</td>\n",
       "      <td>No Scaling</td>\n",
       "      <td>6</td>\n",
       "      <td>SelectKBest</td>\n",
       "      <td>[tsne_axis_2, lr, et, lda, svc, nb]</td>\n",
       "      <td>{'voting': 'soft', 'weights': [5, 3]}</td>\n",
       "      <td>0.095796</td>\n",
       "      <td>0.120981</td>\n",
       "      <td>VotingClassifier(estimators=[('ada', AdaBoostC...</td>\n",
       "    </tr>\n",
       "    <tr>\n",
       "      <th>2</th>\n",
       "      <td>VotingClassifier</td>\n",
       "      <td>No Scaling</td>\n",
       "      <td>3</td>\n",
       "      <td>SelectKBest</td>\n",
       "      <td>[lr, et, svc]</td>\n",
       "      <td>{'voting': 'soft', 'weights': [5, 3]}</td>\n",
       "      <td>0.095796</td>\n",
       "      <td>0.130674</td>\n",
       "      <td>VotingClassifier(estimators=[('ada', AdaBoostC...</td>\n",
       "    </tr>\n",
       "    <tr>\n",
       "      <th>1</th>\n",
       "      <td>VotingClassifier</td>\n",
       "      <td>No Scaling</td>\n",
       "      <td>2</td>\n",
       "      <td>SelectKBest</td>\n",
       "      <td>[lr, svc]</td>\n",
       "      <td>{'voting': 'soft', 'weights': [5, 3]}</td>\n",
       "      <td>0.095796</td>\n",
       "      <td>0.120513</td>\n",
       "      <td>VotingClassifier(estimators=[('ada', AdaBoostC...</td>\n",
       "    </tr>\n",
       "    <tr>\n",
       "      <th>14</th>\n",
       "      <td>VotingClassifier</td>\n",
       "      <td>No Scaling</td>\n",
       "      <td>15</td>\n",
       "      <td>SelectKBest</td>\n",
       "      <td>[trustLevel, totalScanTimeInSeconds, lineItemV...</td>\n",
       "      <td>{'voting': 'soft', 'weights': [3, 5]}</td>\n",
       "      <td>0.093135</td>\n",
       "      <td>0.113265</td>\n",
       "      <td>VotingClassifier(estimators=[('ada', AdaBoostC...</td>\n",
       "    </tr>\n",
       "    <tr>\n",
       "      <th>8</th>\n",
       "      <td>VotingClassifier</td>\n",
       "      <td>No Scaling</td>\n",
       "      <td>9</td>\n",
       "      <td>SelectKBest</td>\n",
       "      <td>[trustLevel, scannedLineItems, pca_axis_2, tsn...</td>\n",
       "      <td>{'voting': 'soft', 'weights': [5, 3]}</td>\n",
       "      <td>0.093135</td>\n",
       "      <td>0.120364</td>\n",
       "      <td>VotingClassifier(estimators=[('ada', AdaBoostC...</td>\n",
       "    </tr>\n",
       "    <tr>\n",
       "      <th>24</th>\n",
       "      <td>VotingClassifier</td>\n",
       "      <td>No Scaling</td>\n",
       "      <td>25</td>\n",
       "      <td>SelectKBest</td>\n",
       "      <td>[trustLevel, totalScanTimeInSeconds, lineItemV...</td>\n",
       "      <td>{'voting': 'soft', 'weights': [3, 5]}</td>\n",
       "      <td>0.085152</td>\n",
       "      <td>0.109533</td>\n",
       "      <td>VotingClassifier(estimators=[('ada', AdaBoostC...</td>\n",
       "    </tr>\n",
       "    <tr>\n",
       "      <th>22</th>\n",
       "      <td>VotingClassifier</td>\n",
       "      <td>No Scaling</td>\n",
       "      <td>23</td>\n",
       "      <td>SelectKBest</td>\n",
       "      <td>[trustLevel, totalScanTimeInSeconds, lineItemV...</td>\n",
       "      <td>{'voting': 'soft', 'weights': [5, 3]}</td>\n",
       "      <td>0.085152</td>\n",
       "      <td>0.112784</td>\n",
       "      <td>VotingClassifier(estimators=[('ada', AdaBoostC...</td>\n",
       "    </tr>\n",
       "    <tr>\n",
       "      <th>9</th>\n",
       "      <td>VotingClassifier</td>\n",
       "      <td>No Scaling</td>\n",
       "      <td>10</td>\n",
       "      <td>SelectKBest</td>\n",
       "      <td>[trustLevel, totalScanTimeInSeconds, scannedLi...</td>\n",
       "      <td>{'voting': 'soft', 'weights': [3, 5]}</td>\n",
       "      <td>0.079830</td>\n",
       "      <td>0.153282</td>\n",
       "      <td>VotingClassifier(estimators=[('ada', AdaBoostC...</td>\n",
       "    </tr>\n",
       "    <tr>\n",
       "      <th>18</th>\n",
       "      <td>VotingClassifier</td>\n",
       "      <td>No Scaling</td>\n",
       "      <td>19</td>\n",
       "      <td>SelectKBest</td>\n",
       "      <td>[trustLevel, totalScanTimeInSeconds, lineItemV...</td>\n",
       "      <td>{'voting': 'soft', 'weights': [5, 3]}</td>\n",
       "      <td>0.079830</td>\n",
       "      <td>0.118635</td>\n",
       "      <td>VotingClassifier(estimators=[('ada', AdaBoostC...</td>\n",
       "    </tr>\n",
       "    <tr>\n",
       "      <th>29</th>\n",
       "      <td>VotingClassifier</td>\n",
       "      <td>No Scaling</td>\n",
       "      <td>30</td>\n",
       "      <td>SelectKBest</td>\n",
       "      <td>[trustLevel, totalScanTimeInSeconds, grandTota...</td>\n",
       "      <td>{'voting': 'soft', 'weights': [1, 1]}</td>\n",
       "      <td>0.071847</td>\n",
       "      <td>0.077400</td>\n",
       "      <td>VotingClassifier(estimators=[('ada', AdaBoostC...</td>\n",
       "    </tr>\n",
       "    <tr>\n",
       "      <th>28</th>\n",
       "      <td>VotingClassifier</td>\n",
       "      <td>No Scaling</td>\n",
       "      <td>29</td>\n",
       "      <td>SelectKBest</td>\n",
       "      <td>[trustLevel, totalScanTimeInSeconds, grandTota...</td>\n",
       "      <td>{'voting': 'soft', 'weights': [5, 3]}</td>\n",
       "      <td>0.071847</td>\n",
       "      <td>0.114151</td>\n",
       "      <td>VotingClassifier(estimators=[('ada', AdaBoostC...</td>\n",
       "    </tr>\n",
       "    <tr>\n",
       "      <th>17</th>\n",
       "      <td>VotingClassifier</td>\n",
       "      <td>No Scaling</td>\n",
       "      <td>18</td>\n",
       "      <td>SelectKBest</td>\n",
       "      <td>[trustLevel, totalScanTimeInSeconds, lineItemV...</td>\n",
       "      <td>{'voting': 'soft', 'weights': [5, 3]}</td>\n",
       "      <td>0.071847</td>\n",
       "      <td>0.077400</td>\n",
       "      <td>VotingClassifier(estimators=[('ada', AdaBoostC...</td>\n",
       "    </tr>\n",
       "    <tr>\n",
       "      <th>26</th>\n",
       "      <td>VotingClassifier</td>\n",
       "      <td>No Scaling</td>\n",
       "      <td>27</td>\n",
       "      <td>SelectKBest</td>\n",
       "      <td>[trustLevel, totalScanTimeInSeconds, lineItemV...</td>\n",
       "      <td>{'voting': 'soft', 'weights': [5, 3]}</td>\n",
       "      <td>0.071847</td>\n",
       "      <td>0.101160</td>\n",
       "      <td>VotingClassifier(estimators=[('ada', AdaBoostC...</td>\n",
       "    </tr>\n",
       "    <tr>\n",
       "      <th>27</th>\n",
       "      <td>VotingClassifier</td>\n",
       "      <td>No Scaling</td>\n",
       "      <td>28</td>\n",
       "      <td>SelectKBest</td>\n",
       "      <td>[trustLevel, totalScanTimeInSeconds, grandTota...</td>\n",
       "      <td>{'voting': 'soft', 'weights': [1, 1]}</td>\n",
       "      <td>0.071847</td>\n",
       "      <td>0.101160</td>\n",
       "      <td>VotingClassifier(estimators=[('ada', AdaBoostC...</td>\n",
       "    </tr>\n",
       "    <tr>\n",
       "      <th>3</th>\n",
       "      <td>VotingClassifier</td>\n",
       "      <td>No Scaling</td>\n",
       "      <td>4</td>\n",
       "      <td>SelectKBest</td>\n",
       "      <td>[lr, et, lda, svc]</td>\n",
       "      <td>{'voting': 'soft', 'weights': [5, 3]}</td>\n",
       "      <td>0.069186</td>\n",
       "      <td>0.103892</td>\n",
       "      <td>VotingClassifier(estimators=[('ada', AdaBoostC...</td>\n",
       "    </tr>\n",
       "    <tr>\n",
       "      <th>4</th>\n",
       "      <td>VotingClassifier</td>\n",
       "      <td>No Scaling</td>\n",
       "      <td>5</td>\n",
       "      <td>SelectKBest</td>\n",
       "      <td>[lr, et, lda, svc, nb]</td>\n",
       "      <td>{'voting': 'soft', 'weights': [5, 3]}</td>\n",
       "      <td>0.063864</td>\n",
       "      <td>0.113620</td>\n",
       "      <td>VotingClassifier(estimators=[('ada', AdaBoostC...</td>\n",
       "    </tr>\n",
       "    <tr>\n",
       "      <th>15</th>\n",
       "      <td>VotingClassifier</td>\n",
       "      <td>No Scaling</td>\n",
       "      <td>16</td>\n",
       "      <td>SelectKBest</td>\n",
       "      <td>[trustLevel, totalScanTimeInSeconds, scansWith...</td>\n",
       "      <td>{'voting': 'soft', 'weights': [5, 3]}</td>\n",
       "      <td>0.058542</td>\n",
       "      <td>0.146661</td>\n",
       "      <td>VotingClassifier(estimators=[('ada', AdaBoostC...</td>\n",
       "    </tr>\n",
       "    <tr>\n",
       "      <th>25</th>\n",
       "      <td>VotingClassifier</td>\n",
       "      <td>No Scaling</td>\n",
       "      <td>26</td>\n",
       "      <td>SelectKBest</td>\n",
       "      <td>[trustLevel, totalScanTimeInSeconds, lineItemV...</td>\n",
       "      <td>{'voting': 'soft', 'weights': [5, 3]}</td>\n",
       "      <td>0.058542</td>\n",
       "      <td>0.100943</td>\n",
       "      <td>VotingClassifier(estimators=[('ada', AdaBoostC...</td>\n",
       "    </tr>\n",
       "    <tr>\n",
       "      <th>19</th>\n",
       "      <td>VotingClassifier</td>\n",
       "      <td>No Scaling</td>\n",
       "      <td>20</td>\n",
       "      <td>SelectKBest</td>\n",
       "      <td>[trustLevel, totalScanTimeInSeconds, lineItemV...</td>\n",
       "      <td>{'voting': 'soft', 'weights': [5, 3]}</td>\n",
       "      <td>0.045237</td>\n",
       "      <td>0.087505</td>\n",
       "      <td>VotingClassifier(estimators=[('ada', AdaBoostC...</td>\n",
       "    </tr>\n",
       "    <tr>\n",
       "      <th>0</th>\n",
       "      <td>VotingClassifier</td>\n",
       "      <td>No Scaling</td>\n",
       "      <td>1</td>\n",
       "      <td>SelectKBest</td>\n",
       "      <td>[svc]</td>\n",
       "      <td>{'voting': 'soft', 'weights': [5, 3]}</td>\n",
       "      <td>-0.005322</td>\n",
       "      <td>0.136846</td>\n",
       "      <td>VotingClassifier(estimators=[('ada', AdaBoostC...</td>\n",
       "    </tr>\n",
       "  </tbody>\n",
       "</table>\n",
       "</div>"
      ],
      "text/plain": [
       "               Model Data Preparation Feature Count Feature Selection Technique                                           Features                     Optimal Parameters  Monetary Value Per Instance - Mean  Monetary Value Per Instance - Standard Deviation                                          Raw Model\n",
       "6   VotingClassifier       No Scaling             7                 SelectKBest    [pca_axis_2, tsne_axis_2, lr, et, lda, svc, nb]  {'voting': 'soft', 'weights': [5, 3]}                            0.111762                                          0.117782  VotingClassifier(estimators=[('ada', AdaBoostC...\n",
       "7   VotingClassifier       No Scaling             8                 SelectKBest  [trustLevel, pca_axis_2, tsne_axis_2, lr, et, ...  {'voting': 'soft', 'weights': [5, 3]}                            0.111762                                          0.117782  VotingClassifier(estimators=[('ada', AdaBoostC...\n",
       "11  VotingClassifier       No Scaling            12                 SelectKBest  [trustLevel, totalScanTimeInSeconds, scannedLi...  {'voting': 'soft', 'weights': [5, 3]}                            0.109101                                          0.122243  VotingClassifier(estimators=[('ada', AdaBoostC...\n",
       "13  VotingClassifier       No Scaling            14                 SelectKBest  [trustLevel, totalScanTimeInSeconds, lineItemV...  {'voting': 'soft', 'weights': [5, 3]}                            0.103779                                          0.108956  VotingClassifier(estimators=[('ada', AdaBoostC...\n",
       "21  VotingClassifier       No Scaling            22                 SelectKBest  [trustLevel, totalScanTimeInSeconds, lineItemV...  {'voting': 'soft', 'weights': [1, 1]}                            0.098457                                          0.088394  VotingClassifier(estimators=[('ada', AdaBoostC...\n",
       "12  VotingClassifier       No Scaling            13                 SelectKBest  [trustLevel, totalScanTimeInSeconds, scannedLi...  {'voting': 'soft', 'weights': [1, 1]}                            0.098457                                          0.124955  VotingClassifier(estimators=[('ada', AdaBoostC...\n",
       "10  VotingClassifier       No Scaling            11                 SelectKBest  [trustLevel, totalScanTimeInSeconds, scannedLi...  {'voting': 'soft', 'weights': [5, 3]}                            0.098457                                          0.126607  VotingClassifier(estimators=[('ada', AdaBoostC...\n",
       "20  VotingClassifier       No Scaling            21                 SelectKBest  [trustLevel, totalScanTimeInSeconds, lineItemV...  {'voting': 'soft', 'weights': [5, 3]}                            0.098457                                          0.124955  VotingClassifier(estimators=[('ada', AdaBoostC...\n",
       "16  VotingClassifier       No Scaling            17                 SelectKBest  [trustLevel, totalScanTimeInSeconds, lineItemV...  {'voting': 'soft', 'weights': [1, 1]}                            0.098457                                          0.109972  VotingClassifier(estimators=[('ada', AdaBoostC...\n",
       "23  VotingClassifier       No Scaling            24                 SelectKBest  [trustLevel, totalScanTimeInSeconds, lineItemV...  {'voting': 'soft', 'weights': [5, 3]}                            0.098457                                          0.123811  VotingClassifier(estimators=[('ada', AdaBoostC...\n",
       "5   VotingClassifier       No Scaling             6                 SelectKBest                [tsne_axis_2, lr, et, lda, svc, nb]  {'voting': 'soft', 'weights': [5, 3]}                            0.095796                                          0.120981  VotingClassifier(estimators=[('ada', AdaBoostC...\n",
       "2   VotingClassifier       No Scaling             3                 SelectKBest                                      [lr, et, svc]  {'voting': 'soft', 'weights': [5, 3]}                            0.095796                                          0.130674  VotingClassifier(estimators=[('ada', AdaBoostC...\n",
       "1   VotingClassifier       No Scaling             2                 SelectKBest                                          [lr, svc]  {'voting': 'soft', 'weights': [5, 3]}                            0.095796                                          0.120513  VotingClassifier(estimators=[('ada', AdaBoostC...\n",
       "14  VotingClassifier       No Scaling            15                 SelectKBest  [trustLevel, totalScanTimeInSeconds, lineItemV...  {'voting': 'soft', 'weights': [3, 5]}                            0.093135                                          0.113265  VotingClassifier(estimators=[('ada', AdaBoostC...\n",
       "8   VotingClassifier       No Scaling             9                 SelectKBest  [trustLevel, scannedLineItems, pca_axis_2, tsn...  {'voting': 'soft', 'weights': [5, 3]}                            0.093135                                          0.120364  VotingClassifier(estimators=[('ada', AdaBoostC...\n",
       "24  VotingClassifier       No Scaling            25                 SelectKBest  [trustLevel, totalScanTimeInSeconds, lineItemV...  {'voting': 'soft', 'weights': [3, 5]}                            0.085152                                          0.109533  VotingClassifier(estimators=[('ada', AdaBoostC...\n",
       "22  VotingClassifier       No Scaling            23                 SelectKBest  [trustLevel, totalScanTimeInSeconds, lineItemV...  {'voting': 'soft', 'weights': [5, 3]}                            0.085152                                          0.112784  VotingClassifier(estimators=[('ada', AdaBoostC...\n",
       "9   VotingClassifier       No Scaling            10                 SelectKBest  [trustLevel, totalScanTimeInSeconds, scannedLi...  {'voting': 'soft', 'weights': [3, 5]}                            0.079830                                          0.153282  VotingClassifier(estimators=[('ada', AdaBoostC...\n",
       "18  VotingClassifier       No Scaling            19                 SelectKBest  [trustLevel, totalScanTimeInSeconds, lineItemV...  {'voting': 'soft', 'weights': [5, 3]}                            0.079830                                          0.118635  VotingClassifier(estimators=[('ada', AdaBoostC...\n",
       "29  VotingClassifier       No Scaling            30                 SelectKBest  [trustLevel, totalScanTimeInSeconds, grandTota...  {'voting': 'soft', 'weights': [1, 1]}                            0.071847                                          0.077400  VotingClassifier(estimators=[('ada', AdaBoostC...\n",
       "28  VotingClassifier       No Scaling            29                 SelectKBest  [trustLevel, totalScanTimeInSeconds, grandTota...  {'voting': 'soft', 'weights': [5, 3]}                            0.071847                                          0.114151  VotingClassifier(estimators=[('ada', AdaBoostC...\n",
       "17  VotingClassifier       No Scaling            18                 SelectKBest  [trustLevel, totalScanTimeInSeconds, lineItemV...  {'voting': 'soft', 'weights': [5, 3]}                            0.071847                                          0.077400  VotingClassifier(estimators=[('ada', AdaBoostC...\n",
       "26  VotingClassifier       No Scaling            27                 SelectKBest  [trustLevel, totalScanTimeInSeconds, lineItemV...  {'voting': 'soft', 'weights': [5, 3]}                            0.071847                                          0.101160  VotingClassifier(estimators=[('ada', AdaBoostC...\n",
       "27  VotingClassifier       No Scaling            28                 SelectKBest  [trustLevel, totalScanTimeInSeconds, grandTota...  {'voting': 'soft', 'weights': [1, 1]}                            0.071847                                          0.101160  VotingClassifier(estimators=[('ada', AdaBoostC...\n",
       "3   VotingClassifier       No Scaling             4                 SelectKBest                                 [lr, et, lda, svc]  {'voting': 'soft', 'weights': [5, 3]}                            0.069186                                          0.103892  VotingClassifier(estimators=[('ada', AdaBoostC...\n",
       "4   VotingClassifier       No Scaling             5                 SelectKBest                             [lr, et, lda, svc, nb]  {'voting': 'soft', 'weights': [5, 3]}                            0.063864                                          0.113620  VotingClassifier(estimators=[('ada', AdaBoostC...\n",
       "15  VotingClassifier       No Scaling            16                 SelectKBest  [trustLevel, totalScanTimeInSeconds, scansWith...  {'voting': 'soft', 'weights': [5, 3]}                            0.058542                                          0.146661  VotingClassifier(estimators=[('ada', AdaBoostC...\n",
       "25  VotingClassifier       No Scaling            26                 SelectKBest  [trustLevel, totalScanTimeInSeconds, lineItemV...  {'voting': 'soft', 'weights': [5, 3]}                            0.058542                                          0.100943  VotingClassifier(estimators=[('ada', AdaBoostC...\n",
       "19  VotingClassifier       No Scaling            20                 SelectKBest  [trustLevel, totalScanTimeInSeconds, lineItemV...  {'voting': 'soft', 'weights': [5, 3]}                            0.045237                                          0.087505  VotingClassifier(estimators=[('ada', AdaBoostC...\n",
       "0   VotingClassifier       No Scaling             1                 SelectKBest                                              [svc]  {'voting': 'soft', 'weights': [5, 3]}                           -0.005322                                          0.136846  VotingClassifier(estimators=[('ada', AdaBoostC..."
      ]
     },
     "execution_count": 96,
     "metadata": {},
     "output_type": "execute_result"
    }
   ],
   "source": [
    "result_table.sort_values(by = \"Monetary Value Per Instance - Mean\", ascending = False)"
   ]
  },
  {
   "cell_type": "code",
   "execution_count": 97,
   "metadata": {},
   "outputs": [],
   "source": [
    "result_table.to_pickle(\"result_table_ensemble.pkl\")\n",
    "# result_table = pd.read_pickle(\"result_table_Decision_Tree.pkl\")"
   ]
  },
  {
   "cell_type": "code",
   "execution_count": 98,
   "metadata": {},
   "outputs": [
    {
     "data": {
      "text/plain": [
       "Text(0, 0.5, 'Monetary Value Per Instance - Mean')"
      ]
     },
     "execution_count": 98,
     "metadata": {},
     "output_type": "execute_result"
    },
    {
     "data": {
      "image/png": "[encoded data removed]",
      "text/plain": [
       "<Figure size 720x720 with 1 Axes>"
      ]
     },
     "metadata": {
      "needs_background": "light"
     },
     "output_type": "display_data"
    }
   ],
   "source": [
    "plt.rcParams['figure.figsize'] = (10,10)\n",
    "\n",
    "plt.scatter(result_table[\"Feature Count\"], result_table[\"Monetary Value Per Instance - Mean\"])\n",
    "plt.xlabel('Number of features', fontsize=16)\n",
    "plt.ylabel('Monetary Value Per Instance - Mean', fontsize=16)"
   ]
  },
  {
   "cell_type": "code",
   "execution_count": 99,
   "metadata": {},
   "outputs": [
    {
     "name": "stdout",
     "output_type": "stream",
     "text": [
      "VotingClassifier(estimators=[('ada', AdaBoostClassifier(algorithm='SAMME.R', base_estimator=None, learning_rate=1,\n",
      "          n_estimators=100, random_state=None)), ('xgb', XGBClassifier(base_score=0.5, booster='gbtree', colsample_bylevel=1,\n",
      "       colsample_bytree=0.8, gamma=0, learning_rate=0.1, max_delta_step=0,\n",
      " ...e=42, reg_alpha=0, reg_lambda=1, scale_pos_weight=1,\n",
      "       seed=None, silent=True, subsample=0.8))],\n",
      "         flatten_transform=None, n_jobs=50, voting='soft', weights=[5, 3])\n",
      "VotingClassifier(estimators=[('ada', AdaBoostClassifier(algorithm='SAMME.R', base_estimator=None, learning_rate=1,\n",
      "          n_estimators=100, random_state=None)), ('xgb', XGBClassifier(base_score=0.5, booster='gbtree', colsample_bylevel=1,\n",
      "       colsample_bytree=0.8, gamma=0, learning_rate=0.1, max_delta_step=0,\n",
      " ...e=42, reg_alpha=0, reg_lambda=1, scale_pos_weight=1,\n",
      "       seed=None, silent=True, subsample=0.8))],\n",
      "         flatten_transform=None, n_jobs=50, voting='soft', weights=[5, 3])\n",
      "['pca_axis_2' 'tsne_axis_2' 'lr' 'et' 'lda' 'svc' 'nb']\n",
      "{'voting': 'soft', 'weights': [5, 3]}\n"
     ]
    }
   ],
   "source": [
    "best_model = result_table.loc[result_table[\"Monetary Value Per Instance - Mean\"].argmax()][\"Raw Model\"]\n",
    "best_model_features = result_table.loc[result_table[\"Monetary Value Per Instance - Mean\"].argmax()][\"Features\"]\n",
    "best_parameters = result_table.loc[result_table[\"Monetary Value Per Instance - Mean\"].argmax()][\"Optimal Parameters\"]\n",
    "\n",
    "model_pos = result_table.iloc[17,8]\n",
    "print(model_pos)\n",
    "\n",
    "print(best_model)\n",
    "print(best_model_features)\n",
    "print(best_parameters)"
   ]
  },
  {
   "cell_type": "code",
   "execution_count": 100,
   "metadata": {},
   "outputs": [],
   "source": [
    "best_model = result_table.loc[result_table[\"Monetary Value Per Instance - Mean\"].argmax()][\"Raw Model\"]"
   ]
  },
  {
   "cell_type": "code",
   "execution_count": 101,
   "metadata": {},
   "outputs": [
    {
     "name": "stdout",
     "output_type": "stream",
     "text": [
      "True negative:  1774\n",
      "False positive:  1\n",
      "False negative:  3\n",
      "True positive:  101\n",
      "465 for 1879 instances in the test set\n",
      "0.2474720596061735 per instance in the test set\n"
     ]
    }
   ],
   "source": [
    "from sklearn.metrics import confusion_matrix\n",
    "\n",
    "def get_monetary_value(cm):\n",
    "        tn, fp, fn, tp = cm.ravel()\n",
    "        print(\"True negative: \", tn)\n",
    "        print(\"False positive: \", fp)\n",
    "        print(\"False negative: \", fn)\n",
    "        print(\"True positive: \", tp)\n",
    "        score = (-25)*fp + (-5)*fn + 5*tp\n",
    "        print(str(score) + \" for \" + str(sum(sum(cm))) + \" instances in the test set\")\n",
    "        print(str(score/sum(sum(cm))) + \" per instance in the test set\")\n",
    "        return score\n",
    "    \n",
    "cm = confusion_matrix(Y , best_model.predict(X[best_model_features]))\n",
    "\n",
    "monetary_value = get_monetary_value(cm)"
   ]
  }
 ],
 "metadata": {
  "kernelspec": {
   "display_name": "Python 3",
   "language": "python",
   "name": "python3"
  },
  "language_info": {
   "codemirror_mode": {
    "name": "ipython",
    "version": 3
   },
   "file_extension": ".py",
   "mimetype": "text/x-python",
   "name": "python",
   "nbconvert_exporter": "python",
   "pygments_lexer": "ipython3",
   "version": "3.7.3"
  }
 },
 "nbformat": 4,
 "nbformat_minor": 2
}
