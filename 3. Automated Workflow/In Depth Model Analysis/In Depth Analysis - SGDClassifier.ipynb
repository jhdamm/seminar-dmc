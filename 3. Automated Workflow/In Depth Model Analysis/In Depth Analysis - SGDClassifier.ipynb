{
 "cells": [
  {
   "cell_type": "code",
   "execution_count": 1,
   "metadata": {},
   "outputs": [],
   "source": [
    "import pandas as pd\n",
    "import numpy as np\n",
    "import matplotlib.pyplot as plt\n",
    "import warnings\n",
    "warnings.simplefilter(action='ignore', category=FutureWarning)\n",
    "warnings.simplefilter(\"ignore\", category=DeprecationWarning) \n",
    "warnings.simplefilter(\"ignore\", UserWarning)\n",
    "\n",
    "pd.set_option('display.max_rows', 500)\n",
    "pd.set_option('display.max_columns', 500)\n",
    "pd.set_option('display.width', 1000)\n",
    "\n",
    "njobs = -1 "
   ]
  },
  {
   "cell_type": "code",
   "execution_count": 2,
   "metadata": {},
   "outputs": [],
   "source": [
    "train=pd.read_csv('../../1. Task and Data/train.csv',sep='|')"
   ]
  },
  {
   "cell_type": "code",
   "execution_count": 3,
   "metadata": {},
   "outputs": [
    {
     "name": "stdout",
     "output_type": "stream",
     "text": [
      "0    1775\n",
      "1     104\n",
      "Name: fraud, dtype: int64\n",
      "0    0.944651\n",
      "1    0.055349\n",
      "Name: fraud, dtype: float64\n"
     ]
    }
   ],
   "source": [
    "print(train.fraud.value_counts())\n",
    "print(train.fraud.value_counts() / len(train))"
   ]
  },
  {
   "cell_type": "markdown",
   "metadata": {},
   "source": [
    "# Feature Engineering"
   ]
  },
  {
   "cell_type": "code",
   "execution_count": 4,
   "metadata": {},
   "outputs": [],
   "source": [
    "train['scannedLineItems'] = train['scannedLineItemsPerSecond'] * train['totalScanTimeInSeconds']\n",
    "train['pricePerScannedLineItem'] = train['grandTotal'] / train['scannedLineItems']\n",
    "train['scansWithoutRegistrationPerScannedLineItem'] = train['scansWithoutRegistration'] / train['scannedLineItems']\n",
    "train['quantityModificationsPerScannedLineItem'] = train['quantityModifications'] / train['scannedLineItems']\n",
    "train['lineItemVoidsPerSecond'] = train['lineItemVoids'] / train['totalScanTimeInSeconds']\n",
    "train['scansWithoutRegistrationPerSecond'] = train['scansWithoutRegistration'] / train['totalScanTimeInSeconds']\n",
    "train['quantityModificationsPerSecond'] = train['quantityModifications'] / train['totalScanTimeInSeconds']\n",
    "train['secondsPerEuro'] = train['totalScanTimeInSeconds'] / train['grandTotal']\n",
    "train['lineItemVoidsPerEuro'] = train['lineItemVoids'] / train['grandTotal']\n",
    "train['scansWithoutRegistrationPerEuro'] = train['scansWithoutRegistration'] / train['grandTotal']\n",
    "train['quantityModificationsPerEuro'] = train['quantityModifications'] / train['grandTotal']"
   ]
  },
  {
   "cell_type": "code",
   "execution_count": 5,
   "metadata": {},
   "outputs": [],
   "source": [
    "from sklearn.model_selection import cross_val_score\n",
    "from sklearn.metrics import confusion_matrix\n",
    "from sklearn.metrics import make_scorer\n",
    "\n",
    "\n",
    "def my_custom_loss_func(y_true, y_pred):\n",
    "    cm = confusion_matrix(y_true,y_pred)\n",
    "    tn, fp, fn, tp = cm.ravel()\n",
    "    score = ((-25)*fp + (-5)*fn + 5*tp) / len(y_true)\n",
    "    return (score)\n",
    "\n",
    "my_custom_score = make_scorer(my_custom_loss_func, greater_is_better=True)\n",
    "\n",
    "from sklearn.model_selection import StratifiedKFold\n",
    "from sklearn.model_selection import LeaveOneOut\n",
    "\n",
    "skf = StratifiedKFold(n_splits=10)"
   ]
  },
  {
   "cell_type": "markdown",
   "metadata": {},
   "source": [
    "# Model factory"
   ]
  },
  {
   "cell_type": "code",
   "execution_count": 25,
   "metadata": {},
   "outputs": [],
   "source": [
    "from sklearn.linear_model.stochastic_gradient import SGDClassifier\n",
    "\n",
    "from sklearn.model_selection import GridSearchCV\n",
    "from sklearn.model_selection import RandomizedSearchCV\n",
    "\n",
    "\n",
    "model_tuning_factory = [\n",
    "    GridSearchCV(SGDClassifier(),\n",
    "                 dict(loss = ['hinge', 'log', 'modified_huber', 'squared_hinge', 'perceptron', 'squared_loss', 'huber', 'epsilon_insensitive', 'squared_epsilon_insensitive'],\n",
    "                       penalty = ['l2', 'l1', 'elasticnet']),\n",
    "                 cv = skf,\n",
    "                 scoring = my_custom_score),    \n",
    "]           \n",
    "                 \n",
    "                 \n",
    "iterations = 10                \n",
    "               \n",
    "model_tuning_factory_randomized = [\n",
    "    RandomizedSearchCV(SGDClassifier(),\n",
    "                 dict(),\n",
    "                 cv = skf,\n",
    "                 scoring = my_custom_score,\n",
    "                      n_iter  = iterations)\n",
    "]"
   ]
  },
  {
   "cell_type": "code",
   "execution_count": 23,
   "metadata": {},
   "outputs": [],
   "source": [
    "Y = train['fraud']\n",
    "X = train.drop('fraud',axis=1)"
   ]
  },
  {
   "cell_type": "code",
   "execution_count": 24,
   "metadata": {
    "scrolled": true
   },
   "outputs": [
    {
     "name": "stderr",
     "output_type": "stream",
     "text": [
      "C:\\Users\\ahuem\\Anaconda3\\lib\\site-packages\\sklearn\\model_selection\\_search.py:841: DeprecationWarning: The default of the `iid` parameter will change from True to False in version 0.22 and will be removed in 0.24. This will change numeric results when test-set sizes are unequal.\n",
      "  DeprecationWarning)\n"
     ]
    },
    {
     "name": "stdout",
     "output_type": "stream",
     "text": [
      "Finished SGDClassifier with No Scaling and 1 features after 1.06 seconds\n"
     ]
    },
    {
     "name": "stderr",
     "output_type": "stream",
     "text": [
      "C:\\Users\\ahuem\\Anaconda3\\lib\\site-packages\\sklearn\\model_selection\\_search.py:841: DeprecationWarning: The default of the `iid` parameter will change from True to False in version 0.22 and will be removed in 0.24. This will change numeric results when test-set sizes are unequal.\n",
      "  DeprecationWarning)\n"
     ]
    },
    {
     "name": "stdout",
     "output_type": "stream",
     "text": [
      "Finished SGDClassifier with No Scaling and 2 features after 1.11 seconds\n"
     ]
    },
    {
     "name": "stderr",
     "output_type": "stream",
     "text": [
      "C:\\Users\\ahuem\\Anaconda3\\lib\\site-packages\\sklearn\\model_selection\\_search.py:841: DeprecationWarning: The default of the `iid` parameter will change from True to False in version 0.22 and will be removed in 0.24. This will change numeric results when test-set sizes are unequal.\n",
      "  DeprecationWarning)\n"
     ]
    },
    {
     "name": "stdout",
     "output_type": "stream",
     "text": [
      "Finished SGDClassifier with No Scaling and 3 features after 1.12 seconds\n"
     ]
    },
    {
     "name": "stderr",
     "output_type": "stream",
     "text": [
      "C:\\Users\\ahuem\\Anaconda3\\lib\\site-packages\\sklearn\\model_selection\\_search.py:841: DeprecationWarning: The default of the `iid` parameter will change from True to False in version 0.22 and will be removed in 0.24. This will change numeric results when test-set sizes are unequal.\n",
      "  DeprecationWarning)\n"
     ]
    },
    {
     "name": "stdout",
     "output_type": "stream",
     "text": [
      "Finished SGDClassifier with No Scaling and 4 features after 1.18 seconds\n"
     ]
    },
    {
     "name": "stderr",
     "output_type": "stream",
     "text": [
      "C:\\Users\\ahuem\\Anaconda3\\lib\\site-packages\\sklearn\\model_selection\\_search.py:841: DeprecationWarning: The default of the `iid` parameter will change from True to False in version 0.22 and will be removed in 0.24. This will change numeric results when test-set sizes are unequal.\n",
      "  DeprecationWarning)\n"
     ]
    },
    {
     "name": "stdout",
     "output_type": "stream",
     "text": [
      "Finished SGDClassifier with No Scaling and 5 features after 1.1 seconds\n"
     ]
    },
    {
     "name": "stderr",
     "output_type": "stream",
     "text": [
      "C:\\Users\\ahuem\\Anaconda3\\lib\\site-packages\\sklearn\\model_selection\\_search.py:841: DeprecationWarning: The default of the `iid` parameter will change from True to False in version 0.22 and will be removed in 0.24. This will change numeric results when test-set sizes are unequal.\n",
      "  DeprecationWarning)\n"
     ]
    },
    {
     "name": "stdout",
     "output_type": "stream",
     "text": [
      "Finished SGDClassifier with No Scaling and 6 features after 1.2 seconds\n"
     ]
    },
    {
     "name": "stderr",
     "output_type": "stream",
     "text": [
      "C:\\Users\\ahuem\\Anaconda3\\lib\\site-packages\\sklearn\\model_selection\\_search.py:841: DeprecationWarning: The default of the `iid` parameter will change from True to False in version 0.22 and will be removed in 0.24. This will change numeric results when test-set sizes are unequal.\n",
      "  DeprecationWarning)\n"
     ]
    },
    {
     "name": "stdout",
     "output_type": "stream",
     "text": [
      "Finished SGDClassifier with No Scaling and 7 features after 1.14 seconds\n"
     ]
    },
    {
     "name": "stderr",
     "output_type": "stream",
     "text": [
      "C:\\Users\\ahuem\\Anaconda3\\lib\\site-packages\\sklearn\\model_selection\\_search.py:841: DeprecationWarning: The default of the `iid` parameter will change from True to False in version 0.22 and will be removed in 0.24. This will change numeric results when test-set sizes are unequal.\n",
      "  DeprecationWarning)\n"
     ]
    },
    {
     "name": "stdout",
     "output_type": "stream",
     "text": [
      "Finished SGDClassifier with No Scaling and 8 features after 1.14 seconds\n"
     ]
    },
    {
     "name": "stderr",
     "output_type": "stream",
     "text": [
      "C:\\Users\\ahuem\\Anaconda3\\lib\\site-packages\\sklearn\\model_selection\\_search.py:841: DeprecationWarning: The default of the `iid` parameter will change from True to False in version 0.22 and will be removed in 0.24. This will change numeric results when test-set sizes are unequal.\n",
      "  DeprecationWarning)\n"
     ]
    },
    {
     "name": "stdout",
     "output_type": "stream",
     "text": [
      "Finished SGDClassifier with No Scaling and 9 features after 1.16 seconds\n"
     ]
    },
    {
     "name": "stderr",
     "output_type": "stream",
     "text": [
      "C:\\Users\\ahuem\\Anaconda3\\lib\\site-packages\\sklearn\\model_selection\\_search.py:841: DeprecationWarning: The default of the `iid` parameter will change from True to False in version 0.22 and will be removed in 0.24. This will change numeric results when test-set sizes are unequal.\n",
      "  DeprecationWarning)\n"
     ]
    },
    {
     "name": "stdout",
     "output_type": "stream",
     "text": [
      "Finished SGDClassifier with No Scaling and 10 features after 1.28 seconds\n"
     ]
    },
    {
     "name": "stderr",
     "output_type": "stream",
     "text": [
      "C:\\Users\\ahuem\\Anaconda3\\lib\\site-packages\\sklearn\\model_selection\\_search.py:841: DeprecationWarning: The default of the `iid` parameter will change from True to False in version 0.22 and will be removed in 0.24. This will change numeric results when test-set sizes are unequal.\n",
      "  DeprecationWarning)\n"
     ]
    },
    {
     "name": "stdout",
     "output_type": "stream",
     "text": [
      "Finished SGDClassifier with No Scaling and 11 features after 1.16 seconds\n"
     ]
    },
    {
     "name": "stderr",
     "output_type": "stream",
     "text": [
      "C:\\Users\\ahuem\\Anaconda3\\lib\\site-packages\\sklearn\\model_selection\\_search.py:841: DeprecationWarning: The default of the `iid` parameter will change from True to False in version 0.22 and will be removed in 0.24. This will change numeric results when test-set sizes are unequal.\n",
      "  DeprecationWarning)\n"
     ]
    },
    {
     "name": "stdout",
     "output_type": "stream",
     "text": [
      "Finished SGDClassifier with No Scaling and 12 features after 1.16 seconds\n"
     ]
    },
    {
     "name": "stderr",
     "output_type": "stream",
     "text": [
      "C:\\Users\\ahuem\\Anaconda3\\lib\\site-packages\\sklearn\\model_selection\\_search.py:841: DeprecationWarning: The default of the `iid` parameter will change from True to False in version 0.22 and will be removed in 0.24. This will change numeric results when test-set sizes are unequal.\n",
      "  DeprecationWarning)\n"
     ]
    },
    {
     "name": "stdout",
     "output_type": "stream",
     "text": [
      "Finished SGDClassifier with No Scaling and 13 features after 1.29 seconds\n"
     ]
    },
    {
     "name": "stderr",
     "output_type": "stream",
     "text": [
      "C:\\Users\\ahuem\\Anaconda3\\lib\\site-packages\\sklearn\\model_selection\\_search.py:841: DeprecationWarning: The default of the `iid` parameter will change from True to False in version 0.22 and will be removed in 0.24. This will change numeric results when test-set sizes are unequal.\n",
      "  DeprecationWarning)\n"
     ]
    },
    {
     "name": "stdout",
     "output_type": "stream",
     "text": [
      "Finished SGDClassifier with No Scaling and 14 features after 1.22 seconds\n"
     ]
    },
    {
     "name": "stderr",
     "output_type": "stream",
     "text": [
      "C:\\Users\\ahuem\\Anaconda3\\lib\\site-packages\\sklearn\\model_selection\\_search.py:841: DeprecationWarning: The default of the `iid` parameter will change from True to False in version 0.22 and will be removed in 0.24. This will change numeric results when test-set sizes are unequal.\n",
      "  DeprecationWarning)\n"
     ]
    },
    {
     "name": "stdout",
     "output_type": "stream",
     "text": [
      "Finished SGDClassifier with No Scaling and 15 features after 1.62 seconds\n"
     ]
    },
    {
     "name": "stderr",
     "output_type": "stream",
     "text": [
      "C:\\Users\\ahuem\\Anaconda3\\lib\\site-packages\\sklearn\\model_selection\\_search.py:841: DeprecationWarning: The default of the `iid` parameter will change from True to False in version 0.22 and will be removed in 0.24. This will change numeric results when test-set sizes are unequal.\n",
      "  DeprecationWarning)\n"
     ]
    },
    {
     "name": "stdout",
     "output_type": "stream",
     "text": [
      "Finished SGDClassifier with No Scaling and 16 features after 1.58 seconds\n"
     ]
    },
    {
     "name": "stderr",
     "output_type": "stream",
     "text": [
      "C:\\Users\\ahuem\\Anaconda3\\lib\\site-packages\\sklearn\\model_selection\\_search.py:841: DeprecationWarning: The default of the `iid` parameter will change from True to False in version 0.22 and will be removed in 0.24. This will change numeric results when test-set sizes are unequal.\n",
      "  DeprecationWarning)\n"
     ]
    },
    {
     "name": "stdout",
     "output_type": "stream",
     "text": [
      "Finished SGDClassifier with No Scaling and 17 features after 1.57 seconds\n"
     ]
    },
    {
     "name": "stderr",
     "output_type": "stream",
     "text": [
      "C:\\Users\\ahuem\\Anaconda3\\lib\\site-packages\\sklearn\\model_selection\\_search.py:841: DeprecationWarning: The default of the `iid` parameter will change from True to False in version 0.22 and will be removed in 0.24. This will change numeric results when test-set sizes are unequal.\n",
      "  DeprecationWarning)\n"
     ]
    },
    {
     "name": "stdout",
     "output_type": "stream",
     "text": [
      "Finished SGDClassifier with No Scaling and 18 features after 1.75 seconds\n"
     ]
    },
    {
     "name": "stderr",
     "output_type": "stream",
     "text": [
      "C:\\Users\\ahuem\\Anaconda3\\lib\\site-packages\\sklearn\\model_selection\\_search.py:841: DeprecationWarning: The default of the `iid` parameter will change from True to False in version 0.22 and will be removed in 0.24. This will change numeric results when test-set sizes are unequal.\n",
      "  DeprecationWarning)\n"
     ]
    },
    {
     "name": "stdout",
     "output_type": "stream",
     "text": [
      "Finished SGDClassifier with No Scaling and 19 features after 1.55 seconds\n"
     ]
    },
    {
     "name": "stderr",
     "output_type": "stream",
     "text": [
      "C:\\Users\\ahuem\\Anaconda3\\lib\\site-packages\\sklearn\\model_selection\\_search.py:841: DeprecationWarning: The default of the `iid` parameter will change from True to False in version 0.22 and will be removed in 0.24. This will change numeric results when test-set sizes are unequal.\n",
      "  DeprecationWarning)\n"
     ]
    },
    {
     "name": "stdout",
     "output_type": "stream",
     "text": [
      "Finished SGDClassifier with No Scaling and 20 features after 1.61 seconds\n"
     ]
    },
    {
     "name": "stderr",
     "output_type": "stream",
     "text": [
      "C:\\Users\\ahuem\\Anaconda3\\lib\\site-packages\\sklearn\\model_selection\\_search.py:841: DeprecationWarning: The default of the `iid` parameter will change from True to False in version 0.22 and will be removed in 0.24. This will change numeric results when test-set sizes are unequal.\n",
      "  DeprecationWarning)\n"
     ]
    },
    {
     "name": "stdout",
     "output_type": "stream",
     "text": [
      "Finished SGDClassifier with MinMaxScaler and 1 features after 1.11 seconds\n"
     ]
    },
    {
     "name": "stderr",
     "output_type": "stream",
     "text": [
      "C:\\Users\\ahuem\\Anaconda3\\lib\\site-packages\\sklearn\\model_selection\\_search.py:841: DeprecationWarning: The default of the `iid` parameter will change from True to False in version 0.22 and will be removed in 0.24. This will change numeric results when test-set sizes are unequal.\n",
      "  DeprecationWarning)\n"
     ]
    },
    {
     "name": "stdout",
     "output_type": "stream",
     "text": [
      "Finished SGDClassifier with MinMaxScaler and 2 features after 1.12 seconds\n"
     ]
    },
    {
     "name": "stderr",
     "output_type": "stream",
     "text": [
      "C:\\Users\\ahuem\\Anaconda3\\lib\\site-packages\\sklearn\\model_selection\\_search.py:841: DeprecationWarning: The default of the `iid` parameter will change from True to False in version 0.22 and will be removed in 0.24. This will change numeric results when test-set sizes are unequal.\n",
      "  DeprecationWarning)\n"
     ]
    },
    {
     "name": "stdout",
     "output_type": "stream",
     "text": [
      "Finished SGDClassifier with MinMaxScaler and 3 features after 1.11 seconds\n"
     ]
    },
    {
     "name": "stderr",
     "output_type": "stream",
     "text": [
      "C:\\Users\\ahuem\\Anaconda3\\lib\\site-packages\\sklearn\\model_selection\\_search.py:841: DeprecationWarning: The default of the `iid` parameter will change from True to False in version 0.22 and will be removed in 0.24. This will change numeric results when test-set sizes are unequal.\n",
      "  DeprecationWarning)\n"
     ]
    },
    {
     "name": "stdout",
     "output_type": "stream",
     "text": [
      "Finished SGDClassifier with MinMaxScaler and 4 features after 1.21 seconds\n"
     ]
    },
    {
     "name": "stderr",
     "output_type": "stream",
     "text": [
      "C:\\Users\\ahuem\\Anaconda3\\lib\\site-packages\\sklearn\\model_selection\\_search.py:841: DeprecationWarning: The default of the `iid` parameter will change from True to False in version 0.22 and will be removed in 0.24. This will change numeric results when test-set sizes are unequal.\n",
      "  DeprecationWarning)\n"
     ]
    },
    {
     "name": "stdout",
     "output_type": "stream",
     "text": [
      "Finished SGDClassifier with MinMaxScaler and 5 features after 1.16 seconds\n"
     ]
    },
    {
     "name": "stderr",
     "output_type": "stream",
     "text": [
      "C:\\Users\\ahuem\\Anaconda3\\lib\\site-packages\\sklearn\\model_selection\\_search.py:841: DeprecationWarning: The default of the `iid` parameter will change from True to False in version 0.22 and will be removed in 0.24. This will change numeric results when test-set sizes are unequal.\n",
      "  DeprecationWarning)\n"
     ]
    },
    {
     "name": "stdout",
     "output_type": "stream",
     "text": [
      "Finished SGDClassifier with MinMaxScaler and 6 features after 1.13 seconds\n"
     ]
    },
    {
     "name": "stderr",
     "output_type": "stream",
     "text": [
      "C:\\Users\\ahuem\\Anaconda3\\lib\\site-packages\\sklearn\\model_selection\\_search.py:841: DeprecationWarning: The default of the `iid` parameter will change from True to False in version 0.22 and will be removed in 0.24. This will change numeric results when test-set sizes are unequal.\n",
      "  DeprecationWarning)\n"
     ]
    },
    {
     "name": "stdout",
     "output_type": "stream",
     "text": [
      "Finished SGDClassifier with MinMaxScaler and 7 features after 1.14 seconds\n"
     ]
    },
    {
     "name": "stderr",
     "output_type": "stream",
     "text": [
      "C:\\Users\\ahuem\\Anaconda3\\lib\\site-packages\\sklearn\\model_selection\\_search.py:841: DeprecationWarning: The default of the `iid` parameter will change from True to False in version 0.22 and will be removed in 0.24. This will change numeric results when test-set sizes are unequal.\n",
      "  DeprecationWarning)\n"
     ]
    },
    {
     "name": "stdout",
     "output_type": "stream",
     "text": [
      "Finished SGDClassifier with MinMaxScaler and 8 features after 1.16 seconds\n"
     ]
    },
    {
     "name": "stderr",
     "output_type": "stream",
     "text": [
      "C:\\Users\\ahuem\\Anaconda3\\lib\\site-packages\\sklearn\\model_selection\\_search.py:841: DeprecationWarning: The default of the `iid` parameter will change from True to False in version 0.22 and will be removed in 0.24. This will change numeric results when test-set sizes are unequal.\n",
      "  DeprecationWarning)\n"
     ]
    },
    {
     "name": "stdout",
     "output_type": "stream",
     "text": [
      "Finished SGDClassifier with MinMaxScaler and 9 features after 1.17 seconds\n"
     ]
    },
    {
     "name": "stderr",
     "output_type": "stream",
     "text": [
      "C:\\Users\\ahuem\\Anaconda3\\lib\\site-packages\\sklearn\\model_selection\\_search.py:841: DeprecationWarning: The default of the `iid` parameter will change from True to False in version 0.22 and will be removed in 0.24. This will change numeric results when test-set sizes are unequal.\n",
      "  DeprecationWarning)\n"
     ]
    },
    {
     "name": "stdout",
     "output_type": "stream",
     "text": [
      "Finished SGDClassifier with MinMaxScaler and 10 features after 1.18 seconds\n"
     ]
    },
    {
     "name": "stderr",
     "output_type": "stream",
     "text": [
      "C:\\Users\\ahuem\\Anaconda3\\lib\\site-packages\\sklearn\\model_selection\\_search.py:841: DeprecationWarning: The default of the `iid` parameter will change from True to False in version 0.22 and will be removed in 0.24. This will change numeric results when test-set sizes are unequal.\n",
      "  DeprecationWarning)\n"
     ]
    },
    {
     "name": "stdout",
     "output_type": "stream",
     "text": [
      "Finished SGDClassifier with MinMaxScaler and 11 features after 1.31 seconds\n"
     ]
    },
    {
     "name": "stderr",
     "output_type": "stream",
     "text": [
      "C:\\Users\\ahuem\\Anaconda3\\lib\\site-packages\\sklearn\\model_selection\\_search.py:841: DeprecationWarning: The default of the `iid` parameter will change from True to False in version 0.22 and will be removed in 0.24. This will change numeric results when test-set sizes are unequal.\n",
      "  DeprecationWarning)\n"
     ]
    },
    {
     "name": "stdout",
     "output_type": "stream",
     "text": [
      "Finished SGDClassifier with MinMaxScaler and 12 features after 1.17 seconds\n"
     ]
    },
    {
     "name": "stderr",
     "output_type": "stream",
     "text": [
      "C:\\Users\\ahuem\\Anaconda3\\lib\\site-packages\\sklearn\\model_selection\\_search.py:841: DeprecationWarning: The default of the `iid` parameter will change from True to False in version 0.22 and will be removed in 0.24. This will change numeric results when test-set sizes are unequal.\n",
      "  DeprecationWarning)\n"
     ]
    },
    {
     "name": "stdout",
     "output_type": "stream",
     "text": [
      "Finished SGDClassifier with MinMaxScaler and 13 features after 1.25 seconds\n"
     ]
    },
    {
     "name": "stderr",
     "output_type": "stream",
     "text": [
      "C:\\Users\\ahuem\\Anaconda3\\lib\\site-packages\\sklearn\\model_selection\\_search.py:841: DeprecationWarning: The default of the `iid` parameter will change from True to False in version 0.22 and will be removed in 0.24. This will change numeric results when test-set sizes are unequal.\n",
      "  DeprecationWarning)\n"
     ]
    },
    {
     "name": "stdout",
     "output_type": "stream",
     "text": [
      "Finished SGDClassifier with MinMaxScaler and 14 features after 1.22 seconds\n"
     ]
    },
    {
     "name": "stderr",
     "output_type": "stream",
     "text": [
      "C:\\Users\\ahuem\\Anaconda3\\lib\\site-packages\\sklearn\\model_selection\\_search.py:841: DeprecationWarning: The default of the `iid` parameter will change from True to False in version 0.22 and will be removed in 0.24. This will change numeric results when test-set sizes are unequal.\n",
      "  DeprecationWarning)\n"
     ]
    },
    {
     "name": "stdout",
     "output_type": "stream",
     "text": [
      "Finished SGDClassifier with MinMaxScaler and 15 features after 1.48 seconds\n"
     ]
    },
    {
     "name": "stderr",
     "output_type": "stream",
     "text": [
      "C:\\Users\\ahuem\\Anaconda3\\lib\\site-packages\\sklearn\\model_selection\\_search.py:841: DeprecationWarning: The default of the `iid` parameter will change from True to False in version 0.22 and will be removed in 0.24. This will change numeric results when test-set sizes are unequal.\n",
      "  DeprecationWarning)\n"
     ]
    },
    {
     "name": "stdout",
     "output_type": "stream",
     "text": [
      "Finished SGDClassifier with MinMaxScaler and 16 features after 1.59 seconds\n"
     ]
    },
    {
     "name": "stderr",
     "output_type": "stream",
     "text": [
      "C:\\Users\\ahuem\\Anaconda3\\lib\\site-packages\\sklearn\\model_selection\\_search.py:841: DeprecationWarning: The default of the `iid` parameter will change from True to False in version 0.22 and will be removed in 0.24. This will change numeric results when test-set sizes are unequal.\n",
      "  DeprecationWarning)\n"
     ]
    },
    {
     "name": "stdout",
     "output_type": "stream",
     "text": [
      "Finished SGDClassifier with MinMaxScaler and 17 features after 1.57 seconds\n"
     ]
    },
    {
     "name": "stderr",
     "output_type": "stream",
     "text": [
      "C:\\Users\\ahuem\\Anaconda3\\lib\\site-packages\\sklearn\\model_selection\\_search.py:841: DeprecationWarning: The default of the `iid` parameter will change from True to False in version 0.22 and will be removed in 0.24. This will change numeric results when test-set sizes are unequal.\n",
      "  DeprecationWarning)\n"
     ]
    },
    {
     "name": "stdout",
     "output_type": "stream",
     "text": [
      "Finished SGDClassifier with MinMaxScaler and 18 features after 1.34 seconds\n"
     ]
    },
    {
     "name": "stderr",
     "output_type": "stream",
     "text": [
      "C:\\Users\\ahuem\\Anaconda3\\lib\\site-packages\\sklearn\\model_selection\\_search.py:841: DeprecationWarning: The default of the `iid` parameter will change from True to False in version 0.22 and will be removed in 0.24. This will change numeric results when test-set sizes are unequal.\n",
      "  DeprecationWarning)\n"
     ]
    },
    {
     "name": "stdout",
     "output_type": "stream",
     "text": [
      "Finished SGDClassifier with MinMaxScaler and 19 features after 1.39 seconds\n"
     ]
    },
    {
     "name": "stderr",
     "output_type": "stream",
     "text": [
      "C:\\Users\\ahuem\\Anaconda3\\lib\\site-packages\\sklearn\\model_selection\\_search.py:841: DeprecationWarning: The default of the `iid` parameter will change from True to False in version 0.22 and will be removed in 0.24. This will change numeric results when test-set sizes are unequal.\n",
      "  DeprecationWarning)\n"
     ]
    },
    {
     "name": "stdout",
     "output_type": "stream",
     "text": [
      "Finished SGDClassifier with MinMaxScaler and 20 features after 1.69 seconds\n"
     ]
    },
    {
     "name": "stderr",
     "output_type": "stream",
     "text": [
      "C:\\Users\\ahuem\\Anaconda3\\lib\\site-packages\\sklearn\\model_selection\\_search.py:841: DeprecationWarning: The default of the `iid` parameter will change from True to False in version 0.22 and will be removed in 0.24. This will change numeric results when test-set sizes are unequal.\n",
      "  DeprecationWarning)\n"
     ]
    },
    {
     "name": "stdout",
     "output_type": "stream",
     "text": [
      "Finished SGDClassifier with StandardScaler and 1 features after 1.05 seconds\n"
     ]
    },
    {
     "name": "stderr",
     "output_type": "stream",
     "text": [
      "C:\\Users\\ahuem\\Anaconda3\\lib\\site-packages\\sklearn\\model_selection\\_search.py:841: DeprecationWarning: The default of the `iid` parameter will change from True to False in version 0.22 and will be removed in 0.24. This will change numeric results when test-set sizes are unequal.\n",
      "  DeprecationWarning)\n"
     ]
    },
    {
     "name": "stdout",
     "output_type": "stream",
     "text": [
      "Finished SGDClassifier with StandardScaler and 2 features after 1.12 seconds\n"
     ]
    },
    {
     "name": "stderr",
     "output_type": "stream",
     "text": [
      "C:\\Users\\ahuem\\Anaconda3\\lib\\site-packages\\sklearn\\model_selection\\_search.py:841: DeprecationWarning: The default of the `iid` parameter will change from True to False in version 0.22 and will be removed in 0.24. This will change numeric results when test-set sizes are unequal.\n",
      "  DeprecationWarning)\n"
     ]
    },
    {
     "name": "stdout",
     "output_type": "stream",
     "text": [
      "Finished SGDClassifier with StandardScaler and 3 features after 1.19 seconds\n"
     ]
    },
    {
     "name": "stderr",
     "output_type": "stream",
     "text": [
      "C:\\Users\\ahuem\\Anaconda3\\lib\\site-packages\\sklearn\\model_selection\\_search.py:841: DeprecationWarning: The default of the `iid` parameter will change from True to False in version 0.22 and will be removed in 0.24. This will change numeric results when test-set sizes are unequal.\n",
      "  DeprecationWarning)\n"
     ]
    },
    {
     "name": "stdout",
     "output_type": "stream",
     "text": [
      "Finished SGDClassifier with StandardScaler and 4 features after 1.11 seconds\n"
     ]
    },
    {
     "name": "stderr",
     "output_type": "stream",
     "text": [
      "C:\\Users\\ahuem\\Anaconda3\\lib\\site-packages\\sklearn\\model_selection\\_search.py:841: DeprecationWarning: The default of the `iid` parameter will change from True to False in version 0.22 and will be removed in 0.24. This will change numeric results when test-set sizes are unequal.\n",
      "  DeprecationWarning)\n"
     ]
    },
    {
     "name": "stdout",
     "output_type": "stream",
     "text": [
      "Finished SGDClassifier with StandardScaler and 5 features after 1.15 seconds\n"
     ]
    },
    {
     "name": "stderr",
     "output_type": "stream",
     "text": [
      "C:\\Users\\ahuem\\Anaconda3\\lib\\site-packages\\sklearn\\model_selection\\_search.py:841: DeprecationWarning: The default of the `iid` parameter will change from True to False in version 0.22 and will be removed in 0.24. This will change numeric results when test-set sizes are unequal.\n",
      "  DeprecationWarning)\n"
     ]
    },
    {
     "name": "stdout",
     "output_type": "stream",
     "text": [
      "Finished SGDClassifier with StandardScaler and 6 features after 1.24 seconds\n"
     ]
    },
    {
     "name": "stderr",
     "output_type": "stream",
     "text": [
      "C:\\Users\\ahuem\\Anaconda3\\lib\\site-packages\\sklearn\\model_selection\\_search.py:841: DeprecationWarning: The default of the `iid` parameter will change from True to False in version 0.22 and will be removed in 0.24. This will change numeric results when test-set sizes are unequal.\n",
      "  DeprecationWarning)\n"
     ]
    },
    {
     "name": "stdout",
     "output_type": "stream",
     "text": [
      "Finished SGDClassifier with StandardScaler and 7 features after 1.13 seconds\n"
     ]
    },
    {
     "name": "stderr",
     "output_type": "stream",
     "text": [
      "C:\\Users\\ahuem\\Anaconda3\\lib\\site-packages\\sklearn\\model_selection\\_search.py:841: DeprecationWarning: The default of the `iid` parameter will change from True to False in version 0.22 and will be removed in 0.24. This will change numeric results when test-set sizes are unequal.\n",
      "  DeprecationWarning)\n"
     ]
    },
    {
     "name": "stdout",
     "output_type": "stream",
     "text": [
      "Finished SGDClassifier with StandardScaler and 8 features after 1.13 seconds\n"
     ]
    },
    {
     "name": "stderr",
     "output_type": "stream",
     "text": [
      "C:\\Users\\ahuem\\Anaconda3\\lib\\site-packages\\sklearn\\model_selection\\_search.py:841: DeprecationWarning: The default of the `iid` parameter will change from True to False in version 0.22 and will be removed in 0.24. This will change numeric results when test-set sizes are unequal.\n",
      "  DeprecationWarning)\n"
     ]
    },
    {
     "name": "stdout",
     "output_type": "stream",
     "text": [
      "Finished SGDClassifier with StandardScaler and 9 features after 1.18 seconds\n"
     ]
    },
    {
     "name": "stderr",
     "output_type": "stream",
     "text": [
      "C:\\Users\\ahuem\\Anaconda3\\lib\\site-packages\\sklearn\\model_selection\\_search.py:841: DeprecationWarning: The default of the `iid` parameter will change from True to False in version 0.22 and will be removed in 0.24. This will change numeric results when test-set sizes are unequal.\n",
      "  DeprecationWarning)\n"
     ]
    },
    {
     "name": "stdout",
     "output_type": "stream",
     "text": [
      "Finished SGDClassifier with StandardScaler and 10 features after 1.24 seconds\n"
     ]
    },
    {
     "name": "stderr",
     "output_type": "stream",
     "text": [
      "C:\\Users\\ahuem\\Anaconda3\\lib\\site-packages\\sklearn\\model_selection\\_search.py:841: DeprecationWarning: The default of the `iid` parameter will change from True to False in version 0.22 and will be removed in 0.24. This will change numeric results when test-set sizes are unequal.\n",
      "  DeprecationWarning)\n"
     ]
    },
    {
     "name": "stdout",
     "output_type": "stream",
     "text": [
      "Finished SGDClassifier with StandardScaler and 11 features after 1.22 seconds\n"
     ]
    },
    {
     "name": "stderr",
     "output_type": "stream",
     "text": [
      "C:\\Users\\ahuem\\Anaconda3\\lib\\site-packages\\sklearn\\model_selection\\_search.py:841: DeprecationWarning: The default of the `iid` parameter will change from True to False in version 0.22 and will be removed in 0.24. This will change numeric results when test-set sizes are unequal.\n",
      "  DeprecationWarning)\n"
     ]
    },
    {
     "name": "stdout",
     "output_type": "stream",
     "text": [
      "Finished SGDClassifier with StandardScaler and 12 features after 1.27 seconds\n"
     ]
    },
    {
     "name": "stderr",
     "output_type": "stream",
     "text": [
      "C:\\Users\\ahuem\\Anaconda3\\lib\\site-packages\\sklearn\\model_selection\\_search.py:841: DeprecationWarning: The default of the `iid` parameter will change from True to False in version 0.22 and will be removed in 0.24. This will change numeric results when test-set sizes are unequal.\n",
      "  DeprecationWarning)\n"
     ]
    },
    {
     "name": "stdout",
     "output_type": "stream",
     "text": [
      "Finished SGDClassifier with StandardScaler and 13 features after 1.19 seconds\n"
     ]
    },
    {
     "name": "stderr",
     "output_type": "stream",
     "text": [
      "C:\\Users\\ahuem\\Anaconda3\\lib\\site-packages\\sklearn\\model_selection\\_search.py:841: DeprecationWarning: The default of the `iid` parameter will change from True to False in version 0.22 and will be removed in 0.24. This will change numeric results when test-set sizes are unequal.\n",
      "  DeprecationWarning)\n"
     ]
    },
    {
     "name": "stdout",
     "output_type": "stream",
     "text": [
      "Finished SGDClassifier with StandardScaler and 14 features after 1.19 seconds\n"
     ]
    },
    {
     "name": "stderr",
     "output_type": "stream",
     "text": [
      "C:\\Users\\ahuem\\Anaconda3\\lib\\site-packages\\sklearn\\model_selection\\_search.py:841: DeprecationWarning: The default of the `iid` parameter will change from True to False in version 0.22 and will be removed in 0.24. This will change numeric results when test-set sizes are unequal.\n",
      "  DeprecationWarning)\n"
     ]
    },
    {
     "name": "stdout",
     "output_type": "stream",
     "text": [
      "Finished SGDClassifier with StandardScaler and 15 features after 1.59 seconds\n"
     ]
    },
    {
     "name": "stderr",
     "output_type": "stream",
     "text": [
      "C:\\Users\\ahuem\\Anaconda3\\lib\\site-packages\\sklearn\\model_selection\\_search.py:841: DeprecationWarning: The default of the `iid` parameter will change from True to False in version 0.22 and will be removed in 0.24. This will change numeric results when test-set sizes are unequal.\n",
      "  DeprecationWarning)\n"
     ]
    },
    {
     "name": "stdout",
     "output_type": "stream",
     "text": [
      "Finished SGDClassifier with StandardScaler and 16 features after 1.5 seconds\n"
     ]
    },
    {
     "name": "stderr",
     "output_type": "stream",
     "text": [
      "C:\\Users\\ahuem\\Anaconda3\\lib\\site-packages\\sklearn\\model_selection\\_search.py:841: DeprecationWarning: The default of the `iid` parameter will change from True to False in version 0.22 and will be removed in 0.24. This will change numeric results when test-set sizes are unequal.\n",
      "  DeprecationWarning)\n"
     ]
    },
    {
     "name": "stdout",
     "output_type": "stream",
     "text": [
      "Finished SGDClassifier with StandardScaler and 17 features after 1.56 seconds\n"
     ]
    },
    {
     "name": "stderr",
     "output_type": "stream",
     "text": [
      "C:\\Users\\ahuem\\Anaconda3\\lib\\site-packages\\sklearn\\model_selection\\_search.py:841: DeprecationWarning: The default of the `iid` parameter will change from True to False in version 0.22 and will be removed in 0.24. This will change numeric results when test-set sizes are unequal.\n",
      "  DeprecationWarning)\n"
     ]
    },
    {
     "name": "stdout",
     "output_type": "stream",
     "text": [
      "Finished SGDClassifier with StandardScaler and 18 features after 1.68 seconds\n"
     ]
    },
    {
     "name": "stderr",
     "output_type": "stream",
     "text": [
      "C:\\Users\\ahuem\\Anaconda3\\lib\\site-packages\\sklearn\\model_selection\\_search.py:841: DeprecationWarning: The default of the `iid` parameter will change from True to False in version 0.22 and will be removed in 0.24. This will change numeric results when test-set sizes are unequal.\n",
      "  DeprecationWarning)\n"
     ]
    },
    {
     "name": "stdout",
     "output_type": "stream",
     "text": [
      "Finished SGDClassifier with StandardScaler and 19 features after 1.7 seconds\n"
     ]
    },
    {
     "name": "stderr",
     "output_type": "stream",
     "text": [
      "C:\\Users\\ahuem\\Anaconda3\\lib\\site-packages\\sklearn\\model_selection\\_search.py:841: DeprecationWarning: The default of the `iid` parameter will change from True to False in version 0.22 and will be removed in 0.24. This will change numeric results when test-set sizes are unequal.\n",
      "  DeprecationWarning)\n"
     ]
    },
    {
     "name": "stdout",
     "output_type": "stream",
     "text": [
      "Finished SGDClassifier with StandardScaler and 20 features after 1.66 seconds\n"
     ]
    },
    {
     "name": "stderr",
     "output_type": "stream",
     "text": [
      "C:\\Users\\ahuem\\Anaconda3\\lib\\site-packages\\sklearn\\model_selection\\_search.py:841: DeprecationWarning: The default of the `iid` parameter will change from True to False in version 0.22 and will be removed in 0.24. This will change numeric results when test-set sizes are unequal.\n",
      "  DeprecationWarning)\n"
     ]
    },
    {
     "name": "stdout",
     "output_type": "stream",
     "text": [
      "Finished SGDClassifier with LogScaler and 1 features after 1.14 seconds\n"
     ]
    },
    {
     "name": "stderr",
     "output_type": "stream",
     "text": [
      "C:\\Users\\ahuem\\Anaconda3\\lib\\site-packages\\sklearn\\model_selection\\_search.py:841: DeprecationWarning: The default of the `iid` parameter will change from True to False in version 0.22 and will be removed in 0.24. This will change numeric results when test-set sizes are unequal.\n",
      "  DeprecationWarning)\n"
     ]
    },
    {
     "name": "stdout",
     "output_type": "stream",
     "text": [
      "Finished SGDClassifier with LogScaler and 2 features after 1.1 seconds\n"
     ]
    },
    {
     "name": "stderr",
     "output_type": "stream",
     "text": [
      "C:\\Users\\ahuem\\Anaconda3\\lib\\site-packages\\sklearn\\model_selection\\_search.py:841: DeprecationWarning: The default of the `iid` parameter will change from True to False in version 0.22 and will be removed in 0.24. This will change numeric results when test-set sizes are unequal.\n",
      "  DeprecationWarning)\n"
     ]
    },
    {
     "name": "stdout",
     "output_type": "stream",
     "text": [
      "Finished SGDClassifier with LogScaler and 3 features after 1.12 seconds\n"
     ]
    },
    {
     "name": "stderr",
     "output_type": "stream",
     "text": [
      "C:\\Users\\ahuem\\Anaconda3\\lib\\site-packages\\sklearn\\model_selection\\_search.py:841: DeprecationWarning: The default of the `iid` parameter will change from True to False in version 0.22 and will be removed in 0.24. This will change numeric results when test-set sizes are unequal.\n",
      "  DeprecationWarning)\n"
     ]
    },
    {
     "name": "stdout",
     "output_type": "stream",
     "text": [
      "Finished SGDClassifier with LogScaler and 4 features after 1.15 seconds\n"
     ]
    },
    {
     "name": "stderr",
     "output_type": "stream",
     "text": [
      "C:\\Users\\ahuem\\Anaconda3\\lib\\site-packages\\sklearn\\model_selection\\_search.py:841: DeprecationWarning: The default of the `iid` parameter will change from True to False in version 0.22 and will be removed in 0.24. This will change numeric results when test-set sizes are unequal.\n",
      "  DeprecationWarning)\n"
     ]
    },
    {
     "name": "stdout",
     "output_type": "stream",
     "text": [
      "Finished SGDClassifier with LogScaler and 5 features after 1.23 seconds\n"
     ]
    },
    {
     "name": "stderr",
     "output_type": "stream",
     "text": [
      "C:\\Users\\ahuem\\Anaconda3\\lib\\site-packages\\sklearn\\model_selection\\_search.py:841: DeprecationWarning: The default of the `iid` parameter will change from True to False in version 0.22 and will be removed in 0.24. This will change numeric results when test-set sizes are unequal.\n",
      "  DeprecationWarning)\n"
     ]
    },
    {
     "name": "stdout",
     "output_type": "stream",
     "text": [
      "Finished SGDClassifier with LogScaler and 6 features after 1.14 seconds\n"
     ]
    },
    {
     "name": "stderr",
     "output_type": "stream",
     "text": [
      "C:\\Users\\ahuem\\Anaconda3\\lib\\site-packages\\sklearn\\model_selection\\_search.py:841: DeprecationWarning: The default of the `iid` parameter will change from True to False in version 0.22 and will be removed in 0.24. This will change numeric results when test-set sizes are unequal.\n",
      "  DeprecationWarning)\n"
     ]
    },
    {
     "name": "stdout",
     "output_type": "stream",
     "text": [
      "Finished SGDClassifier with LogScaler and 7 features after 1.14 seconds\n"
     ]
    },
    {
     "name": "stderr",
     "output_type": "stream",
     "text": [
      "C:\\Users\\ahuem\\Anaconda3\\lib\\site-packages\\sklearn\\model_selection\\_search.py:841: DeprecationWarning: The default of the `iid` parameter will change from True to False in version 0.22 and will be removed in 0.24. This will change numeric results when test-set sizes are unequal.\n",
      "  DeprecationWarning)\n"
     ]
    },
    {
     "name": "stdout",
     "output_type": "stream",
     "text": [
      "Finished SGDClassifier with LogScaler and 8 features after 1.23 seconds\n"
     ]
    },
    {
     "name": "stderr",
     "output_type": "stream",
     "text": [
      "C:\\Users\\ahuem\\Anaconda3\\lib\\site-packages\\sklearn\\model_selection\\_search.py:841: DeprecationWarning: The default of the `iid` parameter will change from True to False in version 0.22 and will be removed in 0.24. This will change numeric results when test-set sizes are unequal.\n",
      "  DeprecationWarning)\n"
     ]
    },
    {
     "name": "stdout",
     "output_type": "stream",
     "text": [
      "Finished SGDClassifier with LogScaler and 9 features after 1.25 seconds\n"
     ]
    },
    {
     "name": "stderr",
     "output_type": "stream",
     "text": [
      "C:\\Users\\ahuem\\Anaconda3\\lib\\site-packages\\sklearn\\model_selection\\_search.py:841: DeprecationWarning: The default of the `iid` parameter will change from True to False in version 0.22 and will be removed in 0.24. This will change numeric results when test-set sizes are unequal.\n",
      "  DeprecationWarning)\n"
     ]
    },
    {
     "name": "stdout",
     "output_type": "stream",
     "text": [
      "Finished SGDClassifier with LogScaler and 10 features after 1.2 seconds\n"
     ]
    },
    {
     "name": "stderr",
     "output_type": "stream",
     "text": [
      "C:\\Users\\ahuem\\Anaconda3\\lib\\site-packages\\sklearn\\model_selection\\_search.py:841: DeprecationWarning: The default of the `iid` parameter will change from True to False in version 0.22 and will be removed in 0.24. This will change numeric results when test-set sizes are unequal.\n",
      "  DeprecationWarning)\n"
     ]
    },
    {
     "name": "stdout",
     "output_type": "stream",
     "text": [
      "Finished SGDClassifier with LogScaler and 11 features after 1.28 seconds\n"
     ]
    },
    {
     "name": "stderr",
     "output_type": "stream",
     "text": [
      "C:\\Users\\ahuem\\Anaconda3\\lib\\site-packages\\sklearn\\model_selection\\_search.py:841: DeprecationWarning: The default of the `iid` parameter will change from True to False in version 0.22 and will be removed in 0.24. This will change numeric results when test-set sizes are unequal.\n",
      "  DeprecationWarning)\n"
     ]
    },
    {
     "name": "stdout",
     "output_type": "stream",
     "text": [
      "Finished SGDClassifier with LogScaler and 12 features after 1.23 seconds\n"
     ]
    },
    {
     "name": "stderr",
     "output_type": "stream",
     "text": [
      "C:\\Users\\ahuem\\Anaconda3\\lib\\site-packages\\sklearn\\model_selection\\_search.py:841: DeprecationWarning: The default of the `iid` parameter will change from True to False in version 0.22 and will be removed in 0.24. This will change numeric results when test-set sizes are unequal.\n",
      "  DeprecationWarning)\n"
     ]
    },
    {
     "name": "stdout",
     "output_type": "stream",
     "text": [
      "Finished SGDClassifier with LogScaler and 13 features after 1.23 seconds\n"
     ]
    },
    {
     "name": "stderr",
     "output_type": "stream",
     "text": [
      "C:\\Users\\ahuem\\Anaconda3\\lib\\site-packages\\sklearn\\model_selection\\_search.py:841: DeprecationWarning: The default of the `iid` parameter will change from True to False in version 0.22 and will be removed in 0.24. This will change numeric results when test-set sizes are unequal.\n",
      "  DeprecationWarning)\n"
     ]
    },
    {
     "name": "stdout",
     "output_type": "stream",
     "text": [
      "Finished SGDClassifier with LogScaler and 14 features after 1.33 seconds\n"
     ]
    },
    {
     "name": "stderr",
     "output_type": "stream",
     "text": [
      "C:\\Users\\ahuem\\Anaconda3\\lib\\site-packages\\sklearn\\model_selection\\_search.py:841: DeprecationWarning: The default of the `iid` parameter will change from True to False in version 0.22 and will be removed in 0.24. This will change numeric results when test-set sizes are unequal.\n",
      "  DeprecationWarning)\n"
     ]
    },
    {
     "name": "stdout",
     "output_type": "stream",
     "text": [
      "Finished SGDClassifier with LogScaler and 15 features after 1.6 seconds\n"
     ]
    },
    {
     "name": "stderr",
     "output_type": "stream",
     "text": [
      "C:\\Users\\ahuem\\Anaconda3\\lib\\site-packages\\sklearn\\model_selection\\_search.py:841: DeprecationWarning: The default of the `iid` parameter will change from True to False in version 0.22 and will be removed in 0.24. This will change numeric results when test-set sizes are unequal.\n",
      "  DeprecationWarning)\n"
     ]
    },
    {
     "name": "stdout",
     "output_type": "stream",
     "text": [
      "Finished SGDClassifier with LogScaler and 16 features after 1.49 seconds\n"
     ]
    },
    {
     "name": "stderr",
     "output_type": "stream",
     "text": [
      "C:\\Users\\ahuem\\Anaconda3\\lib\\site-packages\\sklearn\\model_selection\\_search.py:841: DeprecationWarning: The default of the `iid` parameter will change from True to False in version 0.22 and will be removed in 0.24. This will change numeric results when test-set sizes are unequal.\n",
      "  DeprecationWarning)\n"
     ]
    },
    {
     "name": "stdout",
     "output_type": "stream",
     "text": [
      "Finished SGDClassifier with LogScaler and 17 features after 1.67 seconds\n"
     ]
    },
    {
     "name": "stderr",
     "output_type": "stream",
     "text": [
      "C:\\Users\\ahuem\\Anaconda3\\lib\\site-packages\\sklearn\\model_selection\\_search.py:841: DeprecationWarning: The default of the `iid` parameter will change from True to False in version 0.22 and will be removed in 0.24. This will change numeric results when test-set sizes are unequal.\n",
      "  DeprecationWarning)\n"
     ]
    },
    {
     "name": "stdout",
     "output_type": "stream",
     "text": [
      "Finished SGDClassifier with LogScaler and 18 features after 1.62 seconds\n"
     ]
    },
    {
     "name": "stderr",
     "output_type": "stream",
     "text": [
      "C:\\Users\\ahuem\\Anaconda3\\lib\\site-packages\\sklearn\\model_selection\\_search.py:841: DeprecationWarning: The default of the `iid` parameter will change from True to False in version 0.22 and will be removed in 0.24. This will change numeric results when test-set sizes are unequal.\n",
      "  DeprecationWarning)\n"
     ]
    },
    {
     "name": "stdout",
     "output_type": "stream",
     "text": [
      "Finished SGDClassifier with LogScaler and 19 features after 1.73 seconds\n",
      "Finished SGDClassifier with LogScaler and 20 features after 1.73 seconds\n"
     ]
    },
    {
     "name": "stderr",
     "output_type": "stream",
     "text": [
      "C:\\Users\\ahuem\\Anaconda3\\lib\\site-packages\\sklearn\\model_selection\\_search.py:841: DeprecationWarning: The default of the `iid` parameter will change from True to False in version 0.22 and will be removed in 0.24. This will change numeric results when test-set sizes are unequal.\n",
      "  DeprecationWarning)\n"
     ]
    },
    {
     "data": {
      "text/html": [
       "<div>\n",
       "<style scoped>\n",
       "    .dataframe tbody tr th:only-of-type {\n",
       "        vertical-align: middle;\n",
       "    }\n",
       "\n",
       "    .dataframe tbody tr th {\n",
       "        vertical-align: top;\n",
       "    }\n",
       "\n",
       "    .dataframe thead th {\n",
       "        text-align: right;\n",
       "    }\n",
       "</style>\n",
       "<table border=\"1\" class=\"dataframe\">\n",
       "  <thead>\n",
       "    <tr style=\"text-align: right;\">\n",
       "      <th></th>\n",
       "      <th>Model</th>\n",
       "      <th>Data Preparation</th>\n",
       "      <th>Feature Count</th>\n",
       "      <th>Features</th>\n",
       "      <th>Optimal Parameters</th>\n",
       "      <th>Monetary Value Per Instance - Mean</th>\n",
       "      <th>Monetary Value Per Instance - Standard Deviation</th>\n",
       "      <th>Raw Model</th>\n",
       "      <th>Feature Selection Technique</th>\n",
       "    </tr>\n",
       "  </thead>\n",
       "  <tbody>\n",
       "    <tr>\n",
       "      <th>63</th>\n",
       "      <td>SGDClassifier</td>\n",
       "      <td>LogScaler</td>\n",
       "      <td>4</td>\n",
       "      <td>[trustLevel, scannedLineItems, pricePerScanned...</td>\n",
       "      <td>{'learning_rate': 'optimal', 'loss': 'perceptr...</td>\n",
       "      <td>-0.204896</td>\n",
       "      <td>0.166213</td>\n",
       "      <td>SGDClassifier(alpha=0.0001, average=False, cla...</td>\n",
       "      <td>SelectKBest</td>\n",
       "    </tr>\n",
       "    <tr>\n",
       "      <th>41</th>\n",
       "      <td>SGDClassifier</td>\n",
       "      <td>StandardScaler</td>\n",
       "      <td>2</td>\n",
       "      <td>[trustLevel, scannedLineItems]</td>\n",
       "      <td>{'learning_rate': 'optimal', 'loss': 'squared_...</td>\n",
       "      <td>-0.239489</td>\n",
       "      <td>0.158602</td>\n",
       "      <td>SGDClassifier(alpha=0.0001, average=False, cla...</td>\n",
       "      <td>SelectKBest</td>\n",
       "    </tr>\n",
       "    <tr>\n",
       "      <th>0</th>\n",
       "      <td>SGDClassifier</td>\n",
       "      <td>No Scaling</td>\n",
       "      <td>1</td>\n",
       "      <td>[trustLevel]</td>\n",
       "      <td>{'learning_rate': 'optimal', 'loss': 'huber', ...</td>\n",
       "      <td>-0.276743</td>\n",
       "      <td>0.011709</td>\n",
       "      <td>SGDClassifier(alpha=0.0001, average=False, cla...</td>\n",
       "      <td>SelectKBest</td>\n",
       "    </tr>\n",
       "    <tr>\n",
       "      <th>20</th>\n",
       "      <td>SGDClassifier</td>\n",
       "      <td>MinMaxScaler</td>\n",
       "      <td>1</td>\n",
       "      <td>[trustLevel]</td>\n",
       "      <td>{'learning_rate': 'optimal', 'loss': 'huber', ...</td>\n",
       "      <td>-0.276743</td>\n",
       "      <td>0.011709</td>\n",
       "      <td>SGDClassifier(alpha=0.0001, average=False, cla...</td>\n",
       "      <td>SelectKBest</td>\n",
       "    </tr>\n",
       "    <tr>\n",
       "      <th>60</th>\n",
       "      <td>SGDClassifier</td>\n",
       "      <td>LogScaler</td>\n",
       "      <td>1</td>\n",
       "      <td>[trustLevel]</td>\n",
       "      <td>{'learning_rate': 'optimal', 'loss': 'huber', ...</td>\n",
       "      <td>-0.276743</td>\n",
       "      <td>0.011709</td>\n",
       "      <td>SGDClassifier(alpha=0.0001, average=False, cla...</td>\n",
       "      <td>SelectKBest</td>\n",
       "    </tr>\n",
       "    <tr>\n",
       "      <th>40</th>\n",
       "      <td>SGDClassifier</td>\n",
       "      <td>StandardScaler</td>\n",
       "      <td>1</td>\n",
       "      <td>[trustLevel]</td>\n",
       "      <td>{'learning_rate': 'optimal', 'loss': 'log', 'p...</td>\n",
       "      <td>-0.276743</td>\n",
       "      <td>0.011709</td>\n",
       "      <td>SGDClassifier(alpha=0.0001, average=False, cla...</td>\n",
       "      <td>SelectKBest</td>\n",
       "    </tr>\n",
       "    <tr>\n",
       "      <th>19</th>\n",
       "      <td>SGDClassifier</td>\n",
       "      <td>No Scaling</td>\n",
       "      <td>20</td>\n",
       "      <td>[trustLevel, totalScanTimeInSeconds, grandTota...</td>\n",
       "      <td>{'learning_rate': 'optimal', 'loss': 'perceptr...</td>\n",
       "      <td>-0.284726</td>\n",
       "      <td>0.050961</td>\n",
       "      <td>SGDClassifier(alpha=0.0001, average=False, cla...</td>\n",
       "      <td>SelectKBest</td>\n",
       "    </tr>\n",
       "    <tr>\n",
       "      <th>59</th>\n",
       "      <td>SGDClassifier</td>\n",
       "      <td>StandardScaler</td>\n",
       "      <td>20</td>\n",
       "      <td>[trustLevel, totalScanTimeInSeconds, grandTota...</td>\n",
       "      <td>{'learning_rate': 'optimal', 'loss': 'hinge', ...</td>\n",
       "      <td>-0.290048</td>\n",
       "      <td>0.038596</td>\n",
       "      <td>SGDClassifier(alpha=0.0001, average=False, cla...</td>\n",
       "      <td>SelectKBest</td>\n",
       "    </tr>\n",
       "    <tr>\n",
       "      <th>64</th>\n",
       "      <td>SGDClassifier</td>\n",
       "      <td>LogScaler</td>\n",
       "      <td>5</td>\n",
       "      <td>[trustLevel, lineItemVoidsPerPosition, scanned...</td>\n",
       "      <td>{'learning_rate': 'optimal', 'loss': 'modified...</td>\n",
       "      <td>-0.292709</td>\n",
       "      <td>0.204675</td>\n",
       "      <td>SGDClassifier(alpha=0.0001, average=False, cla...</td>\n",
       "      <td>SelectKBest</td>\n",
       "    </tr>\n",
       "    <tr>\n",
       "      <th>79</th>\n",
       "      <td>SGDClassifier</td>\n",
       "      <td>LogScaler</td>\n",
       "      <td>20</td>\n",
       "      <td>[trustLevel, totalScanTimeInSeconds, grandTota...</td>\n",
       "      <td>{'learning_rate': 'optimal', 'loss': 'log', 'p...</td>\n",
       "      <td>-0.303353</td>\n",
       "      <td>0.049882</td>\n",
       "      <td>SGDClassifier(alpha=0.0001, average=False, cla...</td>\n",
       "      <td>SelectKBest</td>\n",
       "    </tr>\n",
       "    <tr>\n",
       "      <th>65</th>\n",
       "      <td>SGDClassifier</td>\n",
       "      <td>LogScaler</td>\n",
       "      <td>6</td>\n",
       "      <td>[trustLevel, lineItemVoidsPerPosition, scanned...</td>\n",
       "      <td>{'learning_rate': 'optimal', 'loss': 'perceptr...</td>\n",
       "      <td>-0.306014</td>\n",
       "      <td>0.261752</td>\n",
       "      <td>SGDClassifier(alpha=0.0001, average=False, cla...</td>\n",
       "      <td>SelectKBest</td>\n",
       "    </tr>\n",
       "    <tr>\n",
       "      <th>18</th>\n",
       "      <td>SGDClassifier</td>\n",
       "      <td>No Scaling</td>\n",
       "      <td>19</td>\n",
       "      <td>[trustLevel, totalScanTimeInSeconds, grandTota...</td>\n",
       "      <td>{'learning_rate': 'optimal', 'loss': 'log', 'p...</td>\n",
       "      <td>-0.311336</td>\n",
       "      <td>0.053043</td>\n",
       "      <td>SGDClassifier(alpha=0.0001, average=False, cla...</td>\n",
       "      <td>SelectKBest</td>\n",
       "    </tr>\n",
       "    <tr>\n",
       "      <th>78</th>\n",
       "      <td>SGDClassifier</td>\n",
       "      <td>LogScaler</td>\n",
       "      <td>19</td>\n",
       "      <td>[trustLevel, totalScanTimeInSeconds, grandTota...</td>\n",
       "      <td>{'learning_rate': 'optimal', 'loss': 'perceptr...</td>\n",
       "      <td>-0.316658</td>\n",
       "      <td>0.060788</td>\n",
       "      <td>SGDClassifier(alpha=0.0001, average=False, cla...</td>\n",
       "      <td>SelectKBest</td>\n",
       "    </tr>\n",
       "    <tr>\n",
       "      <th>39</th>\n",
       "      <td>SGDClassifier</td>\n",
       "      <td>MinMaxScaler</td>\n",
       "      <td>20</td>\n",
       "      <td>[trustLevel, totalScanTimeInSeconds, grandTota...</td>\n",
       "      <td>{'learning_rate': 'optimal', 'loss': 'hinge', ...</td>\n",
       "      <td>-0.316658</td>\n",
       "      <td>0.060788</td>\n",
       "      <td>SGDClassifier(alpha=0.0001, average=False, cla...</td>\n",
       "      <td>SelectKBest</td>\n",
       "    </tr>\n",
       "    <tr>\n",
       "      <th>61</th>\n",
       "      <td>SGDClassifier</td>\n",
       "      <td>LogScaler</td>\n",
       "      <td>2</td>\n",
       "      <td>[trustLevel, scannedLineItems]</td>\n",
       "      <td>{'learning_rate': 'optimal', 'loss': 'log', 'p...</td>\n",
       "      <td>-0.319319</td>\n",
       "      <td>0.243383</td>\n",
       "      <td>SGDClassifier(alpha=0.0001, average=False, cla...</td>\n",
       "      <td>SelectKBest</td>\n",
       "    </tr>\n",
       "    <tr>\n",
       "      <th>21</th>\n",
       "      <td>SGDClassifier</td>\n",
       "      <td>MinMaxScaler</td>\n",
       "      <td>2</td>\n",
       "      <td>[trustLevel, scannedLineItems]</td>\n",
       "      <td>{'learning_rate': 'optimal', 'loss': 'perceptr...</td>\n",
       "      <td>-0.324641</td>\n",
       "      <td>0.320118</td>\n",
       "      <td>SGDClassifier(alpha=0.0001, average=False, cla...</td>\n",
       "      <td>SelectKBest</td>\n",
       "    </tr>\n",
       "    <tr>\n",
       "      <th>62</th>\n",
       "      <td>SGDClassifier</td>\n",
       "      <td>LogScaler</td>\n",
       "      <td>3</td>\n",
       "      <td>[trustLevel, scannedLineItems, pricePerScanned...</td>\n",
       "      <td>{'learning_rate': 'optimal', 'loss': 'modified...</td>\n",
       "      <td>-0.337946</td>\n",
       "      <td>0.320907</td>\n",
       "      <td>SGDClassifier(alpha=0.0001, average=False, cla...</td>\n",
       "      <td>SelectKBest</td>\n",
       "    </tr>\n",
       "    <tr>\n",
       "      <th>38</th>\n",
       "      <td>SGDClassifier</td>\n",
       "      <td>MinMaxScaler</td>\n",
       "      <td>19</td>\n",
       "      <td>[trustLevel, totalScanTimeInSeconds, grandTota...</td>\n",
       "      <td>{'learning_rate': 'optimal', 'loss': 'modified...</td>\n",
       "      <td>-0.359234</td>\n",
       "      <td>0.173683</td>\n",
       "      <td>SGDClassifier(alpha=0.0001, average=False, cla...</td>\n",
       "      <td>SelectKBest</td>\n",
       "    </tr>\n",
       "    <tr>\n",
       "      <th>58</th>\n",
       "      <td>SGDClassifier</td>\n",
       "      <td>StandardScaler</td>\n",
       "      <td>19</td>\n",
       "      <td>[trustLevel, totalScanTimeInSeconds, grandTota...</td>\n",
       "      <td>{'learning_rate': 'optimal', 'loss': 'perceptr...</td>\n",
       "      <td>-0.369878</td>\n",
       "      <td>0.115494</td>\n",
       "      <td>SGDClassifier(alpha=0.0001, average=False, cla...</td>\n",
       "      <td>SelectKBest</td>\n",
       "    </tr>\n",
       "    <tr>\n",
       "      <th>37</th>\n",
       "      <td>SGDClassifier</td>\n",
       "      <td>MinMaxScaler</td>\n",
       "      <td>18</td>\n",
       "      <td>[trustLevel, totalScanTimeInSeconds, lineItemV...</td>\n",
       "      <td>{'learning_rate': 'optimal', 'loss': 'log', 'p...</td>\n",
       "      <td>-0.369878</td>\n",
       "      <td>0.123163</td>\n",
       "      <td>SGDClassifier(alpha=0.0001, average=False, cla...</td>\n",
       "      <td>SelectKBest</td>\n",
       "    </tr>\n",
       "    <tr>\n",
       "      <th>44</th>\n",
       "      <td>SGDClassifier</td>\n",
       "      <td>StandardScaler</td>\n",
       "      <td>5</td>\n",
       "      <td>[trustLevel, totalScanTimeInSeconds, scannedLi...</td>\n",
       "      <td>{'learning_rate': 'optimal', 'loss': 'log', 'p...</td>\n",
       "      <td>-0.383183</td>\n",
       "      <td>0.083404</td>\n",
       "      <td>SGDClassifier(alpha=0.0001, average=False, cla...</td>\n",
       "      <td>SelectKBest</td>\n",
       "    </tr>\n",
       "    <tr>\n",
       "      <th>54</th>\n",
       "      <td>SGDClassifier</td>\n",
       "      <td>StandardScaler</td>\n",
       "      <td>15</td>\n",
       "      <td>[trustLevel, totalScanTimeInSeconds, lineItemV...</td>\n",
       "      <td>{'learning_rate': 'optimal', 'loss': 'log', 'p...</td>\n",
       "      <td>-0.383183</td>\n",
       "      <td>0.112862</td>\n",
       "      <td>SGDClassifier(alpha=0.0001, average=False, cla...</td>\n",
       "      <td>SelectKBest</td>\n",
       "    </tr>\n",
       "    <tr>\n",
       "      <th>26</th>\n",
       "      <td>SGDClassifier</td>\n",
       "      <td>MinMaxScaler</td>\n",
       "      <td>7</td>\n",
       "      <td>[trustLevel, totalScanTimeInSeconds, lineItemV...</td>\n",
       "      <td>{'learning_rate': 'optimal', 'loss': 'modified...</td>\n",
       "      <td>-0.383183</td>\n",
       "      <td>0.096601</td>\n",
       "      <td>SGDClassifier(alpha=0.0001, average=False, cla...</td>\n",
       "      <td>SelectKBest</td>\n",
       "    </tr>\n",
       "    <tr>\n",
       "      <th>72</th>\n",
       "      <td>SGDClassifier</td>\n",
       "      <td>LogScaler</td>\n",
       "      <td>13</td>\n",
       "      <td>[trustLevel, totalScanTimeInSeconds, lineItemV...</td>\n",
       "      <td>{'learning_rate': 'optimal', 'loss': 'squared_...</td>\n",
       "      <td>-0.383183</td>\n",
       "      <td>0.071864</td>\n",
       "      <td>SGDClassifier(alpha=0.0001, average=False, cla...</td>\n",
       "      <td>SelectKBest</td>\n",
       "    </tr>\n",
       "    <tr>\n",
       "      <th>30</th>\n",
       "      <td>SGDClassifier</td>\n",
       "      <td>MinMaxScaler</td>\n",
       "      <td>11</td>\n",
       "      <td>[trustLevel, totalScanTimeInSeconds, lineItemV...</td>\n",
       "      <td>{'learning_rate': 'optimal', 'loss': 'hinge', ...</td>\n",
       "      <td>-0.396487</td>\n",
       "      <td>0.065532</td>\n",
       "      <td>SGDClassifier(alpha=0.0001, average=False, cla...</td>\n",
       "      <td>SelectKBest</td>\n",
       "    </tr>\n",
       "    <tr>\n",
       "      <th>67</th>\n",
       "      <td>SGDClassifier</td>\n",
       "      <td>LogScaler</td>\n",
       "      <td>8</td>\n",
       "      <td>[trustLevel, totalScanTimeInSeconds, lineItemV...</td>\n",
       "      <td>{'learning_rate': 'optimal', 'loss': 'squared_...</td>\n",
       "      <td>-0.396487</td>\n",
       "      <td>0.129202</td>\n",
       "      <td>SGDClassifier(alpha=0.0001, average=False, cla...</td>\n",
       "      <td>SelectKBest</td>\n",
       "    </tr>\n",
       "    <tr>\n",
       "      <th>55</th>\n",
       "      <td>SGDClassifier</td>\n",
       "      <td>StandardScaler</td>\n",
       "      <td>16</td>\n",
       "      <td>[trustLevel, totalScanTimeInSeconds, lineItemV...</td>\n",
       "      <td>{'learning_rate': 'optimal', 'loss': 'log', 'p...</td>\n",
       "      <td>-0.409792</td>\n",
       "      <td>0.131568</td>\n",
       "      <td>SGDClassifier(alpha=0.0001, average=False, cla...</td>\n",
       "      <td>SelectKBest</td>\n",
       "    </tr>\n",
       "    <tr>\n",
       "      <th>76</th>\n",
       "      <td>SGDClassifier</td>\n",
       "      <td>LogScaler</td>\n",
       "      <td>17</td>\n",
       "      <td>[trustLevel, totalScanTimeInSeconds, lineItemV...</td>\n",
       "      <td>{'learning_rate': 'optimal', 'loss': 'perceptr...</td>\n",
       "      <td>-0.409792</td>\n",
       "      <td>0.135708</td>\n",
       "      <td>SGDClassifier(alpha=0.0001, average=False, cla...</td>\n",
       "      <td>SelectKBest</td>\n",
       "    </tr>\n",
       "    <tr>\n",
       "      <th>16</th>\n",
       "      <td>SGDClassifier</td>\n",
       "      <td>No Scaling</td>\n",
       "      <td>17</td>\n",
       "      <td>[trustLevel, totalScanTimeInSeconds, lineItemV...</td>\n",
       "      <td>{'learning_rate': 'optimal', 'loss': 'squared_...</td>\n",
       "      <td>-0.409792</td>\n",
       "      <td>0.097662</td>\n",
       "      <td>SGDClassifier(alpha=0.0001, average=False, cla...</td>\n",
       "      <td>SelectKBest</td>\n",
       "    </tr>\n",
       "    <tr>\n",
       "      <th>74</th>\n",
       "      <td>SGDClassifier</td>\n",
       "      <td>LogScaler</td>\n",
       "      <td>15</td>\n",
       "      <td>[trustLevel, totalScanTimeInSeconds, lineItemV...</td>\n",
       "      <td>{'learning_rate': 'optimal', 'loss': 'perceptr...</td>\n",
       "      <td>-0.417775</td>\n",
       "      <td>0.144341</td>\n",
       "      <td>SGDClassifier(alpha=0.0001, average=False, cla...</td>\n",
       "      <td>SelectKBest</td>\n",
       "    </tr>\n",
       "    <tr>\n",
       "      <th>17</th>\n",
       "      <td>SGDClassifier</td>\n",
       "      <td>No Scaling</td>\n",
       "      <td>18</td>\n",
       "      <td>[trustLevel, totalScanTimeInSeconds, lineItemV...</td>\n",
       "      <td>{'learning_rate': 'optimal', 'loss': 'modified...</td>\n",
       "      <td>-0.423097</td>\n",
       "      <td>0.161914</td>\n",
       "      <td>SGDClassifier(alpha=0.0001, average=False, cla...</td>\n",
       "      <td>SelectKBest</td>\n",
       "    </tr>\n",
       "    <tr>\n",
       "      <th>27</th>\n",
       "      <td>SGDClassifier</td>\n",
       "      <td>MinMaxScaler</td>\n",
       "      <td>8</td>\n",
       "      <td>[trustLevel, totalScanTimeInSeconds, scansWith...</td>\n",
       "      <td>{'learning_rate': 'optimal', 'loss': 'modified...</td>\n",
       "      <td>-0.423097</td>\n",
       "      <td>0.156216</td>\n",
       "      <td>SGDClassifier(alpha=0.0001, average=False, cla...</td>\n",
       "      <td>SelectKBest</td>\n",
       "    </tr>\n",
       "    <tr>\n",
       "      <th>28</th>\n",
       "      <td>SGDClassifier</td>\n",
       "      <td>MinMaxScaler</td>\n",
       "      <td>9</td>\n",
       "      <td>[trustLevel, totalScanTimeInSeconds, lineItemV...</td>\n",
       "      <td>{'learning_rate': 'optimal', 'loss': 'log', 'p...</td>\n",
       "      <td>-0.423097</td>\n",
       "      <td>0.119797</td>\n",
       "      <td>SGDClassifier(alpha=0.0001, average=False, cla...</td>\n",
       "      <td>SelectKBest</td>\n",
       "    </tr>\n",
       "    <tr>\n",
       "      <th>48</th>\n",
       "      <td>SGDClassifier</td>\n",
       "      <td>StandardScaler</td>\n",
       "      <td>9</td>\n",
       "      <td>[trustLevel, totalScanTimeInSeconds, lineItemV...</td>\n",
       "      <td>{'learning_rate': 'optimal', 'loss': 'squared_...</td>\n",
       "      <td>-0.423097</td>\n",
       "      <td>0.103893</td>\n",
       "      <td>SGDClassifier(alpha=0.0001, average=False, cla...</td>\n",
       "      <td>SelectKBest</td>\n",
       "    </tr>\n",
       "    <tr>\n",
       "      <th>45</th>\n",
       "      <td>SGDClassifier</td>\n",
       "      <td>StandardScaler</td>\n",
       "      <td>6</td>\n",
       "      <td>[trustLevel, totalScanTimeInSeconds, scannedLi...</td>\n",
       "      <td>{'learning_rate': 'optimal', 'loss': 'squared_...</td>\n",
       "      <td>-0.423097</td>\n",
       "      <td>0.070797</td>\n",
       "      <td>SGDClassifier(alpha=0.0001, average=False, cla...</td>\n",
       "      <td>SelectKBest</td>\n",
       "    </tr>\n",
       "    <tr>\n",
       "      <th>15</th>\n",
       "      <td>SGDClassifier</td>\n",
       "      <td>No Scaling</td>\n",
       "      <td>16</td>\n",
       "      <td>[trustLevel, totalScanTimeInSeconds, lineItemV...</td>\n",
       "      <td>{'learning_rate': 'optimal', 'loss': 'perceptr...</td>\n",
       "      <td>-0.423097</td>\n",
       "      <td>0.092828</td>\n",
       "      <td>SGDClassifier(alpha=0.0001, average=False, cla...</td>\n",
       "      <td>SelectKBest</td>\n",
       "    </tr>\n",
       "    <tr>\n",
       "      <th>3</th>\n",
       "      <td>SGDClassifier</td>\n",
       "      <td>No Scaling</td>\n",
       "      <td>4</td>\n",
       "      <td>[trustLevel, totalScanTimeInSeconds, scannedLi...</td>\n",
       "      <td>{'learning_rate': 'optimal', 'loss': 'squared_...</td>\n",
       "      <td>-0.431080</td>\n",
       "      <td>0.139557</td>\n",
       "      <td>SGDClassifier(alpha=0.0001, average=False, cla...</td>\n",
       "      <td>SelectKBest</td>\n",
       "    </tr>\n",
       "    <tr>\n",
       "      <th>6</th>\n",
       "      <td>SGDClassifier</td>\n",
       "      <td>No Scaling</td>\n",
       "      <td>7</td>\n",
       "      <td>[trustLevel, totalScanTimeInSeconds, lineItemV...</td>\n",
       "      <td>{'learning_rate': 'optimal', 'loss': 'hinge', ...</td>\n",
       "      <td>-0.431080</td>\n",
       "      <td>0.141592</td>\n",
       "      <td>SGDClassifier(alpha=0.0001, average=False, cla...</td>\n",
       "      <td>SelectKBest</td>\n",
       "    </tr>\n",
       "    <tr>\n",
       "      <th>9</th>\n",
       "      <td>SGDClassifier</td>\n",
       "      <td>No Scaling</td>\n",
       "      <td>10</td>\n",
       "      <td>[trustLevel, totalScanTimeInSeconds, lineItemV...</td>\n",
       "      <td>{'learning_rate': 'optimal', 'loss': 'log', 'p...</td>\n",
       "      <td>-0.431080</td>\n",
       "      <td>0.115042</td>\n",
       "      <td>SGDClassifier(alpha=0.0001, average=False, cla...</td>\n",
       "      <td>SelectKBest</td>\n",
       "    </tr>\n",
       "    <tr>\n",
       "      <th>53</th>\n",
       "      <td>SGDClassifier</td>\n",
       "      <td>StandardScaler</td>\n",
       "      <td>14</td>\n",
       "      <td>[trustLevel, totalScanTimeInSeconds, lineItemV...</td>\n",
       "      <td>{'learning_rate': 'optimal', 'loss': 'modified...</td>\n",
       "      <td>-0.436402</td>\n",
       "      <td>0.141531</td>\n",
       "      <td>SGDClassifier(alpha=0.0001, average=False, cla...</td>\n",
       "      <td>SelectKBest</td>\n",
       "    </tr>\n",
       "    <tr>\n",
       "      <th>66</th>\n",
       "      <td>SGDClassifier</td>\n",
       "      <td>LogScaler</td>\n",
       "      <td>7</td>\n",
       "      <td>[trustLevel, totalScanTimeInSeconds, lineItemV...</td>\n",
       "      <td>{'learning_rate': 'optimal', 'loss': 'modified...</td>\n",
       "      <td>-0.436402</td>\n",
       "      <td>0.124224</td>\n",
       "      <td>SGDClassifier(alpha=0.0001, average=False, cla...</td>\n",
       "      <td>SelectKBest</td>\n",
       "    </tr>\n",
       "    <tr>\n",
       "      <th>71</th>\n",
       "      <td>SGDClassifier</td>\n",
       "      <td>LogScaler</td>\n",
       "      <td>12</td>\n",
       "      <td>[trustLevel, totalScanTimeInSeconds, lineItemV...</td>\n",
       "      <td>{'learning_rate': 'optimal', 'loss': 'modified...</td>\n",
       "      <td>-0.436402</td>\n",
       "      <td>0.240094</td>\n",
       "      <td>SGDClassifier(alpha=0.0001, average=False, cla...</td>\n",
       "      <td>SelectKBest</td>\n",
       "    </tr>\n",
       "    <tr>\n",
       "      <th>57</th>\n",
       "      <td>SGDClassifier</td>\n",
       "      <td>StandardScaler</td>\n",
       "      <td>18</td>\n",
       "      <td>[trustLevel, totalScanTimeInSeconds, lineItemV...</td>\n",
       "      <td>{'learning_rate': 'optimal', 'loss': 'log', 'p...</td>\n",
       "      <td>-0.444385</td>\n",
       "      <td>0.138527</td>\n",
       "      <td>SGDClassifier(alpha=0.0001, average=False, cla...</td>\n",
       "      <td>SelectKBest</td>\n",
       "    </tr>\n",
       "    <tr>\n",
       "      <th>12</th>\n",
       "      <td>SGDClassifier</td>\n",
       "      <td>No Scaling</td>\n",
       "      <td>13</td>\n",
       "      <td>[trustLevel, totalScanTimeInSeconds, lineItemV...</td>\n",
       "      <td>{'learning_rate': 'optimal', 'loss': 'perceptr...</td>\n",
       "      <td>-0.449707</td>\n",
       "      <td>0.210473</td>\n",
       "      <td>SGDClassifier(alpha=0.0001, average=False, cla...</td>\n",
       "      <td>SelectKBest</td>\n",
       "    </tr>\n",
       "    <tr>\n",
       "      <th>73</th>\n",
       "      <td>SGDClassifier</td>\n",
       "      <td>LogScaler</td>\n",
       "      <td>14</td>\n",
       "      <td>[trustLevel, totalScanTimeInSeconds, lineItemV...</td>\n",
       "      <td>{'learning_rate': 'optimal', 'loss': 'hinge', ...</td>\n",
       "      <td>-0.449707</td>\n",
       "      <td>0.227600</td>\n",
       "      <td>SGDClassifier(alpha=0.0001, average=False, cla...</td>\n",
       "      <td>SelectKBest</td>\n",
       "    </tr>\n",
       "    <tr>\n",
       "      <th>47</th>\n",
       "      <td>SGDClassifier</td>\n",
       "      <td>StandardScaler</td>\n",
       "      <td>8</td>\n",
       "      <td>[trustLevel, totalScanTimeInSeconds, scansWith...</td>\n",
       "      <td>{'learning_rate': 'optimal', 'loss': 'squared_...</td>\n",
       "      <td>-0.449707</td>\n",
       "      <td>0.152129</td>\n",
       "      <td>SGDClassifier(alpha=0.0001, average=False, cla...</td>\n",
       "      <td>SelectKBest</td>\n",
       "    </tr>\n",
       "    <tr>\n",
       "      <th>32</th>\n",
       "      <td>SGDClassifier</td>\n",
       "      <td>MinMaxScaler</td>\n",
       "      <td>13</td>\n",
       "      <td>[trustLevel, totalScanTimeInSeconds, lineItemV...</td>\n",
       "      <td>{'learning_rate': 'optimal', 'loss': 'perceptr...</td>\n",
       "      <td>-0.449707</td>\n",
       "      <td>0.145858</td>\n",
       "      <td>SGDClassifier(alpha=0.0001, average=False, cla...</td>\n",
       "      <td>SelectKBest</td>\n",
       "    </tr>\n",
       "    <tr>\n",
       "      <th>29</th>\n",
       "      <td>SGDClassifier</td>\n",
       "      <td>MinMaxScaler</td>\n",
       "      <td>10</td>\n",
       "      <td>[trustLevel, totalScanTimeInSeconds, lineItemV...</td>\n",
       "      <td>{'learning_rate': 'optimal', 'loss': 'squared_...</td>\n",
       "      <td>-0.449707</td>\n",
       "      <td>0.129575</td>\n",
       "      <td>SGDClassifier(alpha=0.0001, average=False, cla...</td>\n",
       "      <td>SelectKBest</td>\n",
       "    </tr>\n",
       "    <tr>\n",
       "      <th>50</th>\n",
       "      <td>SGDClassifier</td>\n",
       "      <td>StandardScaler</td>\n",
       "      <td>11</td>\n",
       "      <td>[trustLevel, totalScanTimeInSeconds, lineItemV...</td>\n",
       "      <td>{'learning_rate': 'optimal', 'loss': 'squared_...</td>\n",
       "      <td>-0.449707</td>\n",
       "      <td>0.137611</td>\n",
       "      <td>SGDClassifier(alpha=0.0001, average=False, cla...</td>\n",
       "      <td>SelectKBest</td>\n",
       "    </tr>\n",
       "    <tr>\n",
       "      <th>31</th>\n",
       "      <td>SGDClassifier</td>\n",
       "      <td>MinMaxScaler</td>\n",
       "      <td>12</td>\n",
       "      <td>[trustLevel, totalScanTimeInSeconds, lineItemV...</td>\n",
       "      <td>{'learning_rate': 'optimal', 'loss': 'perceptr...</td>\n",
       "      <td>-0.449707</td>\n",
       "      <td>0.122111</td>\n",
       "      <td>SGDClassifier(alpha=0.0001, average=False, cla...</td>\n",
       "      <td>SelectKBest</td>\n",
       "    </tr>\n",
       "    <tr>\n",
       "      <th>42</th>\n",
       "      <td>SGDClassifier</td>\n",
       "      <td>StandardScaler</td>\n",
       "      <td>3</td>\n",
       "      <td>[trustLevel, totalScanTimeInSeconds, scannedLi...</td>\n",
       "      <td>{'learning_rate': 'optimal', 'loss': 'perceptr...</td>\n",
       "      <td>-0.463012</td>\n",
       "      <td>0.175263</td>\n",
       "      <td>SGDClassifier(alpha=0.0001, average=False, cla...</td>\n",
       "      <td>SelectKBest</td>\n",
       "    </tr>\n",
       "    <tr>\n",
       "      <th>10</th>\n",
       "      <td>SGDClassifier</td>\n",
       "      <td>No Scaling</td>\n",
       "      <td>11</td>\n",
       "      <td>[trustLevel, totalScanTimeInSeconds, lineItemV...</td>\n",
       "      <td>{'learning_rate': 'optimal', 'loss': 'hinge', ...</td>\n",
       "      <td>-0.463012</td>\n",
       "      <td>0.132392</td>\n",
       "      <td>SGDClassifier(alpha=0.0001, average=False, cla...</td>\n",
       "      <td>SelectKBest</td>\n",
       "    </tr>\n",
       "    <tr>\n",
       "      <th>43</th>\n",
       "      <td>SGDClassifier</td>\n",
       "      <td>StandardScaler</td>\n",
       "      <td>4</td>\n",
       "      <td>[trustLevel, totalScanTimeInSeconds, scannedLi...</td>\n",
       "      <td>{'learning_rate': 'optimal', 'loss': 'log', 'p...</td>\n",
       "      <td>-0.476317</td>\n",
       "      <td>0.147359</td>\n",
       "      <td>SGDClassifier(alpha=0.0001, average=False, cla...</td>\n",
       "      <td>SelectKBest</td>\n",
       "    </tr>\n",
       "    <tr>\n",
       "      <th>11</th>\n",
       "      <td>SGDClassifier</td>\n",
       "      <td>No Scaling</td>\n",
       "      <td>12</td>\n",
       "      <td>[trustLevel, totalScanTimeInSeconds, lineItemV...</td>\n",
       "      <td>{'learning_rate': 'optimal', 'loss': 'log', 'p...</td>\n",
       "      <td>-0.476317</td>\n",
       "      <td>0.153478</td>\n",
       "      <td>SGDClassifier(alpha=0.0001, average=False, cla...</td>\n",
       "      <td>SelectKBest</td>\n",
       "    </tr>\n",
       "    <tr>\n",
       "      <th>51</th>\n",
       "      <td>SGDClassifier</td>\n",
       "      <td>StandardScaler</td>\n",
       "      <td>12</td>\n",
       "      <td>[trustLevel, totalScanTimeInSeconds, lineItemV...</td>\n",
       "      <td>{'learning_rate': 'optimal', 'loss': 'modified...</td>\n",
       "      <td>-0.476317</td>\n",
       "      <td>0.221170</td>\n",
       "      <td>SGDClassifier(alpha=0.0001, average=False, cla...</td>\n",
       "      <td>SelectKBest</td>\n",
       "    </tr>\n",
       "    <tr>\n",
       "      <th>77</th>\n",
       "      <td>SGDClassifier</td>\n",
       "      <td>LogScaler</td>\n",
       "      <td>18</td>\n",
       "      <td>[trustLevel, totalScanTimeInSeconds, lineItemV...</td>\n",
       "      <td>{'learning_rate': 'optimal', 'loss': 'squared_...</td>\n",
       "      <td>-0.476317</td>\n",
       "      <td>0.140606</td>\n",
       "      <td>SGDClassifier(alpha=0.0001, average=False, cla...</td>\n",
       "      <td>SelectKBest</td>\n",
       "    </tr>\n",
       "    <tr>\n",
       "      <th>1</th>\n",
       "      <td>SGDClassifier</td>\n",
       "      <td>No Scaling</td>\n",
       "      <td>2</td>\n",
       "      <td>[trustLevel, scannedLineItems]</td>\n",
       "      <td>{'learning_rate': 'optimal', 'loss': 'modified...</td>\n",
       "      <td>-0.478978</td>\n",
       "      <td>0.495682</td>\n",
       "      <td>SGDClassifier(alpha=0.0001, average=False, cla...</td>\n",
       "      <td>SelectKBest</td>\n",
       "    </tr>\n",
       "    <tr>\n",
       "      <th>22</th>\n",
       "      <td>SGDClassifier</td>\n",
       "      <td>MinMaxScaler</td>\n",
       "      <td>3</td>\n",
       "      <td>[trustLevel, totalScanTimeInSeconds, scannedLi...</td>\n",
       "      <td>{'learning_rate': 'optimal', 'loss': 'hinge', ...</td>\n",
       "      <td>-0.489622</td>\n",
       "      <td>0.171531</td>\n",
       "      <td>SGDClassifier(alpha=0.0001, average=False, cla...</td>\n",
       "      <td>SelectKBest</td>\n",
       "    </tr>\n",
       "    <tr>\n",
       "      <th>8</th>\n",
       "      <td>SGDClassifier</td>\n",
       "      <td>No Scaling</td>\n",
       "      <td>9</td>\n",
       "      <td>[trustLevel, totalScanTimeInSeconds, lineItemV...</td>\n",
       "      <td>{'learning_rate': 'optimal', 'loss': 'perceptr...</td>\n",
       "      <td>-0.489622</td>\n",
       "      <td>0.199668</td>\n",
       "      <td>SGDClassifier(alpha=0.0001, average=False, cla...</td>\n",
       "      <td>SelectKBest</td>\n",
       "    </tr>\n",
       "    <tr>\n",
       "      <th>13</th>\n",
       "      <td>SGDClassifier</td>\n",
       "      <td>No Scaling</td>\n",
       "      <td>14</td>\n",
       "      <td>[trustLevel, totalScanTimeInSeconds, lineItemV...</td>\n",
       "      <td>{'learning_rate': 'optimal', 'loss': 'modified...</td>\n",
       "      <td>-0.489622</td>\n",
       "      <td>0.173299</td>\n",
       "      <td>SGDClassifier(alpha=0.0001, average=False, cla...</td>\n",
       "      <td>SelectKBest</td>\n",
       "    </tr>\n",
       "    <tr>\n",
       "      <th>24</th>\n",
       "      <td>SGDClassifier</td>\n",
       "      <td>MinMaxScaler</td>\n",
       "      <td>5</td>\n",
       "      <td>[trustLevel, totalScanTimeInSeconds, scannedLi...</td>\n",
       "      <td>{'learning_rate': 'optimal', 'loss': 'perceptr...</td>\n",
       "      <td>-0.489622</td>\n",
       "      <td>0.190677</td>\n",
       "      <td>SGDClassifier(alpha=0.0001, average=False, cla...</td>\n",
       "      <td>SelectKBest</td>\n",
       "    </tr>\n",
       "    <tr>\n",
       "      <th>25</th>\n",
       "      <td>SGDClassifier</td>\n",
       "      <td>MinMaxScaler</td>\n",
       "      <td>6</td>\n",
       "      <td>[trustLevel, totalScanTimeInSeconds, scannedLi...</td>\n",
       "      <td>{'learning_rate': 'optimal', 'loss': 'log', 'p...</td>\n",
       "      <td>-0.489622</td>\n",
       "      <td>0.193925</td>\n",
       "      <td>SGDClassifier(alpha=0.0001, average=False, cla...</td>\n",
       "      <td>SelectKBest</td>\n",
       "    </tr>\n",
       "    <tr>\n",
       "      <th>46</th>\n",
       "      <td>SGDClassifier</td>\n",
       "      <td>StandardScaler</td>\n",
       "      <td>7</td>\n",
       "      <td>[trustLevel, totalScanTimeInSeconds, lineItemV...</td>\n",
       "      <td>{'learning_rate': 'optimal', 'loss': 'modified...</td>\n",
       "      <td>-0.489622</td>\n",
       "      <td>0.207377</td>\n",
       "      <td>SGDClassifier(alpha=0.0001, average=False, cla...</td>\n",
       "      <td>SelectKBest</td>\n",
       "    </tr>\n",
       "    <tr>\n",
       "      <th>52</th>\n",
       "      <td>SGDClassifier</td>\n",
       "      <td>StandardScaler</td>\n",
       "      <td>13</td>\n",
       "      <td>[trustLevel, totalScanTimeInSeconds, lineItemV...</td>\n",
       "      <td>{'learning_rate': 'optimal', 'loss': 'perceptr...</td>\n",
       "      <td>-0.497605</td>\n",
       "      <td>0.244126</td>\n",
       "      <td>SGDClassifier(alpha=0.0001, average=False, cla...</td>\n",
       "      <td>SelectKBest</td>\n",
       "    </tr>\n",
       "    <tr>\n",
       "      <th>35</th>\n",
       "      <td>SGDClassifier</td>\n",
       "      <td>MinMaxScaler</td>\n",
       "      <td>16</td>\n",
       "      <td>[trustLevel, totalScanTimeInSeconds, lineItemV...</td>\n",
       "      <td>{'learning_rate': 'optimal', 'loss': 'perceptr...</td>\n",
       "      <td>-0.502927</td>\n",
       "      <td>0.266339</td>\n",
       "      <td>SGDClassifier(alpha=0.0001, average=False, cla...</td>\n",
       "      <td>SelectKBest</td>\n",
       "    </tr>\n",
       "    <tr>\n",
       "      <th>14</th>\n",
       "      <td>SGDClassifier</td>\n",
       "      <td>No Scaling</td>\n",
       "      <td>15</td>\n",
       "      <td>[trustLevel, totalScanTimeInSeconds, lineItemV...</td>\n",
       "      <td>{'learning_rate': 'optimal', 'loss': 'squared_...</td>\n",
       "      <td>-0.510910</td>\n",
       "      <td>0.227709</td>\n",
       "      <td>SGDClassifier(alpha=0.0001, average=False, cla...</td>\n",
       "      <td>SelectKBest</td>\n",
       "    </tr>\n",
       "    <tr>\n",
       "      <th>2</th>\n",
       "      <td>SGDClassifier</td>\n",
       "      <td>No Scaling</td>\n",
       "      <td>3</td>\n",
       "      <td>[trustLevel, totalScanTimeInSeconds, scannedLi...</td>\n",
       "      <td>{'learning_rate': 'optimal', 'loss': 'log', 'p...</td>\n",
       "      <td>-0.529537</td>\n",
       "      <td>0.170005</td>\n",
       "      <td>SGDClassifier(alpha=0.0001, average=False, cla...</td>\n",
       "      <td>SelectKBest</td>\n",
       "    </tr>\n",
       "    <tr>\n",
       "      <th>5</th>\n",
       "      <td>SGDClassifier</td>\n",
       "      <td>No Scaling</td>\n",
       "      <td>6</td>\n",
       "      <td>[trustLevel, totalScanTimeInSeconds, scannedLi...</td>\n",
       "      <td>{'learning_rate': 'optimal', 'loss': 'hinge', ...</td>\n",
       "      <td>-0.529537</td>\n",
       "      <td>0.186790</td>\n",
       "      <td>SGDClassifier(alpha=0.0001, average=False, cla...</td>\n",
       "      <td>SelectKBest</td>\n",
       "    </tr>\n",
       "    <tr>\n",
       "      <th>33</th>\n",
       "      <td>SGDClassifier</td>\n",
       "      <td>MinMaxScaler</td>\n",
       "      <td>14</td>\n",
       "      <td>[trustLevel, totalScanTimeInSeconds, lineItemV...</td>\n",
       "      <td>{'learning_rate': 'optimal', 'loss': 'modified...</td>\n",
       "      <td>-0.532198</td>\n",
       "      <td>0.304444</td>\n",
       "      <td>SGDClassifier(alpha=0.0001, average=False, cla...</td>\n",
       "      <td>SelectKBest</td>\n",
       "    </tr>\n",
       "    <tr>\n",
       "      <th>23</th>\n",
       "      <td>SGDClassifier</td>\n",
       "      <td>MinMaxScaler</td>\n",
       "      <td>4</td>\n",
       "      <td>[trustLevel, totalScanTimeInSeconds, scannedLi...</td>\n",
       "      <td>{'learning_rate': 'optimal', 'loss': 'log', 'p...</td>\n",
       "      <td>-0.542842</td>\n",
       "      <td>0.337733</td>\n",
       "      <td>SGDClassifier(alpha=0.0001, average=False, cla...</td>\n",
       "      <td>SelectKBest</td>\n",
       "    </tr>\n",
       "    <tr>\n",
       "      <th>49</th>\n",
       "      <td>SGDClassifier</td>\n",
       "      <td>StandardScaler</td>\n",
       "      <td>10</td>\n",
       "      <td>[trustLevel, totalScanTimeInSeconds, lineItemV...</td>\n",
       "      <td>{'learning_rate': 'optimal', 'loss': 'log', 'p...</td>\n",
       "      <td>-0.542842</td>\n",
       "      <td>0.205470</td>\n",
       "      <td>SGDClassifier(alpha=0.0001, average=False, cla...</td>\n",
       "      <td>SelectKBest</td>\n",
       "    </tr>\n",
       "    <tr>\n",
       "      <th>70</th>\n",
       "      <td>SGDClassifier</td>\n",
       "      <td>LogScaler</td>\n",
       "      <td>11</td>\n",
       "      <td>[trustLevel, totalScanTimeInSeconds, lineItemV...</td>\n",
       "      <td>{'learning_rate': 'optimal', 'loss': 'squared_...</td>\n",
       "      <td>-0.542842</td>\n",
       "      <td>0.371963</td>\n",
       "      <td>SGDClassifier(alpha=0.0001, average=False, cla...</td>\n",
       "      <td>SelectKBest</td>\n",
       "    </tr>\n",
       "    <tr>\n",
       "      <th>34</th>\n",
       "      <td>SGDClassifier</td>\n",
       "      <td>MinMaxScaler</td>\n",
       "      <td>15</td>\n",
       "      <td>[trustLevel, totalScanTimeInSeconds, lineItemV...</td>\n",
       "      <td>{'learning_rate': 'optimal', 'loss': 'hinge', ...</td>\n",
       "      <td>-0.556147</td>\n",
       "      <td>0.199833</td>\n",
       "      <td>SGDClassifier(alpha=0.0001, average=False, cla...</td>\n",
       "      <td>SelectKBest</td>\n",
       "    </tr>\n",
       "    <tr>\n",
       "      <th>56</th>\n",
       "      <td>SGDClassifier</td>\n",
       "      <td>StandardScaler</td>\n",
       "      <td>17</td>\n",
       "      <td>[trustLevel, totalScanTimeInSeconds, lineItemV...</td>\n",
       "      <td>{'learning_rate': 'optimal', 'loss': 'log', 'p...</td>\n",
       "      <td>-0.564130</td>\n",
       "      <td>0.340952</td>\n",
       "      <td>SGDClassifier(alpha=0.0001, average=False, cla...</td>\n",
       "      <td>SelectKBest</td>\n",
       "    </tr>\n",
       "    <tr>\n",
       "      <th>75</th>\n",
       "      <td>SGDClassifier</td>\n",
       "      <td>LogScaler</td>\n",
       "      <td>16</td>\n",
       "      <td>[trustLevel, totalScanTimeInSeconds, lineItemV...</td>\n",
       "      <td>{'learning_rate': 'optimal', 'loss': 'modified...</td>\n",
       "      <td>-0.564130</td>\n",
       "      <td>0.380838</td>\n",
       "      <td>SGDClassifier(alpha=0.0001, average=False, cla...</td>\n",
       "      <td>SelectKBest</td>\n",
       "    </tr>\n",
       "    <tr>\n",
       "      <th>36</th>\n",
       "      <td>SGDClassifier</td>\n",
       "      <td>MinMaxScaler</td>\n",
       "      <td>17</td>\n",
       "      <td>[trustLevel, totalScanTimeInSeconds, lineItemV...</td>\n",
       "      <td>{'learning_rate': 'optimal', 'loss': 'hinge', ...</td>\n",
       "      <td>-0.569452</td>\n",
       "      <td>0.398478</td>\n",
       "      <td>SGDClassifier(alpha=0.0001, average=False, cla...</td>\n",
       "      <td>SelectKBest</td>\n",
       "    </tr>\n",
       "    <tr>\n",
       "      <th>7</th>\n",
       "      <td>SGDClassifier</td>\n",
       "      <td>No Scaling</td>\n",
       "      <td>8</td>\n",
       "      <td>[trustLevel, totalScanTimeInSeconds, scansWith...</td>\n",
       "      <td>{'learning_rate': 'optimal', 'loss': 'perceptr...</td>\n",
       "      <td>-0.577435</td>\n",
       "      <td>0.195318</td>\n",
       "      <td>SGDClassifier(alpha=0.0001, average=False, cla...</td>\n",
       "      <td>SelectKBest</td>\n",
       "    </tr>\n",
       "    <tr>\n",
       "      <th>69</th>\n",
       "      <td>SGDClassifier</td>\n",
       "      <td>LogScaler</td>\n",
       "      <td>10</td>\n",
       "      <td>[trustLevel, totalScanTimeInSeconds, scansWith...</td>\n",
       "      <td>{'learning_rate': 'optimal', 'loss': 'perceptr...</td>\n",
       "      <td>-0.617350</td>\n",
       "      <td>0.349988</td>\n",
       "      <td>SGDClassifier(alpha=0.0001, average=False, cla...</td>\n",
       "      <td>SelectKBest</td>\n",
       "    </tr>\n",
       "    <tr>\n",
       "      <th>68</th>\n",
       "      <td>SGDClassifier</td>\n",
       "      <td>LogScaler</td>\n",
       "      <td>9</td>\n",
       "      <td>[trustLevel, totalScanTimeInSeconds, valuePerS...</td>\n",
       "      <td>{'learning_rate': 'optimal', 'loss': 'perceptr...</td>\n",
       "      <td>-0.625333</td>\n",
       "      <td>0.412676</td>\n",
       "      <td>SGDClassifier(alpha=0.0001, average=False, cla...</td>\n",
       "      <td>SelectKBest</td>\n",
       "    </tr>\n",
       "    <tr>\n",
       "      <th>4</th>\n",
       "      <td>SGDClassifier</td>\n",
       "      <td>No Scaling</td>\n",
       "      <td>5</td>\n",
       "      <td>[trustLevel, totalScanTimeInSeconds, scannedLi...</td>\n",
       "      <td>{'learning_rate': 'optimal', 'loss': 'modified...</td>\n",
       "      <td>-0.723789</td>\n",
       "      <td>0.468372</td>\n",
       "      <td>SGDClassifier(alpha=0.0001, average=False, cla...</td>\n",
       "      <td>SelectKBest</td>\n",
       "    </tr>\n",
       "  </tbody>\n",
       "</table>\n",
       "</div>"
      ],
      "text/plain": [
       "            Model Data Preparation Feature Count                                           Features                                 Optimal Parameters  Monetary Value Per Instance - Mean  Monetary Value Per Instance - Standard Deviation                                          Raw Model Feature Selection Technique\n",
       "63  SGDClassifier        LogScaler             4  [trustLevel, scannedLineItems, pricePerScanned...  {'learning_rate': 'optimal', 'loss': 'perceptr...                           -0.204896                                          0.166213  SGDClassifier(alpha=0.0001, average=False, cla...                 SelectKBest\n",
       "41  SGDClassifier   StandardScaler             2                     [trustLevel, scannedLineItems]  {'learning_rate': 'optimal', 'loss': 'squared_...                           -0.239489                                          0.158602  SGDClassifier(alpha=0.0001, average=False, cla...                 SelectKBest\n",
       "0   SGDClassifier       No Scaling             1                                       [trustLevel]  {'learning_rate': 'optimal', 'loss': 'huber', ...                           -0.276743                                          0.011709  SGDClassifier(alpha=0.0001, average=False, cla...                 SelectKBest\n",
       "20  SGDClassifier     MinMaxScaler             1                                       [trustLevel]  {'learning_rate': 'optimal', 'loss': 'huber', ...                           -0.276743                                          0.011709  SGDClassifier(alpha=0.0001, average=False, cla...                 SelectKBest\n",
       "60  SGDClassifier        LogScaler             1                                       [trustLevel]  {'learning_rate': 'optimal', 'loss': 'huber', ...                           -0.276743                                          0.011709  SGDClassifier(alpha=0.0001, average=False, cla...                 SelectKBest\n",
       "40  SGDClassifier   StandardScaler             1                                       [trustLevel]  {'learning_rate': 'optimal', 'loss': 'log', 'p...                           -0.276743                                          0.011709  SGDClassifier(alpha=0.0001, average=False, cla...                 SelectKBest\n",
       "19  SGDClassifier       No Scaling            20  [trustLevel, totalScanTimeInSeconds, grandTota...  {'learning_rate': 'optimal', 'loss': 'perceptr...                           -0.284726                                          0.050961  SGDClassifier(alpha=0.0001, average=False, cla...                 SelectKBest\n",
       "59  SGDClassifier   StandardScaler            20  [trustLevel, totalScanTimeInSeconds, grandTota...  {'learning_rate': 'optimal', 'loss': 'hinge', ...                           -0.290048                                          0.038596  SGDClassifier(alpha=0.0001, average=False, cla...                 SelectKBest\n",
       "64  SGDClassifier        LogScaler             5  [trustLevel, lineItemVoidsPerPosition, scanned...  {'learning_rate': 'optimal', 'loss': 'modified...                           -0.292709                                          0.204675  SGDClassifier(alpha=0.0001, average=False, cla...                 SelectKBest\n",
       "79  SGDClassifier        LogScaler            20  [trustLevel, totalScanTimeInSeconds, grandTota...  {'learning_rate': 'optimal', 'loss': 'log', 'p...                           -0.303353                                          0.049882  SGDClassifier(alpha=0.0001, average=False, cla...                 SelectKBest\n",
       "65  SGDClassifier        LogScaler             6  [trustLevel, lineItemVoidsPerPosition, scanned...  {'learning_rate': 'optimal', 'loss': 'perceptr...                           -0.306014                                          0.261752  SGDClassifier(alpha=0.0001, average=False, cla...                 SelectKBest\n",
       "18  SGDClassifier       No Scaling            19  [trustLevel, totalScanTimeInSeconds, grandTota...  {'learning_rate': 'optimal', 'loss': 'log', 'p...                           -0.311336                                          0.053043  SGDClassifier(alpha=0.0001, average=False, cla...                 SelectKBest\n",
       "78  SGDClassifier        LogScaler            19  [trustLevel, totalScanTimeInSeconds, grandTota...  {'learning_rate': 'optimal', 'loss': 'perceptr...                           -0.316658                                          0.060788  SGDClassifier(alpha=0.0001, average=False, cla...                 SelectKBest\n",
       "39  SGDClassifier     MinMaxScaler            20  [trustLevel, totalScanTimeInSeconds, grandTota...  {'learning_rate': 'optimal', 'loss': 'hinge', ...                           -0.316658                                          0.060788  SGDClassifier(alpha=0.0001, average=False, cla...                 SelectKBest\n",
       "61  SGDClassifier        LogScaler             2                     [trustLevel, scannedLineItems]  {'learning_rate': 'optimal', 'loss': 'log', 'p...                           -0.319319                                          0.243383  SGDClassifier(alpha=0.0001, average=False, cla...                 SelectKBest\n",
       "21  SGDClassifier     MinMaxScaler             2                     [trustLevel, scannedLineItems]  {'learning_rate': 'optimal', 'loss': 'perceptr...                           -0.324641                                          0.320118  SGDClassifier(alpha=0.0001, average=False, cla...                 SelectKBest\n",
       "62  SGDClassifier        LogScaler             3  [trustLevel, scannedLineItems, pricePerScanned...  {'learning_rate': 'optimal', 'loss': 'modified...                           -0.337946                                          0.320907  SGDClassifier(alpha=0.0001, average=False, cla...                 SelectKBest\n",
       "38  SGDClassifier     MinMaxScaler            19  [trustLevel, totalScanTimeInSeconds, grandTota...  {'learning_rate': 'optimal', 'loss': 'modified...                           -0.359234                                          0.173683  SGDClassifier(alpha=0.0001, average=False, cla...                 SelectKBest\n",
       "58  SGDClassifier   StandardScaler            19  [trustLevel, totalScanTimeInSeconds, grandTota...  {'learning_rate': 'optimal', 'loss': 'perceptr...                           -0.369878                                          0.115494  SGDClassifier(alpha=0.0001, average=False, cla...                 SelectKBest\n",
       "37  SGDClassifier     MinMaxScaler            18  [trustLevel, totalScanTimeInSeconds, lineItemV...  {'learning_rate': 'optimal', 'loss': 'log', 'p...                           -0.369878                                          0.123163  SGDClassifier(alpha=0.0001, average=False, cla...                 SelectKBest\n",
       "44  SGDClassifier   StandardScaler             5  [trustLevel, totalScanTimeInSeconds, scannedLi...  {'learning_rate': 'optimal', 'loss': 'log', 'p...                           -0.383183                                          0.083404  SGDClassifier(alpha=0.0001, average=False, cla...                 SelectKBest\n",
       "54  SGDClassifier   StandardScaler            15  [trustLevel, totalScanTimeInSeconds, lineItemV...  {'learning_rate': 'optimal', 'loss': 'log', 'p...                           -0.383183                                          0.112862  SGDClassifier(alpha=0.0001, average=False, cla...                 SelectKBest\n",
       "26  SGDClassifier     MinMaxScaler             7  [trustLevel, totalScanTimeInSeconds, lineItemV...  {'learning_rate': 'optimal', 'loss': 'modified...                           -0.383183                                          0.096601  SGDClassifier(alpha=0.0001, average=False, cla...                 SelectKBest\n",
       "72  SGDClassifier        LogScaler            13  [trustLevel, totalScanTimeInSeconds, lineItemV...  {'learning_rate': 'optimal', 'loss': 'squared_...                           -0.383183                                          0.071864  SGDClassifier(alpha=0.0001, average=False, cla...                 SelectKBest\n",
       "30  SGDClassifier     MinMaxScaler            11  [trustLevel, totalScanTimeInSeconds, lineItemV...  {'learning_rate': 'optimal', 'loss': 'hinge', ...                           -0.396487                                          0.065532  SGDClassifier(alpha=0.0001, average=False, cla...                 SelectKBest\n",
       "67  SGDClassifier        LogScaler             8  [trustLevel, totalScanTimeInSeconds, lineItemV...  {'learning_rate': 'optimal', 'loss': 'squared_...                           -0.396487                                          0.129202  SGDClassifier(alpha=0.0001, average=False, cla...                 SelectKBest\n",
       "55  SGDClassifier   StandardScaler            16  [trustLevel, totalScanTimeInSeconds, lineItemV...  {'learning_rate': 'optimal', 'loss': 'log', 'p...                           -0.409792                                          0.131568  SGDClassifier(alpha=0.0001, average=False, cla...                 SelectKBest\n",
       "76  SGDClassifier        LogScaler            17  [trustLevel, totalScanTimeInSeconds, lineItemV...  {'learning_rate': 'optimal', 'loss': 'perceptr...                           -0.409792                                          0.135708  SGDClassifier(alpha=0.0001, average=False, cla...                 SelectKBest\n",
       "16  SGDClassifier       No Scaling            17  [trustLevel, totalScanTimeInSeconds, lineItemV...  {'learning_rate': 'optimal', 'loss': 'squared_...                           -0.409792                                          0.097662  SGDClassifier(alpha=0.0001, average=False, cla...                 SelectKBest\n",
       "74  SGDClassifier        LogScaler            15  [trustLevel, totalScanTimeInSeconds, lineItemV...  {'learning_rate': 'optimal', 'loss': 'perceptr...                           -0.417775                                          0.144341  SGDClassifier(alpha=0.0001, average=False, cla...                 SelectKBest\n",
       "17  SGDClassifier       No Scaling            18  [trustLevel, totalScanTimeInSeconds, lineItemV...  {'learning_rate': 'optimal', 'loss': 'modified...                           -0.423097                                          0.161914  SGDClassifier(alpha=0.0001, average=False, cla...                 SelectKBest\n",
       "27  SGDClassifier     MinMaxScaler             8  [trustLevel, totalScanTimeInSeconds, scansWith...  {'learning_rate': 'optimal', 'loss': 'modified...                           -0.423097                                          0.156216  SGDClassifier(alpha=0.0001, average=False, cla...                 SelectKBest\n",
       "28  SGDClassifier     MinMaxScaler             9  [trustLevel, totalScanTimeInSeconds, lineItemV...  {'learning_rate': 'optimal', 'loss': 'log', 'p...                           -0.423097                                          0.119797  SGDClassifier(alpha=0.0001, average=False, cla...                 SelectKBest\n",
       "48  SGDClassifier   StandardScaler             9  [trustLevel, totalScanTimeInSeconds, lineItemV...  {'learning_rate': 'optimal', 'loss': 'squared_...                           -0.423097                                          0.103893  SGDClassifier(alpha=0.0001, average=False, cla...                 SelectKBest\n",
       "45  SGDClassifier   StandardScaler             6  [trustLevel, totalScanTimeInSeconds, scannedLi...  {'learning_rate': 'optimal', 'loss': 'squared_...                           -0.423097                                          0.070797  SGDClassifier(alpha=0.0001, average=False, cla...                 SelectKBest\n",
       "15  SGDClassifier       No Scaling            16  [trustLevel, totalScanTimeInSeconds, lineItemV...  {'learning_rate': 'optimal', 'loss': 'perceptr...                           -0.423097                                          0.092828  SGDClassifier(alpha=0.0001, average=False, cla...                 SelectKBest\n",
       "3   SGDClassifier       No Scaling             4  [trustLevel, totalScanTimeInSeconds, scannedLi...  {'learning_rate': 'optimal', 'loss': 'squared_...                           -0.431080                                          0.139557  SGDClassifier(alpha=0.0001, average=False, cla...                 SelectKBest\n",
       "6   SGDClassifier       No Scaling             7  [trustLevel, totalScanTimeInSeconds, lineItemV...  {'learning_rate': 'optimal', 'loss': 'hinge', ...                           -0.431080                                          0.141592  SGDClassifier(alpha=0.0001, average=False, cla...                 SelectKBest\n",
       "9   SGDClassifier       No Scaling            10  [trustLevel, totalScanTimeInSeconds, lineItemV...  {'learning_rate': 'optimal', 'loss': 'log', 'p...                           -0.431080                                          0.115042  SGDClassifier(alpha=0.0001, average=False, cla...                 SelectKBest\n",
       "53  SGDClassifier   StandardScaler            14  [trustLevel, totalScanTimeInSeconds, lineItemV...  {'learning_rate': 'optimal', 'loss': 'modified...                           -0.436402                                          0.141531  SGDClassifier(alpha=0.0001, average=False, cla...                 SelectKBest\n",
       "66  SGDClassifier        LogScaler             7  [trustLevel, totalScanTimeInSeconds, lineItemV...  {'learning_rate': 'optimal', 'loss': 'modified...                           -0.436402                                          0.124224  SGDClassifier(alpha=0.0001, average=False, cla...                 SelectKBest\n",
       "71  SGDClassifier        LogScaler            12  [trustLevel, totalScanTimeInSeconds, lineItemV...  {'learning_rate': 'optimal', 'loss': 'modified...                           -0.436402                                          0.240094  SGDClassifier(alpha=0.0001, average=False, cla...                 SelectKBest\n",
       "57  SGDClassifier   StandardScaler            18  [trustLevel, totalScanTimeInSeconds, lineItemV...  {'learning_rate': 'optimal', 'loss': 'log', 'p...                           -0.444385                                          0.138527  SGDClassifier(alpha=0.0001, average=False, cla...                 SelectKBest\n",
       "12  SGDClassifier       No Scaling            13  [trustLevel, totalScanTimeInSeconds, lineItemV...  {'learning_rate': 'optimal', 'loss': 'perceptr...                           -0.449707                                          0.210473  SGDClassifier(alpha=0.0001, average=False, cla...                 SelectKBest\n",
       "73  SGDClassifier        LogScaler            14  [trustLevel, totalScanTimeInSeconds, lineItemV...  {'learning_rate': 'optimal', 'loss': 'hinge', ...                           -0.449707                                          0.227600  SGDClassifier(alpha=0.0001, average=False, cla...                 SelectKBest\n",
       "47  SGDClassifier   StandardScaler             8  [trustLevel, totalScanTimeInSeconds, scansWith...  {'learning_rate': 'optimal', 'loss': 'squared_...                           -0.449707                                          0.152129  SGDClassifier(alpha=0.0001, average=False, cla...                 SelectKBest\n",
       "32  SGDClassifier     MinMaxScaler            13  [trustLevel, totalScanTimeInSeconds, lineItemV...  {'learning_rate': 'optimal', 'loss': 'perceptr...                           -0.449707                                          0.145858  SGDClassifier(alpha=0.0001, average=False, cla...                 SelectKBest\n",
       "29  SGDClassifier     MinMaxScaler            10  [trustLevel, totalScanTimeInSeconds, lineItemV...  {'learning_rate': 'optimal', 'loss': 'squared_...                           -0.449707                                          0.129575  SGDClassifier(alpha=0.0001, average=False, cla...                 SelectKBest\n",
       "50  SGDClassifier   StandardScaler            11  [trustLevel, totalScanTimeInSeconds, lineItemV...  {'learning_rate': 'optimal', 'loss': 'squared_...                           -0.449707                                          0.137611  SGDClassifier(alpha=0.0001, average=False, cla...                 SelectKBest\n",
       "31  SGDClassifier     MinMaxScaler            12  [trustLevel, totalScanTimeInSeconds, lineItemV...  {'learning_rate': 'optimal', 'loss': 'perceptr...                           -0.449707                                          0.122111  SGDClassifier(alpha=0.0001, average=False, cla...                 SelectKBest\n",
       "42  SGDClassifier   StandardScaler             3  [trustLevel, totalScanTimeInSeconds, scannedLi...  {'learning_rate': 'optimal', 'loss': 'perceptr...                           -0.463012                                          0.175263  SGDClassifier(alpha=0.0001, average=False, cla...                 SelectKBest\n",
       "10  SGDClassifier       No Scaling            11  [trustLevel, totalScanTimeInSeconds, lineItemV...  {'learning_rate': 'optimal', 'loss': 'hinge', ...                           -0.463012                                          0.132392  SGDClassifier(alpha=0.0001, average=False, cla...                 SelectKBest\n",
       "43  SGDClassifier   StandardScaler             4  [trustLevel, totalScanTimeInSeconds, scannedLi...  {'learning_rate': 'optimal', 'loss': 'log', 'p...                           -0.476317                                          0.147359  SGDClassifier(alpha=0.0001, average=False, cla...                 SelectKBest\n",
       "11  SGDClassifier       No Scaling            12  [trustLevel, totalScanTimeInSeconds, lineItemV...  {'learning_rate': 'optimal', 'loss': 'log', 'p...                           -0.476317                                          0.153478  SGDClassifier(alpha=0.0001, average=False, cla...                 SelectKBest\n",
       "51  SGDClassifier   StandardScaler            12  [trustLevel, totalScanTimeInSeconds, lineItemV...  {'learning_rate': 'optimal', 'loss': 'modified...                           -0.476317                                          0.221170  SGDClassifier(alpha=0.0001, average=False, cla...                 SelectKBest\n",
       "77  SGDClassifier        LogScaler            18  [trustLevel, totalScanTimeInSeconds, lineItemV...  {'learning_rate': 'optimal', 'loss': 'squared_...                           -0.476317                                          0.140606  SGDClassifier(alpha=0.0001, average=False, cla...                 SelectKBest\n",
       "1   SGDClassifier       No Scaling             2                     [trustLevel, scannedLineItems]  {'learning_rate': 'optimal', 'loss': 'modified...                           -0.478978                                          0.495682  SGDClassifier(alpha=0.0001, average=False, cla...                 SelectKBest\n",
       "22  SGDClassifier     MinMaxScaler             3  [trustLevel, totalScanTimeInSeconds, scannedLi...  {'learning_rate': 'optimal', 'loss': 'hinge', ...                           -0.489622                                          0.171531  SGDClassifier(alpha=0.0001, average=False, cla...                 SelectKBest\n",
       "8   SGDClassifier       No Scaling             9  [trustLevel, totalScanTimeInSeconds, lineItemV...  {'learning_rate': 'optimal', 'loss': 'perceptr...                           -0.489622                                          0.199668  SGDClassifier(alpha=0.0001, average=False, cla...                 SelectKBest\n",
       "13  SGDClassifier       No Scaling            14  [trustLevel, totalScanTimeInSeconds, lineItemV...  {'learning_rate': 'optimal', 'loss': 'modified...                           -0.489622                                          0.173299  SGDClassifier(alpha=0.0001, average=False, cla...                 SelectKBest\n",
       "24  SGDClassifier     MinMaxScaler             5  [trustLevel, totalScanTimeInSeconds, scannedLi...  {'learning_rate': 'optimal', 'loss': 'perceptr...                           -0.489622                                          0.190677  SGDClassifier(alpha=0.0001, average=False, cla...                 SelectKBest\n",
       "25  SGDClassifier     MinMaxScaler             6  [trustLevel, totalScanTimeInSeconds, scannedLi...  {'learning_rate': 'optimal', 'loss': 'log', 'p...                           -0.489622                                          0.193925  SGDClassifier(alpha=0.0001, average=False, cla...                 SelectKBest\n",
       "46  SGDClassifier   StandardScaler             7  [trustLevel, totalScanTimeInSeconds, lineItemV...  {'learning_rate': 'optimal', 'loss': 'modified...                           -0.489622                                          0.207377  SGDClassifier(alpha=0.0001, average=False, cla...                 SelectKBest\n",
       "52  SGDClassifier   StandardScaler            13  [trustLevel, totalScanTimeInSeconds, lineItemV...  {'learning_rate': 'optimal', 'loss': 'perceptr...                           -0.497605                                          0.244126  SGDClassifier(alpha=0.0001, average=False, cla...                 SelectKBest\n",
       "35  SGDClassifier     MinMaxScaler            16  [trustLevel, totalScanTimeInSeconds, lineItemV...  {'learning_rate': 'optimal', 'loss': 'perceptr...                           -0.502927                                          0.266339  SGDClassifier(alpha=0.0001, average=False, cla...                 SelectKBest\n",
       "14  SGDClassifier       No Scaling            15  [trustLevel, totalScanTimeInSeconds, lineItemV...  {'learning_rate': 'optimal', 'loss': 'squared_...                           -0.510910                                          0.227709  SGDClassifier(alpha=0.0001, average=False, cla...                 SelectKBest\n",
       "2   SGDClassifier       No Scaling             3  [trustLevel, totalScanTimeInSeconds, scannedLi...  {'learning_rate': 'optimal', 'loss': 'log', 'p...                           -0.529537                                          0.170005  SGDClassifier(alpha=0.0001, average=False, cla...                 SelectKBest\n",
       "5   SGDClassifier       No Scaling             6  [trustLevel, totalScanTimeInSeconds, scannedLi...  {'learning_rate': 'optimal', 'loss': 'hinge', ...                           -0.529537                                          0.186790  SGDClassifier(alpha=0.0001, average=False, cla...                 SelectKBest\n",
       "33  SGDClassifier     MinMaxScaler            14  [trustLevel, totalScanTimeInSeconds, lineItemV...  {'learning_rate': 'optimal', 'loss': 'modified...                           -0.532198                                          0.304444  SGDClassifier(alpha=0.0001, average=False, cla...                 SelectKBest\n",
       "23  SGDClassifier     MinMaxScaler             4  [trustLevel, totalScanTimeInSeconds, scannedLi...  {'learning_rate': 'optimal', 'loss': 'log', 'p...                           -0.542842                                          0.337733  SGDClassifier(alpha=0.0001, average=False, cla...                 SelectKBest\n",
       "49  SGDClassifier   StandardScaler            10  [trustLevel, totalScanTimeInSeconds, lineItemV...  {'learning_rate': 'optimal', 'loss': 'log', 'p...                           -0.542842                                          0.205470  SGDClassifier(alpha=0.0001, average=False, cla...                 SelectKBest\n",
       "70  SGDClassifier        LogScaler            11  [trustLevel, totalScanTimeInSeconds, lineItemV...  {'learning_rate': 'optimal', 'loss': 'squared_...                           -0.542842                                          0.371963  SGDClassifier(alpha=0.0001, average=False, cla...                 SelectKBest\n",
       "34  SGDClassifier     MinMaxScaler            15  [trustLevel, totalScanTimeInSeconds, lineItemV...  {'learning_rate': 'optimal', 'loss': 'hinge', ...                           -0.556147                                          0.199833  SGDClassifier(alpha=0.0001, average=False, cla...                 SelectKBest\n",
       "56  SGDClassifier   StandardScaler            17  [trustLevel, totalScanTimeInSeconds, lineItemV...  {'learning_rate': 'optimal', 'loss': 'log', 'p...                           -0.564130                                          0.340952  SGDClassifier(alpha=0.0001, average=False, cla...                 SelectKBest\n",
       "75  SGDClassifier        LogScaler            16  [trustLevel, totalScanTimeInSeconds, lineItemV...  {'learning_rate': 'optimal', 'loss': 'modified...                           -0.564130                                          0.380838  SGDClassifier(alpha=0.0001, average=False, cla...                 SelectKBest\n",
       "36  SGDClassifier     MinMaxScaler            17  [trustLevel, totalScanTimeInSeconds, lineItemV...  {'learning_rate': 'optimal', 'loss': 'hinge', ...                           -0.569452                                          0.398478  SGDClassifier(alpha=0.0001, average=False, cla...                 SelectKBest\n",
       "7   SGDClassifier       No Scaling             8  [trustLevel, totalScanTimeInSeconds, scansWith...  {'learning_rate': 'optimal', 'loss': 'perceptr...                           -0.577435                                          0.195318  SGDClassifier(alpha=0.0001, average=False, cla...                 SelectKBest\n",
       "69  SGDClassifier        LogScaler            10  [trustLevel, totalScanTimeInSeconds, scansWith...  {'learning_rate': 'optimal', 'loss': 'perceptr...                           -0.617350                                          0.349988  SGDClassifier(alpha=0.0001, average=False, cla...                 SelectKBest\n",
       "68  SGDClassifier        LogScaler             9  [trustLevel, totalScanTimeInSeconds, valuePerS...  {'learning_rate': 'optimal', 'loss': 'perceptr...                           -0.625333                                          0.412676  SGDClassifier(alpha=0.0001, average=False, cla...                 SelectKBest\n",
       "4   SGDClassifier       No Scaling             5  [trustLevel, totalScanTimeInSeconds, scannedLi...  {'learning_rate': 'optimal', 'loss': 'modified...                           -0.723789                                          0.468372  SGDClassifier(alpha=0.0001, average=False, cla...                 SelectKBest"
      ]
     },
     "execution_count": 24,
     "metadata": {},
     "output_type": "execute_result"
    }
   ],
   "source": [
    "import time\n",
    "from sklearn.feature_selection import SelectKBest\n",
    "from sklearn.feature_selection import chi2\n",
    "from sklearn.feature_selection import f_classif\n",
    "\n",
    "from sklearn.feature_selection import RFECV\n",
    "from sklearn.feature_selection import RFE\n",
    "\n",
    "from sklearn.preprocessing import MinMaxScaler \n",
    "from sklearn.preprocessing import StandardScaler\n",
    "from sklearn.preprocessing import FunctionTransformer\n",
    "\n",
    "result_table = pd.DataFrame(columns=[\"Model\", \"Data Preparation\", \"Feature Count\", \"Features\", \"Optimal Parameters\", \"Monetary Value Per Instance - Mean\", \"Monetary Value Per Instance - Standard Deviation\", \"Raw Model\"])\n",
    "\n",
    "\n",
    "# Scaling is not relevant for Decision Trees\n",
    "for data_preparation_strategy in range(1,5):\n",
    "    if (data_preparation_strategy == 1):  \n",
    "        X_scaled = X\n",
    "        data_preparation = \"No Scaling\"\n",
    "    elif (data_preparation_strategy == 2):\n",
    "        feature_scaler = MinMaxScaler()  \n",
    "        X_scaled = pd.DataFrame(feature_scaler.fit_transform(X.values), columns=X.columns, index=X.index) \n",
    "        data_preparation = \"MinMaxScaler\"\n",
    "    elif (data_preparation_strategy == 3):\n",
    "        feature_scaler = StandardScaler()  \n",
    "        X_scaled = pd.DataFrame(feature_scaler.fit_transform(X.values), columns=X.columns, index=X.index)\n",
    "        data_preparation = \"StandardScaler\"\n",
    "    elif (data_preparation_strategy == 4):\n",
    "        transformer = FunctionTransformer(np.log1p, validate=True)  \n",
    "        X_scaled = pd.DataFrame(transformer.transform(X), columns=X.columns, index=X.index)\n",
    "        data_preparation = \"LogScaler\"    \n",
    "\n",
    "    for model in model_tuning_factory:   # replace with model_tuning_factory_randomized for faster results\n",
    "\n",
    "\n",
    "        for feature_count in range(1,len(list(X))+1):\n",
    "\n",
    "            model.seed = 42\n",
    "            start_time = time.time()              \n",
    "\n",
    "\n",
    "            # Solution with SelectKBest\n",
    "            best_features = SelectKBest(f_classif, k=feature_count).fit(X_scaled,Y)\n",
    "            best_feature_list = X.columns[best_features.get_support()]\n",
    "            X_selected_features = X[best_feature_list]\n",
    "\n",
    "            model.fit(X_selected_features,Y)  \n",
    "            model_name = model.best_estimator_.__class__.__name__\n",
    "            score_mean = model.cv_results_['mean_test_score'][model.best_index_]\n",
    "            score_std = model.cv_results_['std_test_score'][model.best_index_]\n",
    "\n",
    "            result_table = result_table.append({\n",
    "             \"Model\": model_name, \n",
    "             \"Data Preparation\": data_preparation,   \n",
    "             \"Feature Count\": feature_count,\n",
    "             \"Feature Selection Technique\": \"SelectKBest\",   \n",
    "             \"Features\": best_feature_list.values, \n",
    "             \"Optimal Parameters\": model.best_params_,\n",
    "             \"Monetary Value Per Instance - Mean\":  score_mean,\n",
    "             \"Monetary Value Per Instance - Standard Deviation\": score_std,   \n",
    "             \"Raw Model\": model.best_estimator_\n",
    "              }, ignore_index=True)\n",
    "\n",
    "\n",
    "            # Solution with Recursive Feature Elimination -> only works for some models\n",
    "\n",
    "            if (model.estimator.__class__.__name__ == 'LogisticRegression'\n",
    "             or model.estimator.__class__.__name__ == 'DecisionTreeClassifier'\n",
    "             or model.estimator.__class__.__name__ == 'ExtraTreeClassifier'\n",
    "             or model.estimator.__class__.__name__ == 'ExtraTreesClassifier'\n",
    "             or model.estimator.__class__.__name__ == 'RandomForestClassifier'\n",
    "             or model.estimator.__class__.__name__ == 'BernoulliNB'\n",
    "             or model.estimator.__class__.__name__ == 'AdaBoostClassifier'\n",
    "             or model.estimator.__class__.__name__ == 'GradientBoostingClassifier'\n",
    "             or model.estimator.__class__.__name__ == 'Perceptron'\n",
    "             or model.estimator.__class__.__name__ == 'LinearDiscriminantAnalysis'):\n",
    "\n",
    "               # Traditional RFE\n",
    "                rfe = RFE(model.estimator, n_features_to_select = feature_count)\n",
    "                rfe = rfe.fit(X,Y)\n",
    "                best_feature_list = np.array(list(X))[np.array(rfe.support_)]\n",
    "                X_selected_features = X[best_feature_list]\n",
    "\n",
    "                model.fit(X_selected_features,Y)  \n",
    "                model_name = model.best_estimator_.__class__.__name__\n",
    "                score_mean = model.cv_results_['mean_test_score'][model.best_index_]\n",
    "                score_std = model.cv_results_['std_test_score'][model.best_index_]\n",
    "\n",
    "\n",
    "                result_table = result_table.append({\n",
    "                 \"Model\": model_name, \n",
    "                 \"Data Preparation\": data_preparation,\n",
    "                 \"Feature Count\": feature_count,\n",
    "                 \"Feature Selection Technique\": \"RFE\",\n",
    "                 \"Features\": best_feature_list,\n",
    "                 \"Optimal Parameters\": model.best_params_,\n",
    "                 \"Monetary Value Per Instance - Mean\":  score_mean,\n",
    "                 \"Monetary Value Per Instance - Standard Deviation\": score_std,  \n",
    "                 \"Raw Model\": model.best_estimator_\n",
    "                  }, ignore_index=True)\n",
    "\n",
    "            end_time = time.time()\n",
    "\n",
    "            print(\"Finished \" + model.best_estimator_.__class__.__name__ + \" with \" + data_preparation + \" and \" + str(feature_count) + \" features after \" + str(round(end_time - start_time, 2)) + \" seconds\")\n",
    "\n",
    "\n",
    "\n",
    "        if (model.estimator.__class__.__name__ == 'LogisticRegression'\n",
    "         or model.estimator.__class__.__name__ == 'DecisionTreeClassifier'\n",
    "         or model.estimator.__class__.__name__ == 'ExtraTreeClassifier'\n",
    "         or model.estimator.__class__.__name__ == 'ExtraTreesClassifier'\n",
    "         or model.estimator.__class__.__name__ == 'RandomForestClassifier'\n",
    "         or model.estimator.__class__.__name__ == 'BernoulliNB'\n",
    "         or model.estimator.__class__.__name__ == 'AdaBoostClassifier'\n",
    "         or model.estimator.__class__.__name__ == 'GradientBoostingClassifier'\n",
    "         or model.estimator.__class__.__name__ == 'Perceptron'\n",
    "         or model.estimator.__class__.__name__ == 'LinearDiscriminantAnalysis'):\n",
    "\n",
    "            # RFE with Cross Validation -> determines the optimum feature count automatically\n",
    "            rfecv = RFECV(model.estimator, cv = skf, scoring = my_custom_score)\n",
    "            rfecv = rfe.fit(X,Y)\n",
    "            best_feature_list = np.array(list(X))[np.array(rfecv.support_)]\n",
    "            X_selected_features = X[best_feature_list]\n",
    "\n",
    "            model.fit(X_selected_features,Y)  \n",
    "            model_name = model.best_estimator_.__class__.__name__\n",
    "            score_mean = model.cv_results_['mean_test_score'][model.best_index_]\n",
    "            score_std = model.cv_results_['std_test_score'][model.best_index_]\n",
    "\n",
    "\n",
    "            result_table = result_table.append({\n",
    "             \"Model\": model_name,  \n",
    "             \"Data Preparation\": data_preparation,\n",
    "             \"Feature Count\": len(best_feature_list),\n",
    "             \"Feature Selection Technique\": \"RFECV\",\n",
    "             \"Features\": best_feature_list,\n",
    "             \"Optimal Parameters\": model.best_params_,\n",
    "             \"Monetary Value Per Instance - Mean\":  score_mean,\n",
    "             \"Monetary Value Per Instance - Standard Deviation\": score_std,    \n",
    "             \"Raw Model\": model.best_estimator_\n",
    "              }, ignore_index=True)\n",
    "\n",
    "result_table.sort_values(by = \"Monetary Value Per Instance - Mean\", ascending = False)"
   ]
  },
  {
   "cell_type": "code",
   "execution_count": 26,
   "metadata": {},
   "outputs": [
    {
     "data": {
      "text/html": [
       "<div>\n",
       "<style scoped>\n",
       "    .dataframe tbody tr th:only-of-type {\n",
       "        vertical-align: middle;\n",
       "    }\n",
       "\n",
       "    .dataframe tbody tr th {\n",
       "        vertical-align: top;\n",
       "    }\n",
       "\n",
       "    .dataframe thead th {\n",
       "        text-align: right;\n",
       "    }\n",
       "</style>\n",
       "<table border=\"1\" class=\"dataframe\">\n",
       "  <thead>\n",
       "    <tr style=\"text-align: right;\">\n",
       "      <th></th>\n",
       "      <th>Model</th>\n",
       "      <th>Data Preparation</th>\n",
       "      <th>Feature Count</th>\n",
       "      <th>Features</th>\n",
       "      <th>Optimal Parameters</th>\n",
       "      <th>Monetary Value Per Instance - Mean</th>\n",
       "      <th>Monetary Value Per Instance - Standard Deviation</th>\n",
       "      <th>Raw Model</th>\n",
       "      <th>Feature Selection Technique</th>\n",
       "    </tr>\n",
       "  </thead>\n",
       "  <tbody>\n",
       "    <tr>\n",
       "      <th>63</th>\n",
       "      <td>SGDClassifier</td>\n",
       "      <td>LogScaler</td>\n",
       "      <td>4</td>\n",
       "      <td>[trustLevel, scannedLineItems, pricePerScanned...</td>\n",
       "      <td>{'learning_rate': 'optimal', 'loss': 'perceptr...</td>\n",
       "      <td>-0.204896</td>\n",
       "      <td>0.166213</td>\n",
       "      <td>SGDClassifier(alpha=0.0001, average=False, cla...</td>\n",
       "      <td>SelectKBest</td>\n",
       "    </tr>\n",
       "    <tr>\n",
       "      <th>41</th>\n",
       "      <td>SGDClassifier</td>\n",
       "      <td>StandardScaler</td>\n",
       "      <td>2</td>\n",
       "      <td>[trustLevel, scannedLineItems]</td>\n",
       "      <td>{'learning_rate': 'optimal', 'loss': 'squared_...</td>\n",
       "      <td>-0.239489</td>\n",
       "      <td>0.158602</td>\n",
       "      <td>SGDClassifier(alpha=0.0001, average=False, cla...</td>\n",
       "      <td>SelectKBest</td>\n",
       "    </tr>\n",
       "    <tr>\n",
       "      <th>0</th>\n",
       "      <td>SGDClassifier</td>\n",
       "      <td>No Scaling</td>\n",
       "      <td>1</td>\n",
       "      <td>[trustLevel]</td>\n",
       "      <td>{'learning_rate': 'optimal', 'loss': 'huber', ...</td>\n",
       "      <td>-0.276743</td>\n",
       "      <td>0.011709</td>\n",
       "      <td>SGDClassifier(alpha=0.0001, average=False, cla...</td>\n",
       "      <td>SelectKBest</td>\n",
       "    </tr>\n",
       "    <tr>\n",
       "      <th>20</th>\n",
       "      <td>SGDClassifier</td>\n",
       "      <td>MinMaxScaler</td>\n",
       "      <td>1</td>\n",
       "      <td>[trustLevel]</td>\n",
       "      <td>{'learning_rate': 'optimal', 'loss': 'huber', ...</td>\n",
       "      <td>-0.276743</td>\n",
       "      <td>0.011709</td>\n",
       "      <td>SGDClassifier(alpha=0.0001, average=False, cla...</td>\n",
       "      <td>SelectKBest</td>\n",
       "    </tr>\n",
       "    <tr>\n",
       "      <th>60</th>\n",
       "      <td>SGDClassifier</td>\n",
       "      <td>LogScaler</td>\n",
       "      <td>1</td>\n",
       "      <td>[trustLevel]</td>\n",
       "      <td>{'learning_rate': 'optimal', 'loss': 'huber', ...</td>\n",
       "      <td>-0.276743</td>\n",
       "      <td>0.011709</td>\n",
       "      <td>SGDClassifier(alpha=0.0001, average=False, cla...</td>\n",
       "      <td>SelectKBest</td>\n",
       "    </tr>\n",
       "    <tr>\n",
       "      <th>40</th>\n",
       "      <td>SGDClassifier</td>\n",
       "      <td>StandardScaler</td>\n",
       "      <td>1</td>\n",
       "      <td>[trustLevel]</td>\n",
       "      <td>{'learning_rate': 'optimal', 'loss': 'log', 'p...</td>\n",
       "      <td>-0.276743</td>\n",
       "      <td>0.011709</td>\n",
       "      <td>SGDClassifier(alpha=0.0001, average=False, cla...</td>\n",
       "      <td>SelectKBest</td>\n",
       "    </tr>\n",
       "    <tr>\n",
       "      <th>19</th>\n",
       "      <td>SGDClassifier</td>\n",
       "      <td>No Scaling</td>\n",
       "      <td>20</td>\n",
       "      <td>[trustLevel, totalScanTimeInSeconds, grandTota...</td>\n",
       "      <td>{'learning_rate': 'optimal', 'loss': 'perceptr...</td>\n",
       "      <td>-0.284726</td>\n",
       "      <td>0.050961</td>\n",
       "      <td>SGDClassifier(alpha=0.0001, average=False, cla...</td>\n",
       "      <td>SelectKBest</td>\n",
       "    </tr>\n",
       "    <tr>\n",
       "      <th>59</th>\n",
       "      <td>SGDClassifier</td>\n",
       "      <td>StandardScaler</td>\n",
       "      <td>20</td>\n",
       "      <td>[trustLevel, totalScanTimeInSeconds, grandTota...</td>\n",
       "      <td>{'learning_rate': 'optimal', 'loss': 'hinge', ...</td>\n",
       "      <td>-0.290048</td>\n",
       "      <td>0.038596</td>\n",
       "      <td>SGDClassifier(alpha=0.0001, average=False, cla...</td>\n",
       "      <td>SelectKBest</td>\n",
       "    </tr>\n",
       "    <tr>\n",
       "      <th>64</th>\n",
       "      <td>SGDClassifier</td>\n",
       "      <td>LogScaler</td>\n",
       "      <td>5</td>\n",
       "      <td>[trustLevel, lineItemVoidsPerPosition, scanned...</td>\n",
       "      <td>{'learning_rate': 'optimal', 'loss': 'modified...</td>\n",
       "      <td>-0.292709</td>\n",
       "      <td>0.204675</td>\n",
       "      <td>SGDClassifier(alpha=0.0001, average=False, cla...</td>\n",
       "      <td>SelectKBest</td>\n",
       "    </tr>\n",
       "    <tr>\n",
       "      <th>79</th>\n",
       "      <td>SGDClassifier</td>\n",
       "      <td>LogScaler</td>\n",
       "      <td>20</td>\n",
       "      <td>[trustLevel, totalScanTimeInSeconds, grandTota...</td>\n",
       "      <td>{'learning_rate': 'optimal', 'loss': 'log', 'p...</td>\n",
       "      <td>-0.303353</td>\n",
       "      <td>0.049882</td>\n",
       "      <td>SGDClassifier(alpha=0.0001, average=False, cla...</td>\n",
       "      <td>SelectKBest</td>\n",
       "    </tr>\n",
       "    <tr>\n",
       "      <th>65</th>\n",
       "      <td>SGDClassifier</td>\n",
       "      <td>LogScaler</td>\n",
       "      <td>6</td>\n",
       "      <td>[trustLevel, lineItemVoidsPerPosition, scanned...</td>\n",
       "      <td>{'learning_rate': 'optimal', 'loss': 'perceptr...</td>\n",
       "      <td>-0.306014</td>\n",
       "      <td>0.261752</td>\n",
       "      <td>SGDClassifier(alpha=0.0001, average=False, cla...</td>\n",
       "      <td>SelectKBest</td>\n",
       "    </tr>\n",
       "    <tr>\n",
       "      <th>18</th>\n",
       "      <td>SGDClassifier</td>\n",
       "      <td>No Scaling</td>\n",
       "      <td>19</td>\n",
       "      <td>[trustLevel, totalScanTimeInSeconds, grandTota...</td>\n",
       "      <td>{'learning_rate': 'optimal', 'loss': 'log', 'p...</td>\n",
       "      <td>-0.311336</td>\n",
       "      <td>0.053043</td>\n",
       "      <td>SGDClassifier(alpha=0.0001, average=False, cla...</td>\n",
       "      <td>SelectKBest</td>\n",
       "    </tr>\n",
       "    <tr>\n",
       "      <th>78</th>\n",
       "      <td>SGDClassifier</td>\n",
       "      <td>LogScaler</td>\n",
       "      <td>19</td>\n",
       "      <td>[trustLevel, totalScanTimeInSeconds, grandTota...</td>\n",
       "      <td>{'learning_rate': 'optimal', 'loss': 'perceptr...</td>\n",
       "      <td>-0.316658</td>\n",
       "      <td>0.060788</td>\n",
       "      <td>SGDClassifier(alpha=0.0001, average=False, cla...</td>\n",
       "      <td>SelectKBest</td>\n",
       "    </tr>\n",
       "    <tr>\n",
       "      <th>39</th>\n",
       "      <td>SGDClassifier</td>\n",
       "      <td>MinMaxScaler</td>\n",
       "      <td>20</td>\n",
       "      <td>[trustLevel, totalScanTimeInSeconds, grandTota...</td>\n",
       "      <td>{'learning_rate': 'optimal', 'loss': 'hinge', ...</td>\n",
       "      <td>-0.316658</td>\n",
       "      <td>0.060788</td>\n",
       "      <td>SGDClassifier(alpha=0.0001, average=False, cla...</td>\n",
       "      <td>SelectKBest</td>\n",
       "    </tr>\n",
       "    <tr>\n",
       "      <th>61</th>\n",
       "      <td>SGDClassifier</td>\n",
       "      <td>LogScaler</td>\n",
       "      <td>2</td>\n",
       "      <td>[trustLevel, scannedLineItems]</td>\n",
       "      <td>{'learning_rate': 'optimal', 'loss': 'log', 'p...</td>\n",
       "      <td>-0.319319</td>\n",
       "      <td>0.243383</td>\n",
       "      <td>SGDClassifier(alpha=0.0001, average=False, cla...</td>\n",
       "      <td>SelectKBest</td>\n",
       "    </tr>\n",
       "    <tr>\n",
       "      <th>21</th>\n",
       "      <td>SGDClassifier</td>\n",
       "      <td>MinMaxScaler</td>\n",
       "      <td>2</td>\n",
       "      <td>[trustLevel, scannedLineItems]</td>\n",
       "      <td>{'learning_rate': 'optimal', 'loss': 'perceptr...</td>\n",
       "      <td>-0.324641</td>\n",
       "      <td>0.320118</td>\n",
       "      <td>SGDClassifier(alpha=0.0001, average=False, cla...</td>\n",
       "      <td>SelectKBest</td>\n",
       "    </tr>\n",
       "    <tr>\n",
       "      <th>62</th>\n",
       "      <td>SGDClassifier</td>\n",
       "      <td>LogScaler</td>\n",
       "      <td>3</td>\n",
       "      <td>[trustLevel, scannedLineItems, pricePerScanned...</td>\n",
       "      <td>{'learning_rate': 'optimal', 'loss': 'modified...</td>\n",
       "      <td>-0.337946</td>\n",
       "      <td>0.320907</td>\n",
       "      <td>SGDClassifier(alpha=0.0001, average=False, cla...</td>\n",
       "      <td>SelectKBest</td>\n",
       "    </tr>\n",
       "    <tr>\n",
       "      <th>38</th>\n",
       "      <td>SGDClassifier</td>\n",
       "      <td>MinMaxScaler</td>\n",
       "      <td>19</td>\n",
       "      <td>[trustLevel, totalScanTimeInSeconds, grandTota...</td>\n",
       "      <td>{'learning_rate': 'optimal', 'loss': 'modified...</td>\n",
       "      <td>-0.359234</td>\n",
       "      <td>0.173683</td>\n",
       "      <td>SGDClassifier(alpha=0.0001, average=False, cla...</td>\n",
       "      <td>SelectKBest</td>\n",
       "    </tr>\n",
       "    <tr>\n",
       "      <th>58</th>\n",
       "      <td>SGDClassifier</td>\n",
       "      <td>StandardScaler</td>\n",
       "      <td>19</td>\n",
       "      <td>[trustLevel, totalScanTimeInSeconds, grandTota...</td>\n",
       "      <td>{'learning_rate': 'optimal', 'loss': 'perceptr...</td>\n",
       "      <td>-0.369878</td>\n",
       "      <td>0.115494</td>\n",
       "      <td>SGDClassifier(alpha=0.0001, average=False, cla...</td>\n",
       "      <td>SelectKBest</td>\n",
       "    </tr>\n",
       "    <tr>\n",
       "      <th>37</th>\n",
       "      <td>SGDClassifier</td>\n",
       "      <td>MinMaxScaler</td>\n",
       "      <td>18</td>\n",
       "      <td>[trustLevel, totalScanTimeInSeconds, lineItemV...</td>\n",
       "      <td>{'learning_rate': 'optimal', 'loss': 'log', 'p...</td>\n",
       "      <td>-0.369878</td>\n",
       "      <td>0.123163</td>\n",
       "      <td>SGDClassifier(alpha=0.0001, average=False, cla...</td>\n",
       "      <td>SelectKBest</td>\n",
       "    </tr>\n",
       "    <tr>\n",
       "      <th>44</th>\n",
       "      <td>SGDClassifier</td>\n",
       "      <td>StandardScaler</td>\n",
       "      <td>5</td>\n",
       "      <td>[trustLevel, totalScanTimeInSeconds, scannedLi...</td>\n",
       "      <td>{'learning_rate': 'optimal', 'loss': 'log', 'p...</td>\n",
       "      <td>-0.383183</td>\n",
       "      <td>0.083404</td>\n",
       "      <td>SGDClassifier(alpha=0.0001, average=False, cla...</td>\n",
       "      <td>SelectKBest</td>\n",
       "    </tr>\n",
       "    <tr>\n",
       "      <th>54</th>\n",
       "      <td>SGDClassifier</td>\n",
       "      <td>StandardScaler</td>\n",
       "      <td>15</td>\n",
       "      <td>[trustLevel, totalScanTimeInSeconds, lineItemV...</td>\n",
       "      <td>{'learning_rate': 'optimal', 'loss': 'log', 'p...</td>\n",
       "      <td>-0.383183</td>\n",
       "      <td>0.112862</td>\n",
       "      <td>SGDClassifier(alpha=0.0001, average=False, cla...</td>\n",
       "      <td>SelectKBest</td>\n",
       "    </tr>\n",
       "    <tr>\n",
       "      <th>26</th>\n",
       "      <td>SGDClassifier</td>\n",
       "      <td>MinMaxScaler</td>\n",
       "      <td>7</td>\n",
       "      <td>[trustLevel, totalScanTimeInSeconds, lineItemV...</td>\n",
       "      <td>{'learning_rate': 'optimal', 'loss': 'modified...</td>\n",
       "      <td>-0.383183</td>\n",
       "      <td>0.096601</td>\n",
       "      <td>SGDClassifier(alpha=0.0001, average=False, cla...</td>\n",
       "      <td>SelectKBest</td>\n",
       "    </tr>\n",
       "    <tr>\n",
       "      <th>72</th>\n",
       "      <td>SGDClassifier</td>\n",
       "      <td>LogScaler</td>\n",
       "      <td>13</td>\n",
       "      <td>[trustLevel, totalScanTimeInSeconds, lineItemV...</td>\n",
       "      <td>{'learning_rate': 'optimal', 'loss': 'squared_...</td>\n",
       "      <td>-0.383183</td>\n",
       "      <td>0.071864</td>\n",
       "      <td>SGDClassifier(alpha=0.0001, average=False, cla...</td>\n",
       "      <td>SelectKBest</td>\n",
       "    </tr>\n",
       "    <tr>\n",
       "      <th>30</th>\n",
       "      <td>SGDClassifier</td>\n",
       "      <td>MinMaxScaler</td>\n",
       "      <td>11</td>\n",
       "      <td>[trustLevel, totalScanTimeInSeconds, lineItemV...</td>\n",
       "      <td>{'learning_rate': 'optimal', 'loss': 'hinge', ...</td>\n",
       "      <td>-0.396487</td>\n",
       "      <td>0.065532</td>\n",
       "      <td>SGDClassifier(alpha=0.0001, average=False, cla...</td>\n",
       "      <td>SelectKBest</td>\n",
       "    </tr>\n",
       "    <tr>\n",
       "      <th>67</th>\n",
       "      <td>SGDClassifier</td>\n",
       "      <td>LogScaler</td>\n",
       "      <td>8</td>\n",
       "      <td>[trustLevel, totalScanTimeInSeconds, lineItemV...</td>\n",
       "      <td>{'learning_rate': 'optimal', 'loss': 'squared_...</td>\n",
       "      <td>-0.396487</td>\n",
       "      <td>0.129202</td>\n",
       "      <td>SGDClassifier(alpha=0.0001, average=False, cla...</td>\n",
       "      <td>SelectKBest</td>\n",
       "    </tr>\n",
       "    <tr>\n",
       "      <th>55</th>\n",
       "      <td>SGDClassifier</td>\n",
       "      <td>StandardScaler</td>\n",
       "      <td>16</td>\n",
       "      <td>[trustLevel, totalScanTimeInSeconds, lineItemV...</td>\n",
       "      <td>{'learning_rate': 'optimal', 'loss': 'log', 'p...</td>\n",
       "      <td>-0.409792</td>\n",
       "      <td>0.131568</td>\n",
       "      <td>SGDClassifier(alpha=0.0001, average=False, cla...</td>\n",
       "      <td>SelectKBest</td>\n",
       "    </tr>\n",
       "    <tr>\n",
       "      <th>76</th>\n",
       "      <td>SGDClassifier</td>\n",
       "      <td>LogScaler</td>\n",
       "      <td>17</td>\n",
       "      <td>[trustLevel, totalScanTimeInSeconds, lineItemV...</td>\n",
       "      <td>{'learning_rate': 'optimal', 'loss': 'perceptr...</td>\n",
       "      <td>-0.409792</td>\n",
       "      <td>0.135708</td>\n",
       "      <td>SGDClassifier(alpha=0.0001, average=False, cla...</td>\n",
       "      <td>SelectKBest</td>\n",
       "    </tr>\n",
       "    <tr>\n",
       "      <th>16</th>\n",
       "      <td>SGDClassifier</td>\n",
       "      <td>No Scaling</td>\n",
       "      <td>17</td>\n",
       "      <td>[trustLevel, totalScanTimeInSeconds, lineItemV...</td>\n",
       "      <td>{'learning_rate': 'optimal', 'loss': 'squared_...</td>\n",
       "      <td>-0.409792</td>\n",
       "      <td>0.097662</td>\n",
       "      <td>SGDClassifier(alpha=0.0001, average=False, cla...</td>\n",
       "      <td>SelectKBest</td>\n",
       "    </tr>\n",
       "    <tr>\n",
       "      <th>74</th>\n",
       "      <td>SGDClassifier</td>\n",
       "      <td>LogScaler</td>\n",
       "      <td>15</td>\n",
       "      <td>[trustLevel, totalScanTimeInSeconds, lineItemV...</td>\n",
       "      <td>{'learning_rate': 'optimal', 'loss': 'perceptr...</td>\n",
       "      <td>-0.417775</td>\n",
       "      <td>0.144341</td>\n",
       "      <td>SGDClassifier(alpha=0.0001, average=False, cla...</td>\n",
       "      <td>SelectKBest</td>\n",
       "    </tr>\n",
       "    <tr>\n",
       "      <th>17</th>\n",
       "      <td>SGDClassifier</td>\n",
       "      <td>No Scaling</td>\n",
       "      <td>18</td>\n",
       "      <td>[trustLevel, totalScanTimeInSeconds, lineItemV...</td>\n",
       "      <td>{'learning_rate': 'optimal', 'loss': 'modified...</td>\n",
       "      <td>-0.423097</td>\n",
       "      <td>0.161914</td>\n",
       "      <td>SGDClassifier(alpha=0.0001, average=False, cla...</td>\n",
       "      <td>SelectKBest</td>\n",
       "    </tr>\n",
       "    <tr>\n",
       "      <th>27</th>\n",
       "      <td>SGDClassifier</td>\n",
       "      <td>MinMaxScaler</td>\n",
       "      <td>8</td>\n",
       "      <td>[trustLevel, totalScanTimeInSeconds, scansWith...</td>\n",
       "      <td>{'learning_rate': 'optimal', 'loss': 'modified...</td>\n",
       "      <td>-0.423097</td>\n",
       "      <td>0.156216</td>\n",
       "      <td>SGDClassifier(alpha=0.0001, average=False, cla...</td>\n",
       "      <td>SelectKBest</td>\n",
       "    </tr>\n",
       "    <tr>\n",
       "      <th>28</th>\n",
       "      <td>SGDClassifier</td>\n",
       "      <td>MinMaxScaler</td>\n",
       "      <td>9</td>\n",
       "      <td>[trustLevel, totalScanTimeInSeconds, lineItemV...</td>\n",
       "      <td>{'learning_rate': 'optimal', 'loss': 'log', 'p...</td>\n",
       "      <td>-0.423097</td>\n",
       "      <td>0.119797</td>\n",
       "      <td>SGDClassifier(alpha=0.0001, average=False, cla...</td>\n",
       "      <td>SelectKBest</td>\n",
       "    </tr>\n",
       "    <tr>\n",
       "      <th>48</th>\n",
       "      <td>SGDClassifier</td>\n",
       "      <td>StandardScaler</td>\n",
       "      <td>9</td>\n",
       "      <td>[trustLevel, totalScanTimeInSeconds, lineItemV...</td>\n",
       "      <td>{'learning_rate': 'optimal', 'loss': 'squared_...</td>\n",
       "      <td>-0.423097</td>\n",
       "      <td>0.103893</td>\n",
       "      <td>SGDClassifier(alpha=0.0001, average=False, cla...</td>\n",
       "      <td>SelectKBest</td>\n",
       "    </tr>\n",
       "    <tr>\n",
       "      <th>45</th>\n",
       "      <td>SGDClassifier</td>\n",
       "      <td>StandardScaler</td>\n",
       "      <td>6</td>\n",
       "      <td>[trustLevel, totalScanTimeInSeconds, scannedLi...</td>\n",
       "      <td>{'learning_rate': 'optimal', 'loss': 'squared_...</td>\n",
       "      <td>-0.423097</td>\n",
       "      <td>0.070797</td>\n",
       "      <td>SGDClassifier(alpha=0.0001, average=False, cla...</td>\n",
       "      <td>SelectKBest</td>\n",
       "    </tr>\n",
       "    <tr>\n",
       "      <th>15</th>\n",
       "      <td>SGDClassifier</td>\n",
       "      <td>No Scaling</td>\n",
       "      <td>16</td>\n",
       "      <td>[trustLevel, totalScanTimeInSeconds, lineItemV...</td>\n",
       "      <td>{'learning_rate': 'optimal', 'loss': 'perceptr...</td>\n",
       "      <td>-0.423097</td>\n",
       "      <td>0.092828</td>\n",
       "      <td>SGDClassifier(alpha=0.0001, average=False, cla...</td>\n",
       "      <td>SelectKBest</td>\n",
       "    </tr>\n",
       "    <tr>\n",
       "      <th>3</th>\n",
       "      <td>SGDClassifier</td>\n",
       "      <td>No Scaling</td>\n",
       "      <td>4</td>\n",
       "      <td>[trustLevel, totalScanTimeInSeconds, scannedLi...</td>\n",
       "      <td>{'learning_rate': 'optimal', 'loss': 'squared_...</td>\n",
       "      <td>-0.431080</td>\n",
       "      <td>0.139557</td>\n",
       "      <td>SGDClassifier(alpha=0.0001, average=False, cla...</td>\n",
       "      <td>SelectKBest</td>\n",
       "    </tr>\n",
       "    <tr>\n",
       "      <th>6</th>\n",
       "      <td>SGDClassifier</td>\n",
       "      <td>No Scaling</td>\n",
       "      <td>7</td>\n",
       "      <td>[trustLevel, totalScanTimeInSeconds, lineItemV...</td>\n",
       "      <td>{'learning_rate': 'optimal', 'loss': 'hinge', ...</td>\n",
       "      <td>-0.431080</td>\n",
       "      <td>0.141592</td>\n",
       "      <td>SGDClassifier(alpha=0.0001, average=False, cla...</td>\n",
       "      <td>SelectKBest</td>\n",
       "    </tr>\n",
       "    <tr>\n",
       "      <th>9</th>\n",
       "      <td>SGDClassifier</td>\n",
       "      <td>No Scaling</td>\n",
       "      <td>10</td>\n",
       "      <td>[trustLevel, totalScanTimeInSeconds, lineItemV...</td>\n",
       "      <td>{'learning_rate': 'optimal', 'loss': 'log', 'p...</td>\n",
       "      <td>-0.431080</td>\n",
       "      <td>0.115042</td>\n",
       "      <td>SGDClassifier(alpha=0.0001, average=False, cla...</td>\n",
       "      <td>SelectKBest</td>\n",
       "    </tr>\n",
       "    <tr>\n",
       "      <th>53</th>\n",
       "      <td>SGDClassifier</td>\n",
       "      <td>StandardScaler</td>\n",
       "      <td>14</td>\n",
       "      <td>[trustLevel, totalScanTimeInSeconds, lineItemV...</td>\n",
       "      <td>{'learning_rate': 'optimal', 'loss': 'modified...</td>\n",
       "      <td>-0.436402</td>\n",
       "      <td>0.141531</td>\n",
       "      <td>SGDClassifier(alpha=0.0001, average=False, cla...</td>\n",
       "      <td>SelectKBest</td>\n",
       "    </tr>\n",
       "    <tr>\n",
       "      <th>66</th>\n",
       "      <td>SGDClassifier</td>\n",
       "      <td>LogScaler</td>\n",
       "      <td>7</td>\n",
       "      <td>[trustLevel, totalScanTimeInSeconds, lineItemV...</td>\n",
       "      <td>{'learning_rate': 'optimal', 'loss': 'modified...</td>\n",
       "      <td>-0.436402</td>\n",
       "      <td>0.124224</td>\n",
       "      <td>SGDClassifier(alpha=0.0001, average=False, cla...</td>\n",
       "      <td>SelectKBest</td>\n",
       "    </tr>\n",
       "    <tr>\n",
       "      <th>71</th>\n",
       "      <td>SGDClassifier</td>\n",
       "      <td>LogScaler</td>\n",
       "      <td>12</td>\n",
       "      <td>[trustLevel, totalScanTimeInSeconds, lineItemV...</td>\n",
       "      <td>{'learning_rate': 'optimal', 'loss': 'modified...</td>\n",
       "      <td>-0.436402</td>\n",
       "      <td>0.240094</td>\n",
       "      <td>SGDClassifier(alpha=0.0001, average=False, cla...</td>\n",
       "      <td>SelectKBest</td>\n",
       "    </tr>\n",
       "    <tr>\n",
       "      <th>57</th>\n",
       "      <td>SGDClassifier</td>\n",
       "      <td>StandardScaler</td>\n",
       "      <td>18</td>\n",
       "      <td>[trustLevel, totalScanTimeInSeconds, lineItemV...</td>\n",
       "      <td>{'learning_rate': 'optimal', 'loss': 'log', 'p...</td>\n",
       "      <td>-0.444385</td>\n",
       "      <td>0.138527</td>\n",
       "      <td>SGDClassifier(alpha=0.0001, average=False, cla...</td>\n",
       "      <td>SelectKBest</td>\n",
       "    </tr>\n",
       "    <tr>\n",
       "      <th>12</th>\n",
       "      <td>SGDClassifier</td>\n",
       "      <td>No Scaling</td>\n",
       "      <td>13</td>\n",
       "      <td>[trustLevel, totalScanTimeInSeconds, lineItemV...</td>\n",
       "      <td>{'learning_rate': 'optimal', 'loss': 'perceptr...</td>\n",
       "      <td>-0.449707</td>\n",
       "      <td>0.210473</td>\n",
       "      <td>SGDClassifier(alpha=0.0001, average=False, cla...</td>\n",
       "      <td>SelectKBest</td>\n",
       "    </tr>\n",
       "    <tr>\n",
       "      <th>73</th>\n",
       "      <td>SGDClassifier</td>\n",
       "      <td>LogScaler</td>\n",
       "      <td>14</td>\n",
       "      <td>[trustLevel, totalScanTimeInSeconds, lineItemV...</td>\n",
       "      <td>{'learning_rate': 'optimal', 'loss': 'hinge', ...</td>\n",
       "      <td>-0.449707</td>\n",
       "      <td>0.227600</td>\n",
       "      <td>SGDClassifier(alpha=0.0001, average=False, cla...</td>\n",
       "      <td>SelectKBest</td>\n",
       "    </tr>\n",
       "    <tr>\n",
       "      <th>47</th>\n",
       "      <td>SGDClassifier</td>\n",
       "      <td>StandardScaler</td>\n",
       "      <td>8</td>\n",
       "      <td>[trustLevel, totalScanTimeInSeconds, scansWith...</td>\n",
       "      <td>{'learning_rate': 'optimal', 'loss': 'squared_...</td>\n",
       "      <td>-0.449707</td>\n",
       "      <td>0.152129</td>\n",
       "      <td>SGDClassifier(alpha=0.0001, average=False, cla...</td>\n",
       "      <td>SelectKBest</td>\n",
       "    </tr>\n",
       "    <tr>\n",
       "      <th>32</th>\n",
       "      <td>SGDClassifier</td>\n",
       "      <td>MinMaxScaler</td>\n",
       "      <td>13</td>\n",
       "      <td>[trustLevel, totalScanTimeInSeconds, lineItemV...</td>\n",
       "      <td>{'learning_rate': 'optimal', 'loss': 'perceptr...</td>\n",
       "      <td>-0.449707</td>\n",
       "      <td>0.145858</td>\n",
       "      <td>SGDClassifier(alpha=0.0001, average=False, cla...</td>\n",
       "      <td>SelectKBest</td>\n",
       "    </tr>\n",
       "    <tr>\n",
       "      <th>29</th>\n",
       "      <td>SGDClassifier</td>\n",
       "      <td>MinMaxScaler</td>\n",
       "      <td>10</td>\n",
       "      <td>[trustLevel, totalScanTimeInSeconds, lineItemV...</td>\n",
       "      <td>{'learning_rate': 'optimal', 'loss': 'squared_...</td>\n",
       "      <td>-0.449707</td>\n",
       "      <td>0.129575</td>\n",
       "      <td>SGDClassifier(alpha=0.0001, average=False, cla...</td>\n",
       "      <td>SelectKBest</td>\n",
       "    </tr>\n",
       "    <tr>\n",
       "      <th>50</th>\n",
       "      <td>SGDClassifier</td>\n",
       "      <td>StandardScaler</td>\n",
       "      <td>11</td>\n",
       "      <td>[trustLevel, totalScanTimeInSeconds, lineItemV...</td>\n",
       "      <td>{'learning_rate': 'optimal', 'loss': 'squared_...</td>\n",
       "      <td>-0.449707</td>\n",
       "      <td>0.137611</td>\n",
       "      <td>SGDClassifier(alpha=0.0001, average=False, cla...</td>\n",
       "      <td>SelectKBest</td>\n",
       "    </tr>\n",
       "    <tr>\n",
       "      <th>31</th>\n",
       "      <td>SGDClassifier</td>\n",
       "      <td>MinMaxScaler</td>\n",
       "      <td>12</td>\n",
       "      <td>[trustLevel, totalScanTimeInSeconds, lineItemV...</td>\n",
       "      <td>{'learning_rate': 'optimal', 'loss': 'perceptr...</td>\n",
       "      <td>-0.449707</td>\n",
       "      <td>0.122111</td>\n",
       "      <td>SGDClassifier(alpha=0.0001, average=False, cla...</td>\n",
       "      <td>SelectKBest</td>\n",
       "    </tr>\n",
       "    <tr>\n",
       "      <th>42</th>\n",
       "      <td>SGDClassifier</td>\n",
       "      <td>StandardScaler</td>\n",
       "      <td>3</td>\n",
       "      <td>[trustLevel, totalScanTimeInSeconds, scannedLi...</td>\n",
       "      <td>{'learning_rate': 'optimal', 'loss': 'perceptr...</td>\n",
       "      <td>-0.463012</td>\n",
       "      <td>0.175263</td>\n",
       "      <td>SGDClassifier(alpha=0.0001, average=False, cla...</td>\n",
       "      <td>SelectKBest</td>\n",
       "    </tr>\n",
       "    <tr>\n",
       "      <th>10</th>\n",
       "      <td>SGDClassifier</td>\n",
       "      <td>No Scaling</td>\n",
       "      <td>11</td>\n",
       "      <td>[trustLevel, totalScanTimeInSeconds, lineItemV...</td>\n",
       "      <td>{'learning_rate': 'optimal', 'loss': 'hinge', ...</td>\n",
       "      <td>-0.463012</td>\n",
       "      <td>0.132392</td>\n",
       "      <td>SGDClassifier(alpha=0.0001, average=False, cla...</td>\n",
       "      <td>SelectKBest</td>\n",
       "    </tr>\n",
       "    <tr>\n",
       "      <th>43</th>\n",
       "      <td>SGDClassifier</td>\n",
       "      <td>StandardScaler</td>\n",
       "      <td>4</td>\n",
       "      <td>[trustLevel, totalScanTimeInSeconds, scannedLi...</td>\n",
       "      <td>{'learning_rate': 'optimal', 'loss': 'log', 'p...</td>\n",
       "      <td>-0.476317</td>\n",
       "      <td>0.147359</td>\n",
       "      <td>SGDClassifier(alpha=0.0001, average=False, cla...</td>\n",
       "      <td>SelectKBest</td>\n",
       "    </tr>\n",
       "    <tr>\n",
       "      <th>11</th>\n",
       "      <td>SGDClassifier</td>\n",
       "      <td>No Scaling</td>\n",
       "      <td>12</td>\n",
       "      <td>[trustLevel, totalScanTimeInSeconds, lineItemV...</td>\n",
       "      <td>{'learning_rate': 'optimal', 'loss': 'log', 'p...</td>\n",
       "      <td>-0.476317</td>\n",
       "      <td>0.153478</td>\n",
       "      <td>SGDClassifier(alpha=0.0001, average=False, cla...</td>\n",
       "      <td>SelectKBest</td>\n",
       "    </tr>\n",
       "    <tr>\n",
       "      <th>51</th>\n",
       "      <td>SGDClassifier</td>\n",
       "      <td>StandardScaler</td>\n",
       "      <td>12</td>\n",
       "      <td>[trustLevel, totalScanTimeInSeconds, lineItemV...</td>\n",
       "      <td>{'learning_rate': 'optimal', 'loss': 'modified...</td>\n",
       "      <td>-0.476317</td>\n",
       "      <td>0.221170</td>\n",
       "      <td>SGDClassifier(alpha=0.0001, average=False, cla...</td>\n",
       "      <td>SelectKBest</td>\n",
       "    </tr>\n",
       "    <tr>\n",
       "      <th>77</th>\n",
       "      <td>SGDClassifier</td>\n",
       "      <td>LogScaler</td>\n",
       "      <td>18</td>\n",
       "      <td>[trustLevel, totalScanTimeInSeconds, lineItemV...</td>\n",
       "      <td>{'learning_rate': 'optimal', 'loss': 'squared_...</td>\n",
       "      <td>-0.476317</td>\n",
       "      <td>0.140606</td>\n",
       "      <td>SGDClassifier(alpha=0.0001, average=False, cla...</td>\n",
       "      <td>SelectKBest</td>\n",
       "    </tr>\n",
       "    <tr>\n",
       "      <th>1</th>\n",
       "      <td>SGDClassifier</td>\n",
       "      <td>No Scaling</td>\n",
       "      <td>2</td>\n",
       "      <td>[trustLevel, scannedLineItems]</td>\n",
       "      <td>{'learning_rate': 'optimal', 'loss': 'modified...</td>\n",
       "      <td>-0.478978</td>\n",
       "      <td>0.495682</td>\n",
       "      <td>SGDClassifier(alpha=0.0001, average=False, cla...</td>\n",
       "      <td>SelectKBest</td>\n",
       "    </tr>\n",
       "    <tr>\n",
       "      <th>22</th>\n",
       "      <td>SGDClassifier</td>\n",
       "      <td>MinMaxScaler</td>\n",
       "      <td>3</td>\n",
       "      <td>[trustLevel, totalScanTimeInSeconds, scannedLi...</td>\n",
       "      <td>{'learning_rate': 'optimal', 'loss': 'hinge', ...</td>\n",
       "      <td>-0.489622</td>\n",
       "      <td>0.171531</td>\n",
       "      <td>SGDClassifier(alpha=0.0001, average=False, cla...</td>\n",
       "      <td>SelectKBest</td>\n",
       "    </tr>\n",
       "    <tr>\n",
       "      <th>8</th>\n",
       "      <td>SGDClassifier</td>\n",
       "      <td>No Scaling</td>\n",
       "      <td>9</td>\n",
       "      <td>[trustLevel, totalScanTimeInSeconds, lineItemV...</td>\n",
       "      <td>{'learning_rate': 'optimal', 'loss': 'perceptr...</td>\n",
       "      <td>-0.489622</td>\n",
       "      <td>0.199668</td>\n",
       "      <td>SGDClassifier(alpha=0.0001, average=False, cla...</td>\n",
       "      <td>SelectKBest</td>\n",
       "    </tr>\n",
       "    <tr>\n",
       "      <th>13</th>\n",
       "      <td>SGDClassifier</td>\n",
       "      <td>No Scaling</td>\n",
       "      <td>14</td>\n",
       "      <td>[trustLevel, totalScanTimeInSeconds, lineItemV...</td>\n",
       "      <td>{'learning_rate': 'optimal', 'loss': 'modified...</td>\n",
       "      <td>-0.489622</td>\n",
       "      <td>0.173299</td>\n",
       "      <td>SGDClassifier(alpha=0.0001, average=False, cla...</td>\n",
       "      <td>SelectKBest</td>\n",
       "    </tr>\n",
       "    <tr>\n",
       "      <th>24</th>\n",
       "      <td>SGDClassifier</td>\n",
       "      <td>MinMaxScaler</td>\n",
       "      <td>5</td>\n",
       "      <td>[trustLevel, totalScanTimeInSeconds, scannedLi...</td>\n",
       "      <td>{'learning_rate': 'optimal', 'loss': 'perceptr...</td>\n",
       "      <td>-0.489622</td>\n",
       "      <td>0.190677</td>\n",
       "      <td>SGDClassifier(alpha=0.0001, average=False, cla...</td>\n",
       "      <td>SelectKBest</td>\n",
       "    </tr>\n",
       "    <tr>\n",
       "      <th>25</th>\n",
       "      <td>SGDClassifier</td>\n",
       "      <td>MinMaxScaler</td>\n",
       "      <td>6</td>\n",
       "      <td>[trustLevel, totalScanTimeInSeconds, scannedLi...</td>\n",
       "      <td>{'learning_rate': 'optimal', 'loss': 'log', 'p...</td>\n",
       "      <td>-0.489622</td>\n",
       "      <td>0.193925</td>\n",
       "      <td>SGDClassifier(alpha=0.0001, average=False, cla...</td>\n",
       "      <td>SelectKBest</td>\n",
       "    </tr>\n",
       "    <tr>\n",
       "      <th>46</th>\n",
       "      <td>SGDClassifier</td>\n",
       "      <td>StandardScaler</td>\n",
       "      <td>7</td>\n",
       "      <td>[trustLevel, totalScanTimeInSeconds, lineItemV...</td>\n",
       "      <td>{'learning_rate': 'optimal', 'loss': 'modified...</td>\n",
       "      <td>-0.489622</td>\n",
       "      <td>0.207377</td>\n",
       "      <td>SGDClassifier(alpha=0.0001, average=False, cla...</td>\n",
       "      <td>SelectKBest</td>\n",
       "    </tr>\n",
       "    <tr>\n",
       "      <th>52</th>\n",
       "      <td>SGDClassifier</td>\n",
       "      <td>StandardScaler</td>\n",
       "      <td>13</td>\n",
       "      <td>[trustLevel, totalScanTimeInSeconds, lineItemV...</td>\n",
       "      <td>{'learning_rate': 'optimal', 'loss': 'perceptr...</td>\n",
       "      <td>-0.497605</td>\n",
       "      <td>0.244126</td>\n",
       "      <td>SGDClassifier(alpha=0.0001, average=False, cla...</td>\n",
       "      <td>SelectKBest</td>\n",
       "    </tr>\n",
       "    <tr>\n",
       "      <th>35</th>\n",
       "      <td>SGDClassifier</td>\n",
       "      <td>MinMaxScaler</td>\n",
       "      <td>16</td>\n",
       "      <td>[trustLevel, totalScanTimeInSeconds, lineItemV...</td>\n",
       "      <td>{'learning_rate': 'optimal', 'loss': 'perceptr...</td>\n",
       "      <td>-0.502927</td>\n",
       "      <td>0.266339</td>\n",
       "      <td>SGDClassifier(alpha=0.0001, average=False, cla...</td>\n",
       "      <td>SelectKBest</td>\n",
       "    </tr>\n",
       "    <tr>\n",
       "      <th>14</th>\n",
       "      <td>SGDClassifier</td>\n",
       "      <td>No Scaling</td>\n",
       "      <td>15</td>\n",
       "      <td>[trustLevel, totalScanTimeInSeconds, lineItemV...</td>\n",
       "      <td>{'learning_rate': 'optimal', 'loss': 'squared_...</td>\n",
       "      <td>-0.510910</td>\n",
       "      <td>0.227709</td>\n",
       "      <td>SGDClassifier(alpha=0.0001, average=False, cla...</td>\n",
       "      <td>SelectKBest</td>\n",
       "    </tr>\n",
       "    <tr>\n",
       "      <th>2</th>\n",
       "      <td>SGDClassifier</td>\n",
       "      <td>No Scaling</td>\n",
       "      <td>3</td>\n",
       "      <td>[trustLevel, totalScanTimeInSeconds, scannedLi...</td>\n",
       "      <td>{'learning_rate': 'optimal', 'loss': 'log', 'p...</td>\n",
       "      <td>-0.529537</td>\n",
       "      <td>0.170005</td>\n",
       "      <td>SGDClassifier(alpha=0.0001, average=False, cla...</td>\n",
       "      <td>SelectKBest</td>\n",
       "    </tr>\n",
       "    <tr>\n",
       "      <th>5</th>\n",
       "      <td>SGDClassifier</td>\n",
       "      <td>No Scaling</td>\n",
       "      <td>6</td>\n",
       "      <td>[trustLevel, totalScanTimeInSeconds, scannedLi...</td>\n",
       "      <td>{'learning_rate': 'optimal', 'loss': 'hinge', ...</td>\n",
       "      <td>-0.529537</td>\n",
       "      <td>0.186790</td>\n",
       "      <td>SGDClassifier(alpha=0.0001, average=False, cla...</td>\n",
       "      <td>SelectKBest</td>\n",
       "    </tr>\n",
       "    <tr>\n",
       "      <th>33</th>\n",
       "      <td>SGDClassifier</td>\n",
       "      <td>MinMaxScaler</td>\n",
       "      <td>14</td>\n",
       "      <td>[trustLevel, totalScanTimeInSeconds, lineItemV...</td>\n",
       "      <td>{'learning_rate': 'optimal', 'loss': 'modified...</td>\n",
       "      <td>-0.532198</td>\n",
       "      <td>0.304444</td>\n",
       "      <td>SGDClassifier(alpha=0.0001, average=False, cla...</td>\n",
       "      <td>SelectKBest</td>\n",
       "    </tr>\n",
       "    <tr>\n",
       "      <th>23</th>\n",
       "      <td>SGDClassifier</td>\n",
       "      <td>MinMaxScaler</td>\n",
       "      <td>4</td>\n",
       "      <td>[trustLevel, totalScanTimeInSeconds, scannedLi...</td>\n",
       "      <td>{'learning_rate': 'optimal', 'loss': 'log', 'p...</td>\n",
       "      <td>-0.542842</td>\n",
       "      <td>0.337733</td>\n",
       "      <td>SGDClassifier(alpha=0.0001, average=False, cla...</td>\n",
       "      <td>SelectKBest</td>\n",
       "    </tr>\n",
       "    <tr>\n",
       "      <th>49</th>\n",
       "      <td>SGDClassifier</td>\n",
       "      <td>StandardScaler</td>\n",
       "      <td>10</td>\n",
       "      <td>[trustLevel, totalScanTimeInSeconds, lineItemV...</td>\n",
       "      <td>{'learning_rate': 'optimal', 'loss': 'log', 'p...</td>\n",
       "      <td>-0.542842</td>\n",
       "      <td>0.205470</td>\n",
       "      <td>SGDClassifier(alpha=0.0001, average=False, cla...</td>\n",
       "      <td>SelectKBest</td>\n",
       "    </tr>\n",
       "    <tr>\n",
       "      <th>70</th>\n",
       "      <td>SGDClassifier</td>\n",
       "      <td>LogScaler</td>\n",
       "      <td>11</td>\n",
       "      <td>[trustLevel, totalScanTimeInSeconds, lineItemV...</td>\n",
       "      <td>{'learning_rate': 'optimal', 'loss': 'squared_...</td>\n",
       "      <td>-0.542842</td>\n",
       "      <td>0.371963</td>\n",
       "      <td>SGDClassifier(alpha=0.0001, average=False, cla...</td>\n",
       "      <td>SelectKBest</td>\n",
       "    </tr>\n",
       "    <tr>\n",
       "      <th>34</th>\n",
       "      <td>SGDClassifier</td>\n",
       "      <td>MinMaxScaler</td>\n",
       "      <td>15</td>\n",
       "      <td>[trustLevel, totalScanTimeInSeconds, lineItemV...</td>\n",
       "      <td>{'learning_rate': 'optimal', 'loss': 'hinge', ...</td>\n",
       "      <td>-0.556147</td>\n",
       "      <td>0.199833</td>\n",
       "      <td>SGDClassifier(alpha=0.0001, average=False, cla...</td>\n",
       "      <td>SelectKBest</td>\n",
       "    </tr>\n",
       "    <tr>\n",
       "      <th>56</th>\n",
       "      <td>SGDClassifier</td>\n",
       "      <td>StandardScaler</td>\n",
       "      <td>17</td>\n",
       "      <td>[trustLevel, totalScanTimeInSeconds, lineItemV...</td>\n",
       "      <td>{'learning_rate': 'optimal', 'loss': 'log', 'p...</td>\n",
       "      <td>-0.564130</td>\n",
       "      <td>0.340952</td>\n",
       "      <td>SGDClassifier(alpha=0.0001, average=False, cla...</td>\n",
       "      <td>SelectKBest</td>\n",
       "    </tr>\n",
       "    <tr>\n",
       "      <th>75</th>\n",
       "      <td>SGDClassifier</td>\n",
       "      <td>LogScaler</td>\n",
       "      <td>16</td>\n",
       "      <td>[trustLevel, totalScanTimeInSeconds, lineItemV...</td>\n",
       "      <td>{'learning_rate': 'optimal', 'loss': 'modified...</td>\n",
       "      <td>-0.564130</td>\n",
       "      <td>0.380838</td>\n",
       "      <td>SGDClassifier(alpha=0.0001, average=False, cla...</td>\n",
       "      <td>SelectKBest</td>\n",
       "    </tr>\n",
       "    <tr>\n",
       "      <th>36</th>\n",
       "      <td>SGDClassifier</td>\n",
       "      <td>MinMaxScaler</td>\n",
       "      <td>17</td>\n",
       "      <td>[trustLevel, totalScanTimeInSeconds, lineItemV...</td>\n",
       "      <td>{'learning_rate': 'optimal', 'loss': 'hinge', ...</td>\n",
       "      <td>-0.569452</td>\n",
       "      <td>0.398478</td>\n",
       "      <td>SGDClassifier(alpha=0.0001, average=False, cla...</td>\n",
       "      <td>SelectKBest</td>\n",
       "    </tr>\n",
       "    <tr>\n",
       "      <th>7</th>\n",
       "      <td>SGDClassifier</td>\n",
       "      <td>No Scaling</td>\n",
       "      <td>8</td>\n",
       "      <td>[trustLevel, totalScanTimeInSeconds, scansWith...</td>\n",
       "      <td>{'learning_rate': 'optimal', 'loss': 'perceptr...</td>\n",
       "      <td>-0.577435</td>\n",
       "      <td>0.195318</td>\n",
       "      <td>SGDClassifier(alpha=0.0001, average=False, cla...</td>\n",
       "      <td>SelectKBest</td>\n",
       "    </tr>\n",
       "    <tr>\n",
       "      <th>69</th>\n",
       "      <td>SGDClassifier</td>\n",
       "      <td>LogScaler</td>\n",
       "      <td>10</td>\n",
       "      <td>[trustLevel, totalScanTimeInSeconds, scansWith...</td>\n",
       "      <td>{'learning_rate': 'optimal', 'loss': 'perceptr...</td>\n",
       "      <td>-0.617350</td>\n",
       "      <td>0.349988</td>\n",
       "      <td>SGDClassifier(alpha=0.0001, average=False, cla...</td>\n",
       "      <td>SelectKBest</td>\n",
       "    </tr>\n",
       "    <tr>\n",
       "      <th>68</th>\n",
       "      <td>SGDClassifier</td>\n",
       "      <td>LogScaler</td>\n",
       "      <td>9</td>\n",
       "      <td>[trustLevel, totalScanTimeInSeconds, valuePerS...</td>\n",
       "      <td>{'learning_rate': 'optimal', 'loss': 'perceptr...</td>\n",
       "      <td>-0.625333</td>\n",
       "      <td>0.412676</td>\n",
       "      <td>SGDClassifier(alpha=0.0001, average=False, cla...</td>\n",
       "      <td>SelectKBest</td>\n",
       "    </tr>\n",
       "    <tr>\n",
       "      <th>4</th>\n",
       "      <td>SGDClassifier</td>\n",
       "      <td>No Scaling</td>\n",
       "      <td>5</td>\n",
       "      <td>[trustLevel, totalScanTimeInSeconds, scannedLi...</td>\n",
       "      <td>{'learning_rate': 'optimal', 'loss': 'modified...</td>\n",
       "      <td>-0.723789</td>\n",
       "      <td>0.468372</td>\n",
       "      <td>SGDClassifier(alpha=0.0001, average=False, cla...</td>\n",
       "      <td>SelectKBest</td>\n",
       "    </tr>\n",
       "  </tbody>\n",
       "</table>\n",
       "</div>"
      ],
      "text/plain": [
       "            Model Data Preparation Feature Count                                           Features                                 Optimal Parameters  Monetary Value Per Instance - Mean  Monetary Value Per Instance - Standard Deviation                                          Raw Model Feature Selection Technique\n",
       "63  SGDClassifier        LogScaler             4  [trustLevel, scannedLineItems, pricePerScanned...  {'learning_rate': 'optimal', 'loss': 'perceptr...                           -0.204896                                          0.166213  SGDClassifier(alpha=0.0001, average=False, cla...                 SelectKBest\n",
       "41  SGDClassifier   StandardScaler             2                     [trustLevel, scannedLineItems]  {'learning_rate': 'optimal', 'loss': 'squared_...                           -0.239489                                          0.158602  SGDClassifier(alpha=0.0001, average=False, cla...                 SelectKBest\n",
       "0   SGDClassifier       No Scaling             1                                       [trustLevel]  {'learning_rate': 'optimal', 'loss': 'huber', ...                           -0.276743                                          0.011709  SGDClassifier(alpha=0.0001, average=False, cla...                 SelectKBest\n",
       "20  SGDClassifier     MinMaxScaler             1                                       [trustLevel]  {'learning_rate': 'optimal', 'loss': 'huber', ...                           -0.276743                                          0.011709  SGDClassifier(alpha=0.0001, average=False, cla...                 SelectKBest\n",
       "60  SGDClassifier        LogScaler             1                                       [trustLevel]  {'learning_rate': 'optimal', 'loss': 'huber', ...                           -0.276743                                          0.011709  SGDClassifier(alpha=0.0001, average=False, cla...                 SelectKBest\n",
       "40  SGDClassifier   StandardScaler             1                                       [trustLevel]  {'learning_rate': 'optimal', 'loss': 'log', 'p...                           -0.276743                                          0.011709  SGDClassifier(alpha=0.0001, average=False, cla...                 SelectKBest\n",
       "19  SGDClassifier       No Scaling            20  [trustLevel, totalScanTimeInSeconds, grandTota...  {'learning_rate': 'optimal', 'loss': 'perceptr...                           -0.284726                                          0.050961  SGDClassifier(alpha=0.0001, average=False, cla...                 SelectKBest\n",
       "59  SGDClassifier   StandardScaler            20  [trustLevel, totalScanTimeInSeconds, grandTota...  {'learning_rate': 'optimal', 'loss': 'hinge', ...                           -0.290048                                          0.038596  SGDClassifier(alpha=0.0001, average=False, cla...                 SelectKBest\n",
       "64  SGDClassifier        LogScaler             5  [trustLevel, lineItemVoidsPerPosition, scanned...  {'learning_rate': 'optimal', 'loss': 'modified...                           -0.292709                                          0.204675  SGDClassifier(alpha=0.0001, average=False, cla...                 SelectKBest\n",
       "79  SGDClassifier        LogScaler            20  [trustLevel, totalScanTimeInSeconds, grandTota...  {'learning_rate': 'optimal', 'loss': 'log', 'p...                           -0.303353                                          0.049882  SGDClassifier(alpha=0.0001, average=False, cla...                 SelectKBest\n",
       "65  SGDClassifier        LogScaler             6  [trustLevel, lineItemVoidsPerPosition, scanned...  {'learning_rate': 'optimal', 'loss': 'perceptr...                           -0.306014                                          0.261752  SGDClassifier(alpha=0.0001, average=False, cla...                 SelectKBest\n",
       "18  SGDClassifier       No Scaling            19  [trustLevel, totalScanTimeInSeconds, grandTota...  {'learning_rate': 'optimal', 'loss': 'log', 'p...                           -0.311336                                          0.053043  SGDClassifier(alpha=0.0001, average=False, cla...                 SelectKBest\n",
       "78  SGDClassifier        LogScaler            19  [trustLevel, totalScanTimeInSeconds, grandTota...  {'learning_rate': 'optimal', 'loss': 'perceptr...                           -0.316658                                          0.060788  SGDClassifier(alpha=0.0001, average=False, cla...                 SelectKBest\n",
       "39  SGDClassifier     MinMaxScaler            20  [trustLevel, totalScanTimeInSeconds, grandTota...  {'learning_rate': 'optimal', 'loss': 'hinge', ...                           -0.316658                                          0.060788  SGDClassifier(alpha=0.0001, average=False, cla...                 SelectKBest\n",
       "61  SGDClassifier        LogScaler             2                     [trustLevel, scannedLineItems]  {'learning_rate': 'optimal', 'loss': 'log', 'p...                           -0.319319                                          0.243383  SGDClassifier(alpha=0.0001, average=False, cla...                 SelectKBest\n",
       "21  SGDClassifier     MinMaxScaler             2                     [trustLevel, scannedLineItems]  {'learning_rate': 'optimal', 'loss': 'perceptr...                           -0.324641                                          0.320118  SGDClassifier(alpha=0.0001, average=False, cla...                 SelectKBest\n",
       "62  SGDClassifier        LogScaler             3  [trustLevel, scannedLineItems, pricePerScanned...  {'learning_rate': 'optimal', 'loss': 'modified...                           -0.337946                                          0.320907  SGDClassifier(alpha=0.0001, average=False, cla...                 SelectKBest\n",
       "38  SGDClassifier     MinMaxScaler            19  [trustLevel, totalScanTimeInSeconds, grandTota...  {'learning_rate': 'optimal', 'loss': 'modified...                           -0.359234                                          0.173683  SGDClassifier(alpha=0.0001, average=False, cla...                 SelectKBest\n",
       "58  SGDClassifier   StandardScaler            19  [trustLevel, totalScanTimeInSeconds, grandTota...  {'learning_rate': 'optimal', 'loss': 'perceptr...                           -0.369878                                          0.115494  SGDClassifier(alpha=0.0001, average=False, cla...                 SelectKBest\n",
       "37  SGDClassifier     MinMaxScaler            18  [trustLevel, totalScanTimeInSeconds, lineItemV...  {'learning_rate': 'optimal', 'loss': 'log', 'p...                           -0.369878                                          0.123163  SGDClassifier(alpha=0.0001, average=False, cla...                 SelectKBest\n",
       "44  SGDClassifier   StandardScaler             5  [trustLevel, totalScanTimeInSeconds, scannedLi...  {'learning_rate': 'optimal', 'loss': 'log', 'p...                           -0.383183                                          0.083404  SGDClassifier(alpha=0.0001, average=False, cla...                 SelectKBest\n",
       "54  SGDClassifier   StandardScaler            15  [trustLevel, totalScanTimeInSeconds, lineItemV...  {'learning_rate': 'optimal', 'loss': 'log', 'p...                           -0.383183                                          0.112862  SGDClassifier(alpha=0.0001, average=False, cla...                 SelectKBest\n",
       "26  SGDClassifier     MinMaxScaler             7  [trustLevel, totalScanTimeInSeconds, lineItemV...  {'learning_rate': 'optimal', 'loss': 'modified...                           -0.383183                                          0.096601  SGDClassifier(alpha=0.0001, average=False, cla...                 SelectKBest\n",
       "72  SGDClassifier        LogScaler            13  [trustLevel, totalScanTimeInSeconds, lineItemV...  {'learning_rate': 'optimal', 'loss': 'squared_...                           -0.383183                                          0.071864  SGDClassifier(alpha=0.0001, average=False, cla...                 SelectKBest\n",
       "30  SGDClassifier     MinMaxScaler            11  [trustLevel, totalScanTimeInSeconds, lineItemV...  {'learning_rate': 'optimal', 'loss': 'hinge', ...                           -0.396487                                          0.065532  SGDClassifier(alpha=0.0001, average=False, cla...                 SelectKBest\n",
       "67  SGDClassifier        LogScaler             8  [trustLevel, totalScanTimeInSeconds, lineItemV...  {'learning_rate': 'optimal', 'loss': 'squared_...                           -0.396487                                          0.129202  SGDClassifier(alpha=0.0001, average=False, cla...                 SelectKBest\n",
       "55  SGDClassifier   StandardScaler            16  [trustLevel, totalScanTimeInSeconds, lineItemV...  {'learning_rate': 'optimal', 'loss': 'log', 'p...                           -0.409792                                          0.131568  SGDClassifier(alpha=0.0001, average=False, cla...                 SelectKBest\n",
       "76  SGDClassifier        LogScaler            17  [trustLevel, totalScanTimeInSeconds, lineItemV...  {'learning_rate': 'optimal', 'loss': 'perceptr...                           -0.409792                                          0.135708  SGDClassifier(alpha=0.0001, average=False, cla...                 SelectKBest\n",
       "16  SGDClassifier       No Scaling            17  [trustLevel, totalScanTimeInSeconds, lineItemV...  {'learning_rate': 'optimal', 'loss': 'squared_...                           -0.409792                                          0.097662  SGDClassifier(alpha=0.0001, average=False, cla...                 SelectKBest\n",
       "74  SGDClassifier        LogScaler            15  [trustLevel, totalScanTimeInSeconds, lineItemV...  {'learning_rate': 'optimal', 'loss': 'perceptr...                           -0.417775                                          0.144341  SGDClassifier(alpha=0.0001, average=False, cla...                 SelectKBest\n",
       "17  SGDClassifier       No Scaling            18  [trustLevel, totalScanTimeInSeconds, lineItemV...  {'learning_rate': 'optimal', 'loss': 'modified...                           -0.423097                                          0.161914  SGDClassifier(alpha=0.0001, average=False, cla...                 SelectKBest\n",
       "27  SGDClassifier     MinMaxScaler             8  [trustLevel, totalScanTimeInSeconds, scansWith...  {'learning_rate': 'optimal', 'loss': 'modified...                           -0.423097                                          0.156216  SGDClassifier(alpha=0.0001, average=False, cla...                 SelectKBest\n",
       "28  SGDClassifier     MinMaxScaler             9  [trustLevel, totalScanTimeInSeconds, lineItemV...  {'learning_rate': 'optimal', 'loss': 'log', 'p...                           -0.423097                                          0.119797  SGDClassifier(alpha=0.0001, average=False, cla...                 SelectKBest\n",
       "48  SGDClassifier   StandardScaler             9  [trustLevel, totalScanTimeInSeconds, lineItemV...  {'learning_rate': 'optimal', 'loss': 'squared_...                           -0.423097                                          0.103893  SGDClassifier(alpha=0.0001, average=False, cla...                 SelectKBest\n",
       "45  SGDClassifier   StandardScaler             6  [trustLevel, totalScanTimeInSeconds, scannedLi...  {'learning_rate': 'optimal', 'loss': 'squared_...                           -0.423097                                          0.070797  SGDClassifier(alpha=0.0001, average=False, cla...                 SelectKBest\n",
       "15  SGDClassifier       No Scaling            16  [trustLevel, totalScanTimeInSeconds, lineItemV...  {'learning_rate': 'optimal', 'loss': 'perceptr...                           -0.423097                                          0.092828  SGDClassifier(alpha=0.0001, average=False, cla...                 SelectKBest\n",
       "3   SGDClassifier       No Scaling             4  [trustLevel, totalScanTimeInSeconds, scannedLi...  {'learning_rate': 'optimal', 'loss': 'squared_...                           -0.431080                                          0.139557  SGDClassifier(alpha=0.0001, average=False, cla...                 SelectKBest\n",
       "6   SGDClassifier       No Scaling             7  [trustLevel, totalScanTimeInSeconds, lineItemV...  {'learning_rate': 'optimal', 'loss': 'hinge', ...                           -0.431080                                          0.141592  SGDClassifier(alpha=0.0001, average=False, cla...                 SelectKBest\n",
       "9   SGDClassifier       No Scaling            10  [trustLevel, totalScanTimeInSeconds, lineItemV...  {'learning_rate': 'optimal', 'loss': 'log', 'p...                           -0.431080                                          0.115042  SGDClassifier(alpha=0.0001, average=False, cla...                 SelectKBest\n",
       "53  SGDClassifier   StandardScaler            14  [trustLevel, totalScanTimeInSeconds, lineItemV...  {'learning_rate': 'optimal', 'loss': 'modified...                           -0.436402                                          0.141531  SGDClassifier(alpha=0.0001, average=False, cla...                 SelectKBest\n",
       "66  SGDClassifier        LogScaler             7  [trustLevel, totalScanTimeInSeconds, lineItemV...  {'learning_rate': 'optimal', 'loss': 'modified...                           -0.436402                                          0.124224  SGDClassifier(alpha=0.0001, average=False, cla...                 SelectKBest\n",
       "71  SGDClassifier        LogScaler            12  [trustLevel, totalScanTimeInSeconds, lineItemV...  {'learning_rate': 'optimal', 'loss': 'modified...                           -0.436402                                          0.240094  SGDClassifier(alpha=0.0001, average=False, cla...                 SelectKBest\n",
       "57  SGDClassifier   StandardScaler            18  [trustLevel, totalScanTimeInSeconds, lineItemV...  {'learning_rate': 'optimal', 'loss': 'log', 'p...                           -0.444385                                          0.138527  SGDClassifier(alpha=0.0001, average=False, cla...                 SelectKBest\n",
       "12  SGDClassifier       No Scaling            13  [trustLevel, totalScanTimeInSeconds, lineItemV...  {'learning_rate': 'optimal', 'loss': 'perceptr...                           -0.449707                                          0.210473  SGDClassifier(alpha=0.0001, average=False, cla...                 SelectKBest\n",
       "73  SGDClassifier        LogScaler            14  [trustLevel, totalScanTimeInSeconds, lineItemV...  {'learning_rate': 'optimal', 'loss': 'hinge', ...                           -0.449707                                          0.227600  SGDClassifier(alpha=0.0001, average=False, cla...                 SelectKBest\n",
       "47  SGDClassifier   StandardScaler             8  [trustLevel, totalScanTimeInSeconds, scansWith...  {'learning_rate': 'optimal', 'loss': 'squared_...                           -0.449707                                          0.152129  SGDClassifier(alpha=0.0001, average=False, cla...                 SelectKBest\n",
       "32  SGDClassifier     MinMaxScaler            13  [trustLevel, totalScanTimeInSeconds, lineItemV...  {'learning_rate': 'optimal', 'loss': 'perceptr...                           -0.449707                                          0.145858  SGDClassifier(alpha=0.0001, average=False, cla...                 SelectKBest\n",
       "29  SGDClassifier     MinMaxScaler            10  [trustLevel, totalScanTimeInSeconds, lineItemV...  {'learning_rate': 'optimal', 'loss': 'squared_...                           -0.449707                                          0.129575  SGDClassifier(alpha=0.0001, average=False, cla...                 SelectKBest\n",
       "50  SGDClassifier   StandardScaler            11  [trustLevel, totalScanTimeInSeconds, lineItemV...  {'learning_rate': 'optimal', 'loss': 'squared_...                           -0.449707                                          0.137611  SGDClassifier(alpha=0.0001, average=False, cla...                 SelectKBest\n",
       "31  SGDClassifier     MinMaxScaler            12  [trustLevel, totalScanTimeInSeconds, lineItemV...  {'learning_rate': 'optimal', 'loss': 'perceptr...                           -0.449707                                          0.122111  SGDClassifier(alpha=0.0001, average=False, cla...                 SelectKBest\n",
       "42  SGDClassifier   StandardScaler             3  [trustLevel, totalScanTimeInSeconds, scannedLi...  {'learning_rate': 'optimal', 'loss': 'perceptr...                           -0.463012                                          0.175263  SGDClassifier(alpha=0.0001, average=False, cla...                 SelectKBest\n",
       "10  SGDClassifier       No Scaling            11  [trustLevel, totalScanTimeInSeconds, lineItemV...  {'learning_rate': 'optimal', 'loss': 'hinge', ...                           -0.463012                                          0.132392  SGDClassifier(alpha=0.0001, average=False, cla...                 SelectKBest\n",
       "43  SGDClassifier   StandardScaler             4  [trustLevel, totalScanTimeInSeconds, scannedLi...  {'learning_rate': 'optimal', 'loss': 'log', 'p...                           -0.476317                                          0.147359  SGDClassifier(alpha=0.0001, average=False, cla...                 SelectKBest\n",
       "11  SGDClassifier       No Scaling            12  [trustLevel, totalScanTimeInSeconds, lineItemV...  {'learning_rate': 'optimal', 'loss': 'log', 'p...                           -0.476317                                          0.153478  SGDClassifier(alpha=0.0001, average=False, cla...                 SelectKBest\n",
       "51  SGDClassifier   StandardScaler            12  [trustLevel, totalScanTimeInSeconds, lineItemV...  {'learning_rate': 'optimal', 'loss': 'modified...                           -0.476317                                          0.221170  SGDClassifier(alpha=0.0001, average=False, cla...                 SelectKBest\n",
       "77  SGDClassifier        LogScaler            18  [trustLevel, totalScanTimeInSeconds, lineItemV...  {'learning_rate': 'optimal', 'loss': 'squared_...                           -0.476317                                          0.140606  SGDClassifier(alpha=0.0001, average=False, cla...                 SelectKBest\n",
       "1   SGDClassifier       No Scaling             2                     [trustLevel, scannedLineItems]  {'learning_rate': 'optimal', 'loss': 'modified...                           -0.478978                                          0.495682  SGDClassifier(alpha=0.0001, average=False, cla...                 SelectKBest\n",
       "22  SGDClassifier     MinMaxScaler             3  [trustLevel, totalScanTimeInSeconds, scannedLi...  {'learning_rate': 'optimal', 'loss': 'hinge', ...                           -0.489622                                          0.171531  SGDClassifier(alpha=0.0001, average=False, cla...                 SelectKBest\n",
       "8   SGDClassifier       No Scaling             9  [trustLevel, totalScanTimeInSeconds, lineItemV...  {'learning_rate': 'optimal', 'loss': 'perceptr...                           -0.489622                                          0.199668  SGDClassifier(alpha=0.0001, average=False, cla...                 SelectKBest\n",
       "13  SGDClassifier       No Scaling            14  [trustLevel, totalScanTimeInSeconds, lineItemV...  {'learning_rate': 'optimal', 'loss': 'modified...                           -0.489622                                          0.173299  SGDClassifier(alpha=0.0001, average=False, cla...                 SelectKBest\n",
       "24  SGDClassifier     MinMaxScaler             5  [trustLevel, totalScanTimeInSeconds, scannedLi...  {'learning_rate': 'optimal', 'loss': 'perceptr...                           -0.489622                                          0.190677  SGDClassifier(alpha=0.0001, average=False, cla...                 SelectKBest\n",
       "25  SGDClassifier     MinMaxScaler             6  [trustLevel, totalScanTimeInSeconds, scannedLi...  {'learning_rate': 'optimal', 'loss': 'log', 'p...                           -0.489622                                          0.193925  SGDClassifier(alpha=0.0001, average=False, cla...                 SelectKBest\n",
       "46  SGDClassifier   StandardScaler             7  [trustLevel, totalScanTimeInSeconds, lineItemV...  {'learning_rate': 'optimal', 'loss': 'modified...                           -0.489622                                          0.207377  SGDClassifier(alpha=0.0001, average=False, cla...                 SelectKBest\n",
       "52  SGDClassifier   StandardScaler            13  [trustLevel, totalScanTimeInSeconds, lineItemV...  {'learning_rate': 'optimal', 'loss': 'perceptr...                           -0.497605                                          0.244126  SGDClassifier(alpha=0.0001, average=False, cla...                 SelectKBest\n",
       "35  SGDClassifier     MinMaxScaler            16  [trustLevel, totalScanTimeInSeconds, lineItemV...  {'learning_rate': 'optimal', 'loss': 'perceptr...                           -0.502927                                          0.266339  SGDClassifier(alpha=0.0001, average=False, cla...                 SelectKBest\n",
       "14  SGDClassifier       No Scaling            15  [trustLevel, totalScanTimeInSeconds, lineItemV...  {'learning_rate': 'optimal', 'loss': 'squared_...                           -0.510910                                          0.227709  SGDClassifier(alpha=0.0001, average=False, cla...                 SelectKBest\n",
       "2   SGDClassifier       No Scaling             3  [trustLevel, totalScanTimeInSeconds, scannedLi...  {'learning_rate': 'optimal', 'loss': 'log', 'p...                           -0.529537                                          0.170005  SGDClassifier(alpha=0.0001, average=False, cla...                 SelectKBest\n",
       "5   SGDClassifier       No Scaling             6  [trustLevel, totalScanTimeInSeconds, scannedLi...  {'learning_rate': 'optimal', 'loss': 'hinge', ...                           -0.529537                                          0.186790  SGDClassifier(alpha=0.0001, average=False, cla...                 SelectKBest\n",
       "33  SGDClassifier     MinMaxScaler            14  [trustLevel, totalScanTimeInSeconds, lineItemV...  {'learning_rate': 'optimal', 'loss': 'modified...                           -0.532198                                          0.304444  SGDClassifier(alpha=0.0001, average=False, cla...                 SelectKBest\n",
       "23  SGDClassifier     MinMaxScaler             4  [trustLevel, totalScanTimeInSeconds, scannedLi...  {'learning_rate': 'optimal', 'loss': 'log', 'p...                           -0.542842                                          0.337733  SGDClassifier(alpha=0.0001, average=False, cla...                 SelectKBest\n",
       "49  SGDClassifier   StandardScaler            10  [trustLevel, totalScanTimeInSeconds, lineItemV...  {'learning_rate': 'optimal', 'loss': 'log', 'p...                           -0.542842                                          0.205470  SGDClassifier(alpha=0.0001, average=False, cla...                 SelectKBest\n",
       "70  SGDClassifier        LogScaler            11  [trustLevel, totalScanTimeInSeconds, lineItemV...  {'learning_rate': 'optimal', 'loss': 'squared_...                           -0.542842                                          0.371963  SGDClassifier(alpha=0.0001, average=False, cla...                 SelectKBest\n",
       "34  SGDClassifier     MinMaxScaler            15  [trustLevel, totalScanTimeInSeconds, lineItemV...  {'learning_rate': 'optimal', 'loss': 'hinge', ...                           -0.556147                                          0.199833  SGDClassifier(alpha=0.0001, average=False, cla...                 SelectKBest\n",
       "56  SGDClassifier   StandardScaler            17  [trustLevel, totalScanTimeInSeconds, lineItemV...  {'learning_rate': 'optimal', 'loss': 'log', 'p...                           -0.564130                                          0.340952  SGDClassifier(alpha=0.0001, average=False, cla...                 SelectKBest\n",
       "75  SGDClassifier        LogScaler            16  [trustLevel, totalScanTimeInSeconds, lineItemV...  {'learning_rate': 'optimal', 'loss': 'modified...                           -0.564130                                          0.380838  SGDClassifier(alpha=0.0001, average=False, cla...                 SelectKBest\n",
       "36  SGDClassifier     MinMaxScaler            17  [trustLevel, totalScanTimeInSeconds, lineItemV...  {'learning_rate': 'optimal', 'loss': 'hinge', ...                           -0.569452                                          0.398478  SGDClassifier(alpha=0.0001, average=False, cla...                 SelectKBest\n",
       "7   SGDClassifier       No Scaling             8  [trustLevel, totalScanTimeInSeconds, scansWith...  {'learning_rate': 'optimal', 'loss': 'perceptr...                           -0.577435                                          0.195318  SGDClassifier(alpha=0.0001, average=False, cla...                 SelectKBest\n",
       "69  SGDClassifier        LogScaler            10  [trustLevel, totalScanTimeInSeconds, scansWith...  {'learning_rate': 'optimal', 'loss': 'perceptr...                           -0.617350                                          0.349988  SGDClassifier(alpha=0.0001, average=False, cla...                 SelectKBest\n",
       "68  SGDClassifier        LogScaler             9  [trustLevel, totalScanTimeInSeconds, valuePerS...  {'learning_rate': 'optimal', 'loss': 'perceptr...                           -0.625333                                          0.412676  SGDClassifier(alpha=0.0001, average=False, cla...                 SelectKBest\n",
       "4   SGDClassifier       No Scaling             5  [trustLevel, totalScanTimeInSeconds, scannedLi...  {'learning_rate': 'optimal', 'loss': 'modified...                           -0.723789                                          0.468372  SGDClassifier(alpha=0.0001, average=False, cla...                 SelectKBest"
      ]
     },
     "execution_count": 26,
     "metadata": {},
     "output_type": "execute_result"
    }
   ],
   "source": [
    "result_table.sort_values(by = \"Monetary Value Per Instance - Mean\", ascending = False)"
   ]
  },
  {
   "cell_type": "code",
   "execution_count": 27,
   "metadata": {
    "scrolled": true
   },
   "outputs": [],
   "source": [
    "#result_table.to_pickle(\"result_table_SGDClassifier.pkl\")\n",
    "result_table = pd.read_pickle(\"result_table_SGDClassifier.pkl\")"
   ]
  },
  {
   "cell_type": "code",
   "execution_count": 28,
   "metadata": {},
   "outputs": [
    {
     "data": {
      "text/plain": [
       "Text(0, 0.5, 'Monetary Value Per Instance - Mean')"
      ]
     },
     "execution_count": 28,
     "metadata": {},
     "output_type": "execute_result"
    },
    {
     "data": {
      "image/png": "[encoded data removed]",
      "text/plain": [
       "<Figure size 720x720 with 1 Axes>"
      ]
     },
     "metadata": {
      "needs_background": "light"
     },
     "output_type": "display_data"
    }
   ],
   "source": [
    "plt.rcParams['figure.figsize'] = (10,10)\n",
    "\n",
    "plt.scatter(result_table[\"Feature Count\"], result_table[\"Monetary Value Per Instance - Mean\"])\n",
    "plt.xlabel('Number of features', fontsize=16)\n",
    "plt.ylabel('Monetary Value Per Instance - Mean', fontsize=16)"
   ]
  },
  {
   "cell_type": "code",
   "execution_count": 29,
   "metadata": {},
   "outputs": [
    {
     "name": "stdout",
     "output_type": "stream",
     "text": [
      "SGDClassifier(alpha=0.0001, average=False, class_weight=None,\n",
      "       early_stopping=False, epsilon=0.1, eta0=0.0, fit_intercept=True,\n",
      "       l1_ratio=0.15, learning_rate='optimal', loss='perceptron',\n",
      "       max_iter=None, n_iter=None, n_iter_no_change=5, n_jobs=None,\n",
      "       penalty='l2', power_t=0.5, random_state=None, shuffle=True,\n",
      "       tol=None, validation_fraction=0.1, verbose=0, warm_start=False)\n",
      "['trustLevel' 'scannedLineItems' 'pricePerScannedLineItem'\n",
      " 'quantityModificationsPerScannedLineItem']\n",
      "{'learning_rate': 'optimal', 'loss': 'perceptron', 'penalty': 'l2'}\n"
     ]
    }
   ],
   "source": [
    "best_model = result_table.loc[result_table[\"Monetary Value Per Instance - Mean\"].argmax()][\"Raw Model\"]\n",
    "best_model_features = result_table.loc[result_table[\"Monetary Value Per Instance - Mean\"].argmax()][\"Features\"]\n",
    "best_parameters = result_table.loc[result_table[\"Monetary Value Per Instance - Mean\"].argmax()][\"Optimal Parameters\"]\n",
    "\n",
    "print(best_model)\n",
    "print(best_model_features)\n",
    "print(best_parameters)"
   ]
  },
  {
   "cell_type": "code",
   "execution_count": 30,
   "metadata": {},
   "outputs": [
    {
     "name": "stdout",
     "output_type": "stream",
     "text": [
      "True negative:  1481\n",
      "False positive:  294\n",
      "False negative:  0\n",
      "True positive:  104\n",
      "-6830 for 1879 instances in the test set\n",
      "-3.634912187333688 per instance in the test set\n"
     ]
    }
   ],
   "source": [
    "from sklearn.metrics import confusion_matrix\n",
    "\n",
    "def get_monetary_value(cm):\n",
    "        tn, fp, fn, tp = cm.ravel()\n",
    "        print(\"True negative: \", tn)\n",
    "        print(\"False positive: \", fp)\n",
    "        print(\"False negative: \", fn)\n",
    "        print(\"True positive: \", tp)\n",
    "        score = (-25)*fp + (-5)*fn + 5*tp\n",
    "        print(str(score) + \" for \" + str(sum(sum(cm))) + \" instances in the test set\")\n",
    "        print(str(score/sum(sum(cm))) + \" per instance in the test set\")\n",
    "        return score\n",
    "    \n",
    "cm = confusion_matrix(Y , best_model.predict(X[best_model_features]))\n",
    "\n",
    "monetary_value = get_monetary_value(cm)"
   ]
  }
 ],
 "metadata": {
  "kernelspec": {
   "display_name": "Python 3",
   "language": "python",
   "name": "python3"
  },
  "language_info": {
   "codemirror_mode": {
    "name": "ipython",
    "version": 3
   },
   "file_extension": ".py",
   "mimetype": "text/x-python",
   "name": "python",
   "nbconvert_exporter": "python",
   "pygments_lexer": "ipython3",
   "version": "3.7.3"
  }
 },
 "nbformat": 4,
 "nbformat_minor": 2
}
